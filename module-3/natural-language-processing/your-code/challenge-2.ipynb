{
 "cells": [
  {
   "cell_type": "markdown",
   "metadata": {},
   "source": [
    "# Challenge 2: Sentiment Analysis\n",
    "\n",
    "In this challenge we will learn sentiment analysis and practice performing sentiment analysis on Twitter tweets. \n",
    "\n",
    "## Introduction\n",
    "\n",
    "Sentiment analysis is to *systematically identify, extract, quantify, and study affective states and subjective information* based on texts ([reference](https://en.wikipedia.org/wiki/Sentiment_analysis)). In simple words, it's to understand whether a person is happy or unhappy in producing the piece of text. Why we (or rather, companies) care about sentiment in texts? It's because by understanding the sentiments in texts, we will be able to know if our customers are happy or unhappy about our products and services. If they are unhappy, the subsequent action is to figure out what have caused the unhappiness and make improvements.\n",
    "\n",
    "Basic sentiment analysis only understands the *positive* or *negative* (sometimes *neutral* too) polarities of the sentiment. More advanced sentiment analysis will also consider dimensions such as agreement, subjectivity, confidence, irony, and so on. In this challenge we will conduct the basic positive vs negative sentiment analysis based on real Twitter tweets.\n",
    "\n",
    "NLTK comes with a [sentiment analysis package](https://www.nltk.org/api/nltk.sentiment.html). This package is great for dummies to perform sentiment analysis because it requires only the textual data to make predictions. For example:\n",
    "\n",
    "```python\n",
    ">>> from nltk.sentiment.vader import SentimentIntensityAnalyzer\n",
    ">>> txt = \"Ironhack is a Global Tech School ranked num 2 worldwide.  ",
    " ",
    "Our mission is to help people transform their careers and join a thriving community of tech professionals that love what they do.\"\n",
    ">>> analyzer = SentimentIntensityAnalyzer()\n",
    ">>> analyzer.polarity_scores(txt)\n",
    "{'neg': 0.0, 'neu': 0.741, 'pos': 0.259, 'compound': 0.8442}\n",
    "```\n",
    "\n",
    "In this challenge, however, you will not use NLTK's sentiment analysis package because in your Machine Learning training in the past 2 weeks you have learned how to make predictions more accurate than that. The [tweets data](https://www.kaggle.com/kazanova/sentiment140) we will be using today are already coded for the positive/negative sentiment. You will be able to use the Naïve Bayes classifier you learned in the lesson to predict the sentiment of tweets based on the labels."
   ]
  },
  {
   "cell_type": "markdown",
   "metadata": {},
   "source": [
    "## Conducting Sentiment Analysis\n",
    "\n",
    "### Loading and Exploring Data\n",
    "\n",
    "The dataset we'll be using today is located in the lab directory named `Sentiment140.csv.zip`. You need to unzip it into a `.csv` file. Then in the cell below, load and explore the data.\n",
    "\n",
    "*Notes:* \n",
    "\n",
    "* The dataset was downloaded from [Kaggle](https://www.kaggle.com/kazanova/sentiment140). We made a slight change on the original data so that each column has a label.\n",
    "\n",
    "* The dataset is huuuuge (1.6m tweets). When you develop your data analysis codes, you can sample a subset of the data (e.g. 20k records) so that you will save a lot of time when you test your codes."
   ]
  },
  {
   "cell_type": "code",
   "execution_count": 1,
   "metadata": {},
   "outputs": [
    {
     "name": "stdout",
     "output_type": "stream",
     "text": [
      "(1599999, 6)\n"
     ]
    },
    {
     "data": {
      "text/html": [
       "<div>\n",
       "<style scoped>\n",
       "    .dataframe tbody tr th:only-of-type {\n",
       "        vertical-align: middle;\n",
       "    }\n",
       "\n",
       "    .dataframe tbody tr th {\n",
       "        vertical-align: top;\n",
       "    }\n",
       "\n",
       "    .dataframe thead th {\n",
       "        text-align: right;\n",
       "    }\n",
       "</style>\n",
       "<table border=\"1\" class=\"dataframe\">\n",
       "  <thead>\n",
       "    <tr style=\"text-align: right;\">\n",
       "      <th></th>\n",
       "      <th>0</th>\n",
       "      <th>1467810369</th>\n",
       "      <th>Mon Apr 06 22:19:45 PDT 2009</th>\n",
       "      <th>NO_QUERY</th>\n",
       "      <th>_TheSpecialOne_</th>\n",
       "      <th>@switchfoot http://twitpic.com/2y1zl - Awww, that's a bummer.  You shoulda got David Carr of Third Day to do it. ;D</th>\n",
       "    </tr>\n",
       "  </thead>\n",
       "  <tbody>\n",
       "    <tr>\n",
       "      <th>0</th>\n",
       "      <td>0</td>\n",
       "      <td>1467810672</td>\n",
       "      <td>Mon Apr 06 22:19:49 PDT 2009</td>\n",
       "      <td>NO_QUERY</td>\n",
       "      <td>scotthamilton</td>\n",
       "      <td>is upset that he can't update his Facebook by ...</td>\n",
       "    </tr>\n",
       "    <tr>\n",
       "      <th>1</th>\n",
       "      <td>0</td>\n",
       "      <td>1467810917</td>\n",
       "      <td>Mon Apr 06 22:19:53 PDT 2009</td>\n",
       "      <td>NO_QUERY</td>\n",
       "      <td>mattycus</td>\n",
       "      <td>@Kenichan I dived many times for the ball. Man...</td>\n",
       "    </tr>\n",
       "    <tr>\n",
       "      <th>2</th>\n",
       "      <td>0</td>\n",
       "      <td>1467811184</td>\n",
       "      <td>Mon Apr 06 22:19:57 PDT 2009</td>\n",
       "      <td>NO_QUERY</td>\n",
       "      <td>ElleCTF</td>\n",
       "      <td>my whole body feels itchy and like its on fire</td>\n",
       "    </tr>\n",
       "    <tr>\n",
       "      <th>3</th>\n",
       "      <td>0</td>\n",
       "      <td>1467811193</td>\n",
       "      <td>Mon Apr 06 22:19:57 PDT 2009</td>\n",
       "      <td>NO_QUERY</td>\n",
       "      <td>Karoli</td>\n",
       "      <td>@nationwideclass no, it's not behaving at all....</td>\n",
       "    </tr>\n",
       "    <tr>\n",
       "      <th>4</th>\n",
       "      <td>0</td>\n",
       "      <td>1467811372</td>\n",
       "      <td>Mon Apr 06 22:20:00 PDT 2009</td>\n",
       "      <td>NO_QUERY</td>\n",
       "      <td>joy_wolf</td>\n",
       "      <td>@Kwesidei not the whole crew</td>\n",
       "    </tr>\n",
       "  </tbody>\n",
       "</table>\n",
       "</div>"
      ],
      "text/plain": [
       "   0  1467810369  Mon Apr 06 22:19:45 PDT 2009  NO_QUERY _TheSpecialOne_  \\\n",
       "0  0  1467810672  Mon Apr 06 22:19:49 PDT 2009  NO_QUERY   scotthamilton   \n",
       "1  0  1467810917  Mon Apr 06 22:19:53 PDT 2009  NO_QUERY        mattycus   \n",
       "2  0  1467811184  Mon Apr 06 22:19:57 PDT 2009  NO_QUERY         ElleCTF   \n",
       "3  0  1467811193  Mon Apr 06 22:19:57 PDT 2009  NO_QUERY          Karoli   \n",
       "4  0  1467811372  Mon Apr 06 22:20:00 PDT 2009  NO_QUERY        joy_wolf   \n",
       "\n",
       "  @switchfoot http://twitpic.com/2y1zl - Awww, that's a bummer.  You shoulda got David Carr of Third Day to do it. ;D  \n",
       "0  is upset that he can't update his Facebook by ...                                                                   \n",
       "1  @Kenichan I dived many times for the ball. Man...                                                                   \n",
       "2    my whole body feels itchy and like its on fire                                                                    \n",
       "3  @nationwideclass no, it's not behaving at all....                                                                   \n",
       "4                      @Kwesidei not the whole crew                                                                    "
      ]
     },
     "execution_count": 1,
     "metadata": {},
     "output_type": "execute_result"
    }
   ],
   "source": [
    "# your code here\n",
    "\n",
    "import pandas as pd\n",
    "\n",
    "dataset = pd.read_csv('/Users/manuelaquino/Bootcamp/dataptmad1120/module-3/natural-language-processing/data/training.1600000.processed.noemoticon.csv')\n",
    "print(dataset.shape)\n",
    "dataset.head()"
   ]
  },
  {
   "cell_type": "code",
   "execution_count": 2,
   "metadata": {},
   "outputs": [
    {
     "data": {
      "text/plain": [
       "(20000, 6)"
      ]
     },
     "execution_count": 2,
     "metadata": {},
     "output_type": "execute_result"
    }
   ],
   "source": [
    "dataset_sample = dataset.sample(n=20000)\n",
    "dataset_sample.shape"
   ]
  },
  {
   "cell_type": "code",
   "execution_count": 3,
   "metadata": {},
   "outputs": [],
   "source": [
    "dataset_sample.to_csv('/Users/manuelaquino/Bootcamp/dataptmad1120/module-3/natural-language-processing/data/dataset_sample.csv')"
   ]
  },
  {
   "cell_type": "code",
   "execution_count": 4,
   "metadata": {},
   "outputs": [
    {
     "data": {
      "text/html": [
       "<div>\n",
       "<style scoped>\n",
       "    .dataframe tbody tr th:only-of-type {\n",
       "        vertical-align: middle;\n",
       "    }\n",
       "\n",
       "    .dataframe tbody tr th {\n",
       "        vertical-align: top;\n",
       "    }\n",
       "\n",
       "    .dataframe thead th {\n",
       "        text-align: right;\n",
       "    }\n",
       "</style>\n",
       "<table border=\"1\" class=\"dataframe\">\n",
       "  <thead>\n",
       "    <tr style=\"text-align: right;\">\n",
       "      <th></th>\n",
       "      <th>0</th>\n",
       "      <th>1467810369</th>\n",
       "      <th>Mon Apr 06 22:19:45 PDT 2009</th>\n",
       "      <th>NO_QUERY</th>\n",
       "      <th>_TheSpecialOne_</th>\n",
       "      <th>@switchfoot http://twitpic.com/2y1zl - Awww, that's a bummer.  You shoulda got David Carr of Third Day to do it. ;D</th>\n",
       "    </tr>\n",
       "  </thead>\n",
       "  <tbody>\n",
       "    <tr>\n",
       "      <th>972491</th>\n",
       "      <td>4</td>\n",
       "      <td>1832580452</td>\n",
       "      <td>Sun May 17 21:03:18 PDT 2009</td>\n",
       "      <td>NO_QUERY</td>\n",
       "      <td>TMinor91</td>\n",
       "      <td>@starbucks For the first time today, had a ski...</td>\n",
       "    </tr>\n",
       "    <tr>\n",
       "      <th>816744</th>\n",
       "      <td>4</td>\n",
       "      <td>1551524542</td>\n",
       "      <td>Sat Apr 18 09:17:05 PDT 2009</td>\n",
       "      <td>NO_QUERY</td>\n",
       "      <td>netfairy23</td>\n",
       "      <td>Prolly goin out 2nite, yay! Gonna see No More ...</td>\n",
       "    </tr>\n",
       "    <tr>\n",
       "      <th>83615</th>\n",
       "      <td>0</td>\n",
       "      <td>1753392676</td>\n",
       "      <td>Sun May 10 01:25:01 PDT 2009</td>\n",
       "      <td>NO_QUERY</td>\n",
       "      <td>fryfan20</td>\n",
       "      <td>I miss the Moderator on the fry forum, non of ...</td>\n",
       "    </tr>\n",
       "    <tr>\n",
       "      <th>870040</th>\n",
       "      <td>4</td>\n",
       "      <td>1678267690</td>\n",
       "      <td>Sat May 02 06:07:59 PDT 2009</td>\n",
       "      <td>NO_QUERY</td>\n",
       "      <td>jhgagle</td>\n",
       "      <td>@Pastor_T meh...it's just a C5</td>\n",
       "    </tr>\n",
       "    <tr>\n",
       "      <th>851345</th>\n",
       "      <td>4</td>\n",
       "      <td>1565799716</td>\n",
       "      <td>Mon Apr 20 07:34:46 PDT 2009</td>\n",
       "      <td>NO_QUERY</td>\n",
       "      <td>WLShafor</td>\n",
       "      <td>@kevinrose Tgiers Milk sounds good</td>\n",
       "    </tr>\n",
       "    <tr>\n",
       "      <th>...</th>\n",
       "      <td>...</td>\n",
       "      <td>...</td>\n",
       "      <td>...</td>\n",
       "      <td>...</td>\n",
       "      <td>...</td>\n",
       "      <td>...</td>\n",
       "    </tr>\n",
       "    <tr>\n",
       "      <th>609565</th>\n",
       "      <td>0</td>\n",
       "      <td>2223766130</td>\n",
       "      <td>Thu Jun 18 08:41:04 PDT 2009</td>\n",
       "      <td>NO_QUERY</td>\n",
       "      <td>lalikesmusic</td>\n",
       "      <td>woke up really crappy  hoping today is a bette...</td>\n",
       "    </tr>\n",
       "    <tr>\n",
       "      <th>978745</th>\n",
       "      <td>4</td>\n",
       "      <td>1833865856</td>\n",
       "      <td>Mon May 18 00:44:19 PDT 2009</td>\n",
       "      <td>NO_QUERY</td>\n",
       "      <td>DeliciousLunch</td>\n",
       "      <td>@Col_RFTL Well, we've been discussing Shrews d...</td>\n",
       "    </tr>\n",
       "    <tr>\n",
       "      <th>408695</th>\n",
       "      <td>0</td>\n",
       "      <td>2059463939</td>\n",
       "      <td>Sat Jun 06 16:59:20 PDT 2009</td>\n",
       "      <td>NO_QUERY</td>\n",
       "      <td>andretouch</td>\n",
       "      <td>Gay guys are mean to me  or they're just bitch...</td>\n",
       "    </tr>\n",
       "    <tr>\n",
       "      <th>40959</th>\n",
       "      <td>0</td>\n",
       "      <td>1573921698</td>\n",
       "      <td>Tue Apr 21 03:29:12 PDT 2009</td>\n",
       "      <td>NO_QUERY</td>\n",
       "      <td>cittiecait</td>\n",
       "      <td>how come i never win anything: #lg15 #harpersg...</td>\n",
       "    </tr>\n",
       "    <tr>\n",
       "      <th>954008</th>\n",
       "      <td>4</td>\n",
       "      <td>1824752470</td>\n",
       "      <td>Sun May 17 02:46:27 PDT 2009</td>\n",
       "      <td>NO_QUERY</td>\n",
       "      <td>sentral</td>\n",
       "      <td>Woohoo.. The Da Vinci Code on Pro7 this evenin...</td>\n",
       "    </tr>\n",
       "  </tbody>\n",
       "</table>\n",
       "<p>20000 rows × 6 columns</p>\n",
       "</div>"
      ],
      "text/plain": [
       "        0  1467810369  Mon Apr 06 22:19:45 PDT 2009  NO_QUERY _TheSpecialOne_  \\\n",
       "972491  4  1832580452  Sun May 17 21:03:18 PDT 2009  NO_QUERY        TMinor91   \n",
       "816744  4  1551524542  Sat Apr 18 09:17:05 PDT 2009  NO_QUERY      netfairy23   \n",
       "83615   0  1753392676  Sun May 10 01:25:01 PDT 2009  NO_QUERY        fryfan20   \n",
       "870040  4  1678267690  Sat May 02 06:07:59 PDT 2009  NO_QUERY         jhgagle   \n",
       "851345  4  1565799716  Mon Apr 20 07:34:46 PDT 2009  NO_QUERY        WLShafor   \n",
       "...    ..         ...                           ...       ...             ...   \n",
       "609565  0  2223766130  Thu Jun 18 08:41:04 PDT 2009  NO_QUERY    lalikesmusic   \n",
       "978745  4  1833865856  Mon May 18 00:44:19 PDT 2009  NO_QUERY  DeliciousLunch   \n",
       "408695  0  2059463939  Sat Jun 06 16:59:20 PDT 2009  NO_QUERY      andretouch   \n",
       "40959   0  1573921698  Tue Apr 21 03:29:12 PDT 2009  NO_QUERY      cittiecait   \n",
       "954008  4  1824752470  Sun May 17 02:46:27 PDT 2009  NO_QUERY         sentral   \n",
       "\n",
       "       @switchfoot http://twitpic.com/2y1zl - Awww, that's a bummer.  You shoulda got David Carr of Third Day to do it. ;D  \n",
       "972491  @starbucks For the first time today, had a ski...                                                                   \n",
       "816744  Prolly goin out 2nite, yay! Gonna see No More ...                                                                   \n",
       "83615   I miss the Moderator on the fry forum, non of ...                                                                   \n",
       "870040                    @Pastor_T meh...it's just a C5                                                                    \n",
       "851345                @kevinrose Tgiers Milk sounds good                                                                    \n",
       "...                                                   ...                                                                   \n",
       "609565  woke up really crappy  hoping today is a bette...                                                                   \n",
       "978745  @Col_RFTL Well, we've been discussing Shrews d...                                                                   \n",
       "408695  Gay guys are mean to me  or they're just bitch...                                                                   \n",
       "40959   how come i never win anything: #lg15 #harpersg...                                                                   \n",
       "954008  Woohoo.. The Da Vinci Code on Pro7 this evenin...                                                                   \n",
       "\n",
       "[20000 rows x 6 columns]"
      ]
     },
     "execution_count": 4,
     "metadata": {},
     "output_type": "execute_result"
    }
   ],
   "source": [
    "dataset_sample"
   ]
  },
  {
   "cell_type": "code",
   "execution_count": 5,
   "metadata": {},
   "outputs": [],
   "source": [
    "columns_names = ['target', 'id', 'date', 'flag', 'user', 'text' ]"
   ]
  },
  {
   "cell_type": "code",
   "execution_count": 6,
   "metadata": {},
   "outputs": [
    {
     "data": {
      "text/html": [
       "<div>\n",
       "<style scoped>\n",
       "    .dataframe tbody tr th:only-of-type {\n",
       "        vertical-align: middle;\n",
       "    }\n",
       "\n",
       "    .dataframe tbody tr th {\n",
       "        vertical-align: top;\n",
       "    }\n",
       "\n",
       "    .dataframe thead th {\n",
       "        text-align: right;\n",
       "    }\n",
       "</style>\n",
       "<table border=\"1\" class=\"dataframe\">\n",
       "  <thead>\n",
       "    <tr style=\"text-align: right;\">\n",
       "      <th></th>\n",
       "      <th>target</th>\n",
       "      <th>id</th>\n",
       "      <th>date</th>\n",
       "      <th>flag</th>\n",
       "      <th>user</th>\n",
       "      <th>text</th>\n",
       "    </tr>\n",
       "  </thead>\n",
       "  <tbody>\n",
       "    <tr>\n",
       "      <th>972491</th>\n",
       "      <td>4</td>\n",
       "      <td>1832580452</td>\n",
       "      <td>Sun May 17 21:03:18 PDT 2009</td>\n",
       "      <td>NO_QUERY</td>\n",
       "      <td>TMinor91</td>\n",
       "      <td>@starbucks For the first time today, had a ski...</td>\n",
       "    </tr>\n",
       "    <tr>\n",
       "      <th>816744</th>\n",
       "      <td>4</td>\n",
       "      <td>1551524542</td>\n",
       "      <td>Sat Apr 18 09:17:05 PDT 2009</td>\n",
       "      <td>NO_QUERY</td>\n",
       "      <td>netfairy23</td>\n",
       "      <td>Prolly goin out 2nite, yay! Gonna see No More ...</td>\n",
       "    </tr>\n",
       "    <tr>\n",
       "      <th>83615</th>\n",
       "      <td>0</td>\n",
       "      <td>1753392676</td>\n",
       "      <td>Sun May 10 01:25:01 PDT 2009</td>\n",
       "      <td>NO_QUERY</td>\n",
       "      <td>fryfan20</td>\n",
       "      <td>I miss the Moderator on the fry forum, non of ...</td>\n",
       "    </tr>\n",
       "    <tr>\n",
       "      <th>870040</th>\n",
       "      <td>4</td>\n",
       "      <td>1678267690</td>\n",
       "      <td>Sat May 02 06:07:59 PDT 2009</td>\n",
       "      <td>NO_QUERY</td>\n",
       "      <td>jhgagle</td>\n",
       "      <td>@Pastor_T meh...it's just a C5</td>\n",
       "    </tr>\n",
       "    <tr>\n",
       "      <th>851345</th>\n",
       "      <td>4</td>\n",
       "      <td>1565799716</td>\n",
       "      <td>Mon Apr 20 07:34:46 PDT 2009</td>\n",
       "      <td>NO_QUERY</td>\n",
       "      <td>WLShafor</td>\n",
       "      <td>@kevinrose Tgiers Milk sounds good</td>\n",
       "    </tr>\n",
       "    <tr>\n",
       "      <th>...</th>\n",
       "      <td>...</td>\n",
       "      <td>...</td>\n",
       "      <td>...</td>\n",
       "      <td>...</td>\n",
       "      <td>...</td>\n",
       "      <td>...</td>\n",
       "    </tr>\n",
       "    <tr>\n",
       "      <th>609565</th>\n",
       "      <td>0</td>\n",
       "      <td>2223766130</td>\n",
       "      <td>Thu Jun 18 08:41:04 PDT 2009</td>\n",
       "      <td>NO_QUERY</td>\n",
       "      <td>lalikesmusic</td>\n",
       "      <td>woke up really crappy  hoping today is a bette...</td>\n",
       "    </tr>\n",
       "    <tr>\n",
       "      <th>978745</th>\n",
       "      <td>4</td>\n",
       "      <td>1833865856</td>\n",
       "      <td>Mon May 18 00:44:19 PDT 2009</td>\n",
       "      <td>NO_QUERY</td>\n",
       "      <td>DeliciousLunch</td>\n",
       "      <td>@Col_RFTL Well, we've been discussing Shrews d...</td>\n",
       "    </tr>\n",
       "    <tr>\n",
       "      <th>408695</th>\n",
       "      <td>0</td>\n",
       "      <td>2059463939</td>\n",
       "      <td>Sat Jun 06 16:59:20 PDT 2009</td>\n",
       "      <td>NO_QUERY</td>\n",
       "      <td>andretouch</td>\n",
       "      <td>Gay guys are mean to me  or they're just bitch...</td>\n",
       "    </tr>\n",
       "    <tr>\n",
       "      <th>40959</th>\n",
       "      <td>0</td>\n",
       "      <td>1573921698</td>\n",
       "      <td>Tue Apr 21 03:29:12 PDT 2009</td>\n",
       "      <td>NO_QUERY</td>\n",
       "      <td>cittiecait</td>\n",
       "      <td>how come i never win anything: #lg15 #harpersg...</td>\n",
       "    </tr>\n",
       "    <tr>\n",
       "      <th>954008</th>\n",
       "      <td>4</td>\n",
       "      <td>1824752470</td>\n",
       "      <td>Sun May 17 02:46:27 PDT 2009</td>\n",
       "      <td>NO_QUERY</td>\n",
       "      <td>sentral</td>\n",
       "      <td>Woohoo.. The Da Vinci Code on Pro7 this evenin...</td>\n",
       "    </tr>\n",
       "  </tbody>\n",
       "</table>\n",
       "<p>20000 rows × 6 columns</p>\n",
       "</div>"
      ],
      "text/plain": [
       "        target          id                          date      flag  \\\n",
       "972491       4  1832580452  Sun May 17 21:03:18 PDT 2009  NO_QUERY   \n",
       "816744       4  1551524542  Sat Apr 18 09:17:05 PDT 2009  NO_QUERY   \n",
       "83615        0  1753392676  Sun May 10 01:25:01 PDT 2009  NO_QUERY   \n",
       "870040       4  1678267690  Sat May 02 06:07:59 PDT 2009  NO_QUERY   \n",
       "851345       4  1565799716  Mon Apr 20 07:34:46 PDT 2009  NO_QUERY   \n",
       "...        ...         ...                           ...       ...   \n",
       "609565       0  2223766130  Thu Jun 18 08:41:04 PDT 2009  NO_QUERY   \n",
       "978745       4  1833865856  Mon May 18 00:44:19 PDT 2009  NO_QUERY   \n",
       "408695       0  2059463939  Sat Jun 06 16:59:20 PDT 2009  NO_QUERY   \n",
       "40959        0  1573921698  Tue Apr 21 03:29:12 PDT 2009  NO_QUERY   \n",
       "954008       4  1824752470  Sun May 17 02:46:27 PDT 2009  NO_QUERY   \n",
       "\n",
       "                  user                                               text  \n",
       "972491        TMinor91  @starbucks For the first time today, had a ski...  \n",
       "816744      netfairy23  Prolly goin out 2nite, yay! Gonna see No More ...  \n",
       "83615         fryfan20  I miss the Moderator on the fry forum, non of ...  \n",
       "870040         jhgagle                    @Pastor_T meh...it's just a C5   \n",
       "851345        WLShafor                @kevinrose Tgiers Milk sounds good   \n",
       "...                ...                                                ...  \n",
       "609565    lalikesmusic  woke up really crappy  hoping today is a bette...  \n",
       "978745  DeliciousLunch  @Col_RFTL Well, we've been discussing Shrews d...  \n",
       "408695      andretouch  Gay guys are mean to me  or they're just bitch...  \n",
       "40959       cittiecait  how come i never win anything: #lg15 #harpersg...  \n",
       "954008         sentral  Woohoo.. The Da Vinci Code on Pro7 this evenin...  \n",
       "\n",
       "[20000 rows x 6 columns]"
      ]
     },
     "execution_count": 6,
     "metadata": {},
     "output_type": "execute_result"
    }
   ],
   "source": [
    "dataset_sample.columns = columns_names\n",
    "dataset_sample"
   ]
  },
  {
   "cell_type": "code",
   "execution_count": 7,
   "metadata": {},
   "outputs": [
    {
     "data": {
      "text/plain": [
       "Int64Index([ 972491,  816744,   83615,  870040,  851345,  725762, 1161958,\n",
       "             776949,  367049,  356841,\n",
       "            ...\n",
       "            1133504, 1327834,  346677, 1011101, 1525979,  609565,  978745,\n",
       "             408695,   40959,  954008],\n",
       "           dtype='int64', length=20000)"
      ]
     },
     "execution_count": 7,
     "metadata": {},
     "output_type": "execute_result"
    }
   ],
   "source": [
    "dataset_sample.index"
   ]
  },
  {
   "cell_type": "markdown",
   "metadata": {},
   "source": [
    "### Prepare Textual Data for Sentiment Analysis\n",
    "\n",
    "Now, apply the functions you have written in Challenge 1 to your whole data set. These functions include:\n",
    "\n",
    "* `clean_up()`\n",
    "\n",
    "* `tokenize()`\n",
    "\n",
    "* `stem_and_lemmatize()`\n",
    "\n",
    "* `remove_stopwords()`\n",
    "\n",
    "Create a new column called `text_processed` in the dataframe to contain the processed data. At the end, your `text_processed` column should contain lists of word tokens that are cleaned up. Your data should look like below:\n",
    "\n",
    "![Processed Data](data-cleaning-results.png)"
   ]
  },
  {
   "cell_type": "code",
   "execution_count": 8,
   "metadata": {},
   "outputs": [
    {
     "name": "stderr",
     "output_type": "stream",
     "text": [
      "[nltk_data] Downloading package punkt to\n",
      "[nltk_data]     /Users/manuelaquino/nltk_data...\n",
      "[nltk_data]   Package punkt is already up-to-date!\n",
      "[nltk_data] Downloading package stopwords to\n",
      "[nltk_data]     /Users/manuelaquino/nltk_data...\n",
      "[nltk_data]   Package stopwords is already up-to-date!\n"
     ]
    }
   ],
   "source": [
    "import re\n",
    "\n",
    "def clean_up(s):\n",
    "    clean = re.sub('[ ]+',' ', re.sub('(http(.*) )|([^a-z ])',' ',s.lower()).lstrip().rstrip())\n",
    "    return clean\n",
    "\n",
    "\n",
    "import spacy\n",
    "import en_core_web_sm\n",
    "\n",
    "def stem_and_lemmatize(l):\n",
    "    nlp = spacy.load('en_core_web_sm')\n",
    "    tokens = nlp(l)\n",
    "    return str(tokens)\n",
    "\n",
    "import nltk\n",
    "nltk.download('punkt')\n",
    "nltk.download('stopwords')\n",
    "from nltk.corpus import stopwords\n",
    "from nltk.tokenize import word_tokenize\n",
    "\n",
    "\n",
    "def remove_stopwords(text_string):\n",
    "    stop_words = set(stopwords.words('english'))\n",
    "    word_tokens = word_tokenize(text_string)\n",
    "    filtered = [w for w in word_tokens if not w in stop_words]\n",
    "    return filtered"
   ]
  },
  {
   "cell_type": "code",
   "execution_count": 9,
   "metadata": {},
   "outputs": [],
   "source": [
    "# your code here\n",
    "\n",
    "def bag_of_words(text):\n",
    "    a = clean_up(text)\n",
    "    b = stem_and_lemmatize(a)\n",
    "    c = remove_stopwords(b)\n",
    "    return c"
   ]
  },
  {
   "cell_type": "code",
   "execution_count": 10,
   "metadata": {},
   "outputs": [
    {
     "data": {
      "text/plain": [
       "['ironhack', 'q', 'website']"
      ]
     },
     "execution_count": 10,
     "metadata": {},
     "output_type": "execute_result"
    }
   ],
   "source": [
    "bag_of_words(\"\"\"@Ironhack's-#Q website 776-is http://ironhack.com [(2018)]\")\"\"\")"
   ]
  },
  {
   "cell_type": "markdown",
   "metadata": {},
   "source": [
    "### Creating Bag of Words\n",
    "\n",
    "The purpose of this step is to create a [bag of words](https://en.wikipedia.org/wiki/Bag-of-words_model) from the processed data. The bag of words contains all the unique words in your whole text body (a.k.a. *corpus*) with the number of occurrence of each word. It will allow you to understand which words are the most important features across the whole corpus.\n",
    "\n",
    "Also, you can imagine you will have a massive set of words. The less important words (i.e. those of very low number of occurrence) do not contribute much to the sentiment. Therefore, you only need to use the most important words to build your feature set in the next step. In our case, we will use the top 5,000 words with the highest frequency to build the features.\n",
    "\n",
    "In the cell below, combine all the words in `text_processed` and calculate the frequency distribution of all words. A convenient library to calculate the term frequency distribution is NLTK's `FreqDist` class ([documentation](https://www.nltk.org/api/nltk.html#module-nltk.probability)). Then select the top 5,000 words from the frequency distribution."
   ]
  },
  {
   "cell_type": "code",
   "execution_count": 11,
   "metadata": {},
   "outputs": [
    {
     "name": "stderr",
     "output_type": "stream",
     "text": [
      "100%|██████████| 20000/20000 [4:22:58<00:00,  1.27it/s]     \n"
     ]
    }
   ],
   "source": [
    "# your code here\n",
    "\n",
    "from tqdm import tqdm\n",
    "tqdm.pandas()\n",
    "\n",
    "dataset_sample['text_processed'] = dataset_sample['text'].progress_apply(lambda x: bag_of_words(x))"
   ]
  },
  {
   "cell_type": "code",
   "execution_count": 12,
   "metadata": {},
   "outputs": [
    {
     "data": {
      "text/html": [
       "<div>\n",
       "<style scoped>\n",
       "    .dataframe tbody tr th:only-of-type {\n",
       "        vertical-align: middle;\n",
       "    }\n",
       "\n",
       "    .dataframe tbody tr th {\n",
       "        vertical-align: top;\n",
       "    }\n",
       "\n",
       "    .dataframe thead th {\n",
       "        text-align: right;\n",
       "    }\n",
       "</style>\n",
       "<table border=\"1\" class=\"dataframe\">\n",
       "  <thead>\n",
       "    <tr style=\"text-align: right;\">\n",
       "      <th></th>\n",
       "      <th>target</th>\n",
       "      <th>id</th>\n",
       "      <th>date</th>\n",
       "      <th>flag</th>\n",
       "      <th>user</th>\n",
       "      <th>text</th>\n",
       "      <th>text_processed</th>\n",
       "    </tr>\n",
       "  </thead>\n",
       "  <tbody>\n",
       "    <tr>\n",
       "      <th>972491</th>\n",
       "      <td>4</td>\n",
       "      <td>1832580452</td>\n",
       "      <td>Sun May 17 21:03:18 PDT 2009</td>\n",
       "      <td>NO_QUERY</td>\n",
       "      <td>TMinor91</td>\n",
       "      <td>@starbucks For the first time today, had a ski...</td>\n",
       "      <td>[starbucks, first, time, today, skinny, mocha,...</td>\n",
       "    </tr>\n",
       "    <tr>\n",
       "      <th>816744</th>\n",
       "      <td>4</td>\n",
       "      <td>1551524542</td>\n",
       "      <td>Sat Apr 18 09:17:05 PDT 2009</td>\n",
       "      <td>NO_QUERY</td>\n",
       "      <td>netfairy23</td>\n",
       "      <td>Prolly goin out 2nite, yay! Gonna see No More ...</td>\n",
       "      <td>[prolly, goin, nite, yay, gon, na, see, goodby...</td>\n",
       "    </tr>\n",
       "    <tr>\n",
       "      <th>83615</th>\n",
       "      <td>0</td>\n",
       "      <td>1753392676</td>\n",
       "      <td>Sun May 10 01:25:01 PDT 2009</td>\n",
       "      <td>NO_QUERY</td>\n",
       "      <td>fryfan20</td>\n",
       "      <td>I miss the Moderator on the fry forum, non of ...</td>\n",
       "      <td>[miss, moderator, fry, forum, non, seem, come,...</td>\n",
       "    </tr>\n",
       "    <tr>\n",
       "      <th>870040</th>\n",
       "      <td>4</td>\n",
       "      <td>1678267690</td>\n",
       "      <td>Sat May 02 06:07:59 PDT 2009</td>\n",
       "      <td>NO_QUERY</td>\n",
       "      <td>jhgagle</td>\n",
       "      <td>@Pastor_T meh...it's just a C5</td>\n",
       "      <td>[pastor, meh, c]</td>\n",
       "    </tr>\n",
       "    <tr>\n",
       "      <th>851345</th>\n",
       "      <td>4</td>\n",
       "      <td>1565799716</td>\n",
       "      <td>Mon Apr 20 07:34:46 PDT 2009</td>\n",
       "      <td>NO_QUERY</td>\n",
       "      <td>WLShafor</td>\n",
       "      <td>@kevinrose Tgiers Milk sounds good</td>\n",
       "      <td>[kevinrose, tgiers, milk, sounds, good]</td>\n",
       "    </tr>\n",
       "    <tr>\n",
       "      <th>...</th>\n",
       "      <td>...</td>\n",
       "      <td>...</td>\n",
       "      <td>...</td>\n",
       "      <td>...</td>\n",
       "      <td>...</td>\n",
       "      <td>...</td>\n",
       "      <td>...</td>\n",
       "    </tr>\n",
       "    <tr>\n",
       "      <th>609565</th>\n",
       "      <td>0</td>\n",
       "      <td>2223766130</td>\n",
       "      <td>Thu Jun 18 08:41:04 PDT 2009</td>\n",
       "      <td>NO_QUERY</td>\n",
       "      <td>lalikesmusic</td>\n",
       "      <td>woke up really crappy  hoping today is a bette...</td>\n",
       "      <td>[woke, really, crappy, hoping, today, better, ...</td>\n",
       "    </tr>\n",
       "    <tr>\n",
       "      <th>978745</th>\n",
       "      <td>4</td>\n",
       "      <td>1833865856</td>\n",
       "      <td>Mon May 18 00:44:19 PDT 2009</td>\n",
       "      <td>NO_QUERY</td>\n",
       "      <td>DeliciousLunch</td>\n",
       "      <td>@Col_RFTL Well, we've been discussing Shrews d...</td>\n",
       "      <td>[col, rftl, well, discussing, shrews, deliveri...</td>\n",
       "    </tr>\n",
       "    <tr>\n",
       "      <th>408695</th>\n",
       "      <td>0</td>\n",
       "      <td>2059463939</td>\n",
       "      <td>Sat Jun 06 16:59:20 PDT 2009</td>\n",
       "      <td>NO_QUERY</td>\n",
       "      <td>andretouch</td>\n",
       "      <td>Gay guys are mean to me  or they're just bitch...</td>\n",
       "      <td>[gay, guys, mean, bitches, whyyy]</td>\n",
       "    </tr>\n",
       "    <tr>\n",
       "      <th>40959</th>\n",
       "      <td>0</td>\n",
       "      <td>1573921698</td>\n",
       "      <td>Tue Apr 21 03:29:12 PDT 2009</td>\n",
       "      <td>NO_QUERY</td>\n",
       "      <td>cittiecait</td>\n",
       "      <td>how come i never win anything: #lg15 #harpersg...</td>\n",
       "      <td>[come, never, win, anything, lg, harpersglobe,...</td>\n",
       "    </tr>\n",
       "    <tr>\n",
       "      <th>954008</th>\n",
       "      <td>4</td>\n",
       "      <td>1824752470</td>\n",
       "      <td>Sun May 17 02:46:27 PDT 2009</td>\n",
       "      <td>NO_QUERY</td>\n",
       "      <td>sentral</td>\n",
       "      <td>Woohoo.. The Da Vinci Code on Pro7 this evenin...</td>\n",
       "      <td>[woohoo, da, vinci, code, pro, evening, otr]</td>\n",
       "    </tr>\n",
       "  </tbody>\n",
       "</table>\n",
       "<p>20000 rows × 7 columns</p>\n",
       "</div>"
      ],
      "text/plain": [
       "        target          id                          date      flag  \\\n",
       "972491       4  1832580452  Sun May 17 21:03:18 PDT 2009  NO_QUERY   \n",
       "816744       4  1551524542  Sat Apr 18 09:17:05 PDT 2009  NO_QUERY   \n",
       "83615        0  1753392676  Sun May 10 01:25:01 PDT 2009  NO_QUERY   \n",
       "870040       4  1678267690  Sat May 02 06:07:59 PDT 2009  NO_QUERY   \n",
       "851345       4  1565799716  Mon Apr 20 07:34:46 PDT 2009  NO_QUERY   \n",
       "...        ...         ...                           ...       ...   \n",
       "609565       0  2223766130  Thu Jun 18 08:41:04 PDT 2009  NO_QUERY   \n",
       "978745       4  1833865856  Mon May 18 00:44:19 PDT 2009  NO_QUERY   \n",
       "408695       0  2059463939  Sat Jun 06 16:59:20 PDT 2009  NO_QUERY   \n",
       "40959        0  1573921698  Tue Apr 21 03:29:12 PDT 2009  NO_QUERY   \n",
       "954008       4  1824752470  Sun May 17 02:46:27 PDT 2009  NO_QUERY   \n",
       "\n",
       "                  user                                               text  \\\n",
       "972491        TMinor91  @starbucks For the first time today, had a ski...   \n",
       "816744      netfairy23  Prolly goin out 2nite, yay! Gonna see No More ...   \n",
       "83615         fryfan20  I miss the Moderator on the fry forum, non of ...   \n",
       "870040         jhgagle                    @Pastor_T meh...it's just a C5    \n",
       "851345        WLShafor                @kevinrose Tgiers Milk sounds good    \n",
       "...                ...                                                ...   \n",
       "609565    lalikesmusic  woke up really crappy  hoping today is a bette...   \n",
       "978745  DeliciousLunch  @Col_RFTL Well, we've been discussing Shrews d...   \n",
       "408695      andretouch  Gay guys are mean to me  or they're just bitch...   \n",
       "40959       cittiecait  how come i never win anything: #lg15 #harpersg...   \n",
       "954008         sentral  Woohoo.. The Da Vinci Code on Pro7 this evenin...   \n",
       "\n",
       "                                           text_processed  \n",
       "972491  [starbucks, first, time, today, skinny, mocha,...  \n",
       "816744  [prolly, goin, nite, yay, gon, na, see, goodby...  \n",
       "83615   [miss, moderator, fry, forum, non, seem, come,...  \n",
       "870040                                   [pastor, meh, c]  \n",
       "851345            [kevinrose, tgiers, milk, sounds, good]  \n",
       "...                                                   ...  \n",
       "609565  [woke, really, crappy, hoping, today, better, ...  \n",
       "978745  [col, rftl, well, discussing, shrews, deliveri...  \n",
       "408695                  [gay, guys, mean, bitches, whyyy]  \n",
       "40959   [come, never, win, anything, lg, harpersglobe,...  \n",
       "954008       [woohoo, da, vinci, code, pro, evening, otr]  \n",
       "\n",
       "[20000 rows x 7 columns]"
      ]
     },
     "execution_count": 12,
     "metadata": {},
     "output_type": "execute_result"
    }
   ],
   "source": [
    "dataset_sample"
   ]
  },
  {
   "cell_type": "code",
   "execution_count": 14,
   "metadata": {},
   "outputs": [],
   "source": [
    "dataset_sample_with_bow = dataset_sample.copy()"
   ]
  },
  {
   "cell_type": "code",
   "execution_count": 16,
   "metadata": {},
   "outputs": [],
   "source": [
    "dataset_sample_with_bow.to_csv('/Users/manuelaquino/Bootcamp/dataptmad1120/module-3/natural-language-processing/data/dataset_sample_with_bow.csv')"
   ]
  },
  {
   "cell_type": "code",
   "execution_count": 20,
   "metadata": {},
   "outputs": [
    {
     "name": "stderr",
     "output_type": "stream",
     "text": [
      "100%|██████████| 20000/20000 [00:00<00:00, 355339.58it/s]\n"
     ]
    },
    {
     "name": "stdout",
     "output_type": "stream",
     "text": [
      "[('day', 1120), ('good', 1114), ('get', 996), ('like', 954), ('got', 887), ('go', 878), ('work', 854), ('today', 852), ('quot', 825), ('going', 781), ('love', 778), ('time', 737), ('lol', 736), ('back', 718), ('u', 689), ('know', 659), ('one', 654), ('im', 638), ('amp', 625), ('really', 612), ('still', 582), ('see', 561), ('think', 551), ('night', 538), ('home', 523), ('well', 519), ('oh', 513), ('na', 511), ('thanks', 506), ('want', 501), ('new', 495), ('much', 467), ('miss', 462), ('morning', 452), ('http', 439), ('last', 432), ('need', 421), ('tomorrow', 402), ('great', 398), ('hope', 390), ('twitter', 386), ('haha', 384), ('feel', 381), ('sad', 359), ('fun', 357), ('tonight', 353), ('right', 348), ('com', 346), ('wish', 340), ('sleep', 337), ('bad', 336), ('sorry', 335), ('happy', 327), ('come', 321), ('though', 321), ('would', 311), ('yeah', 305), ('week', 300), ('getting', 297), ('nice', 292), ('bed', 291), ('better', 289), ('gon', 289), ('make', 289), ('way', 284), ('watching', 282), ('wait', 274), ('people', 264), ('weekend', 263), ('yes', 258), ('x', 258), ('hate', 253), ('awesome', 249), ('could', 248), ('school', 246), ('next', 246), ('soon', 245), ('days', 244), ('even', 242), ('everyone', 239), ('hey', 232), ('lt', 231), ('long', 230), ('say', 226), ('working', 221), ('sick', 219), ('little', 216), ('bit', 216), ('never', 213), ('show', 213), ('cant', 211), ('dont', 211), ('wan', 210), ('watch', 208), ('first', 206), ('tired', 206), ('already', 203), ('thank', 198), ('n', 197), ('best', 197), ('us', 195), ('phone', 193), ('done', 193), ('feeling', 192), ('life', 191), ('ok', 190), ('please', 189), ('take', 188), ('thing', 182), ('let', 181), ('always', 180), ('cool', 179), ('p', 179), ('friends', 175), ('maybe', 172), ('yet', 171), ('ready', 168), ('another', 168), ('something', 168), ('yay', 167), ('summer', 167), ('looking', 164), ('made', 163), ('omg', 163), ('sure', 162), ('went', 161), ('tweet', 160), ('pretty', 160), ('early', 159), ('year', 159), ('look', 158), ('find', 158), ('house', 157), ('guess', 156), ('someone', 155), ('b', 155), ('movie', 155), ('w', 155), ('left', 154), ('finally', 153), ('ur', 153), ('keep', 153), ('guys', 152), ('away', 151), ('hours', 151), ('amazing', 151), ('man', 151), ('hear', 149), ('wow', 146), ('lost', 145), ('follow', 141), ('thought', 141), ('ever', 140), ('tell', 139), ('old', 139), ('rain', 138), ('trying', 138), ('sun', 138), ('start', 137), ('girl', 136), ('th', 136), ('ugh', 135), ('big', 134), ('sucks', 133), ('r', 133), ('thats', 133), ('damn', 133), ('give', 133), ('try', 133), ('makes', 133), ('birthday', 132), ('excited', 132), ('waiting', 132), ('ta', 130), ('nothing', 130), ('baby', 130), ('ya', 128), ('weather', 128), ('missed', 126), ('glad', 126), ('mom', 125), ('hot', 124), ('also', 124), ('saw', 123), ('actually', 122), ('live', 122), ('bored', 121), ('lot', 121), ('party', 121), ('yesterday', 121), ('world', 121), ('late', 120), ('car', 120), ('must', 120), ('many', 119), ('cold', 118), ('coming', 118), ('c', 117), ('head', 117), ('beautiful', 117), ('help', 117), ('later', 117), ('might', 115), ('sunday', 115), ('game', 114), ('hi', 113), ('things', 113), ('two', 113), ('song', 112), ('least', 112), ('play', 112), ('sounds', 111), ('check', 111), ('looks', 111), ('around', 109), ('job', 109), ('talk', 108), ('anything', 108), ('call', 108), ('monday', 107), ('lunch', 107), ('friend', 107), ('till', 106), ('missing', 106), ('okay', 105), ('hard', 105), ('stuff', 105), ('poor', 105), ('wanted', 104), ('leave', 103), ('shit', 103), ('god', 103), ('said', 101), ('times', 101), ('free', 100), ('gt', 100), ('anyone', 100), ('listening', 99), ('stupid', 99), ('music', 99), ('making', 98), ('since', 98), ('family', 98), ('ill', 98), ('following', 98), ('aww', 97), ('mean', 97), ('end', 96), ('tho', 95), ('every', 95), ('gone', 95), ('followers', 94), ('dinner', 93), ('far', 92), ('real', 92), ('friday', 92), ('luck', 92), ('funny', 91), ('wrong', 91), ('woke', 90), ('hour', 90), ('came', 89), ('food', 89), ('outside', 89), ('full', 89), ('eating', 89), ('mine', 88), ('ly', 88), ('welcome', 88), ('almost', 88), ('hurts', 88), ('tweets', 87), ('playing', 87), ('found', 87), ('may', 87), ('forward', 87), ('thinking', 87), ('busy', 86), ('stay', 86), ('ha', 86), ('room', 86), ('stop', 85), ('money', 85), ('either', 85), ('read', 85), ('eat', 85), ('iphone', 85), ('crazy', 85), ('anymore', 84), ('without', 84), ('hair', 84), ('video', 84), ('dad', 84), ('e', 84), ('use', 83), ('idea', 83), ('tv', 82), ('sweet', 82), ('cause', 82), ('weeks', 82), ('enjoy', 81), ('put', 81), ('believe', 81), ('everything', 81), ('coffee', 80), ('plurk', 80), ('cute', 79), ('lovely', 79), ('half', 79), ('leaving', 79), ('finished', 79), ('guy', 79), ('enough', 78), ('hahaha', 78), ('saturday', 77), ('probably', 77), ('totally', 77), ('hell', 76), ('kids', 76), ('sooo', 76), ('computer', 75), ('says', 75), ('whole', 75), ('name', 74), ('class', 73), ('nite', 72), ('buy', 72), ('watched', 72), ('xx', 71), ('took', 71), ('true', 71), ('started', 71), ('didnt', 71), ('heard', 71), ('mileycyrus', 70), ('face', 70), ('www', 70), ('used', 70), ('remember', 70), ('stuck', 70), ('hopefully', 69), ('hit', 69), ('awww', 69), ('else', 69), ('win', 69), ('shopping', 69), ('rest', 68), ('g', 68), ('pic', 68), ('crap', 67), ('raining', 67), ('dude', 67), ('wont', 67), ('seems', 67), ('send', 66), ('online', 66), ('pain', 65), ('anyway', 65), ('breakfast', 65), ('l', 65), ('bought', 65), ('pm', 65), ('wants', 64), ('place', 64), ('kind', 64), ('meet', 64), ('book', 64), ('goodnight', 64), ('run', 64), ('seen', 64), ('lmao', 64), ('needs', 64), ('open', 64), ('tried', 63), ('exam', 63), ('boo', 63), ('dog', 63), ('ah', 63), ('add', 63), ('internet', 62), ('seeing', 62), ('picture', 62), ('wake', 62), ('afternoon', 62), ('hehe', 62), ('taking', 62), ('link', 61), ('blog', 61), ('ass', 61), ('told', 61), ('top', 60), ('study', 60), ('ago', 60), ('feels', 60), ('forgot', 60), ('enjoying', 60), ('quite', 60), ('sister', 60), ('exams', 60), ('cuz', 60), ('beach', 59), ('part', 59), ('girls', 59), ('k', 59), ('soo', 59), ('kinda', 59), ('lots', 59), ('heart', 58), ('month', 58), ('fine', 58), ('st', 58), ('sitting', 58), ('super', 58), ('talking', 57), ('trip', 57), ('alone', 57), ('awake', 57), ('mother', 57), ('hello', 57), ('course', 57), ('btw', 57), ('facebook', 56), ('lucky', 56), ('months', 56), ('cry', 56), ('hurt', 56), ('change', 56), ('til', 56), ('word', 55), ('evening', 55), ('hungry', 55), ('person', 55), ('headache', 55), ('asleep', 55), ('reading', 55), ('bout', 55), ('office', 55), ('fuck', 55), ('v', 55), ('loved', 55), ('able', 54), ('sore', 54), ('news', 54), ('walk', 54), ('using', 54), ('f', 54), ('aw', 54), ('break', 54), ('heading', 54), ('train', 54), ('lil', 54), ('definitely', 53), ('favorite', 53), ('site', 53), ('church', 53), ('years', 53), ('update', 53), ('sound', 53), ('pay', 53), ('starting', 53), ('seriously', 53), ('happen', 53), ('h', 53), ('less', 52), ('yea', 52), ('gets', 52), ('xd', 52), ('interesting', 52), ('post', 52), ('hmm', 52), ('june', 52), ('twitpic', 52), ('goes', 52), ('sigh', 52), ('email', 51), ('write', 51), ('sunny', 51), ('tinyurl', 51), ('broke', 51), ('eyes', 51), ('care', 51), ('youtube', 51), ('j', 51), ('mind', 51), ('sleeping', 50), ('drive', 50), ('works', 50), ('soooo', 50), ('pics', 50), ('nd', 50), ('hoping', 50), ('gave', 50), ('reply', 50), ('season', 50), ('inside', 50), ('boring', 49), ('awards', 49), ('high', 49), ('cat', 49), ('story', 48)]\n"
     ]
    }
   ],
   "source": [
    "from nltk.probability import FreqDist\n",
    "\n",
    "words_list = []\n",
    "\n",
    "for row in tqdm(dataset_sample_with_bow[\"text_processed\"]):\n",
    "    for words in row:\n",
    "        words_list.append(words)\n",
    "        \n",
    "fdist = FreqDist()\n",
    "fdist = FreqDist(word for word in words_list)\n",
    "\n",
    "top_words = [i for i in fdist.most_common(5000)]\n",
    "print(top_words[:500])"
   ]
  },
  {
   "cell_type": "code",
   "execution_count": 26,
   "metadata": {},
   "outputs": [
    {
     "name": "stdout",
     "output_type": "stream",
     "text": [
      "[('thinker', 3), ('advil', 3), ('leopard', 3), ('becomes', 3), ('hmmmmm', 3), ('bebo', 3), ('storming', 3), ('remains', 3), ('defeat', 3), ('jake', 3), ('ward', 3), ('method', 3), ('rumour', 3), ('judging', 3), ('tees', 3), ('shaq', 3), ('sod', 3), ('geography', 3), ('cheesy', 3), ('fancy', 3), ('crisis', 3), ('playboy', 3), ('joint', 3), ('hmph', 3), ('boreddd', 3), ('hundred', 3), ('moral', 3), ('myweakness', 3), ('rod', 3), ('vines', 3), ('handing', 3), ('detroit', 3), ('entered', 3), ('yous', 3), ('nauseous', 3), ('aussiemcflyfan', 3), ('serving', 3), ('jamba', 3), ('quotes', 3), ('commission', 3), ('amazin', 3), ('animals', 3), ('bottom', 3), ('inspire', 3), ('wut', 3), ('gmail', 3), ('destroy', 3), ('jessemccartney', 3), ('whatsoever', 3), ('therefore', 3), ('thai', 3), ('nani', 3), ('smosh', 3), ('flips', 3), ('directly', 3), ('jab', 3), ('erica', 3), ('bahaha', 3), ('subtitles', 3), ('streamed', 3), ('devastated', 3), ('consuming', 3), ('folder', 3), ('git', 3), ('cv', 3), ('eleven', 3), ('eli', 3), ('lansing', 3), ('master', 3), ('vector', 3), ('amounts', 3), ('rox', 3), ('installed', 3), ('skl', 3), ('stitches', 3), ('horror', 3), ('someones', 3), ('kp', 3), ('passport', 3), ('glow', 3), ('songwriter', 3), ('esp', 3), ('krispy', 3), ('fewer', 3), ('finds', 3), ('jungle', 3), ('cydia', 3), ('causing', 3), ('kristin', 3), ('mask', 3), ('sunt', 3), ('drops', 3), ('kingdom', 3), ('avenue', 3), ('shanghai', 3), ('pittsburgh', 3), ('vomiting', 3), ('haaa', 3), ('nova', 3), ('potentially', 3), ('freckles', 3), ('busted', 3), ('cred', 3), ('smelt', 3), ('fluff', 3), ('pembsdave', 3), ('extent', 3), ('pollen', 3), ('sytycd', 3), ('farrah', 3), ('fawcett', 3), ('podcast', 3), ('chronicles', 3), ('larry', 3), ('thea', 3), ('lobby', 3), ('ally', 3), ('ipods', 3), ('outs', 3), ('eww', 3), ('stain', 3), ('generous', 3), ('bites', 3), ('todd', 3), ('believes', 3), ('numerous', 3), ('versions', 3), ('carole', 3), ('logies', 3), ('civil', 3), ('freaked', 3), ('micro', 3), ('professional', 3), ('ce', 3), ('tart', 3), ('comedyqueen', 3), ('infection', 3), ('unicorn', 3), ('yell', 3), ('strategy', 3), ('movin', 3), ('yessss', 3), ('ooooooh', 3), ('palm', 3), ('carolina', 3), ('devistated', 3), ('responded', 3), ('banquet', 3), ('brianmcnugget', 3), ('cgft', 3), ('adrenaline', 3), ('laterrr', 3), ('fwd', 3), ('caring', 3), ('angela', 3), ('flo', 3), ('strength', 3), ('lu', 3), ('gotcha', 3), ('hve', 3), ('candle', 3), ('throwing', 3), ('pole', 3), ('formal', 3), ('billion', 3), ('snacks', 3), ('throws', 3), ('twitts', 3), ('thisismyiq', 3), ('hh', 3), ('harbor', 3), ('wished', 3), ('blueberry', 3), ('muffins', 3), ('gran', 3), ('alexalltimelow', 3), ('seein', 3), ('vm', 3), ('whyy', 3), ('origin', 3), ('waffles', 3), ('floors', 3), ('pieces', 3), ('britneyspears', 3), ('gap', 3), ('summers', 3), ('greeting', 3), ('pretend', 3), ('provider', 3), ('decaydance', 3), ('scientist', 3), ('finna', 3), ('ruins', 3), ('irc', 3), ('prix', 3), ('biscuits', 3), ('fudge', 3), ('bruised', 3), ('pissing', 3), ('concentrate', 3)]\n"
     ]
    }
   ],
   "source": [
    "print(top_words[-200:])"
   ]
  },
  {
   "cell_type": "markdown",
   "metadata": {},
   "source": [
    "### Building Features\n",
    "\n",
    "Now let's build the features. Using the top 5,000 words, create a 2-dimensional matrix to record whether each of those words is contained in each document (tweet). Then you also have an output column to indicate whether the sentiment in each tweet is positive. For example, assuming your bag of words has 5 items (`['one', 'two', 'three', 'four', 'five']`) out of 4 documents (`['A', 'B', 'C', 'D']`), your feature set is essentially:\n",
    "\n",
    "| Doc | one | two | three | four | five | is_positive |\n",
    "|---|---|---|---|---|---|---|\n",
    "| A | True | False | False | True | False | True |\n",
    "| B | False | False | False | True | True | False |\n",
    "| C | False | True | False | False | False | True |\n",
    "| D | True | False | False | False | True | False|\n",
    "\n",
    "However, because the `nltk.NaiveBayesClassifier.train` class we will use in the next step does not work with Pandas dataframe, the structure of your feature set should be converted to the Python list looking like below:\n",
    "\n",
    "```python\n",
    "[\n",
    "\t({\n",
    "\t\t'one': True,\n",
    "\t\t'two': False,\n",
    "\t\t'three': False,\n",
    "\t\t'four': True,\n",
    "\t\t'five': False\n",
    "\t}, True),\n",
    "\t({\n",
    "\t\t'one': False,\n",
    "\t\t'two': False,\n",
    "\t\t'three': False,\n",
    "\t\t'four': True,\n",
    "\t\t'five': True\n",
    "\t}, False),\n",
    "\t({\n",
    "\t\t'one': False,\n",
    "\t\t'two': True,\n",
    "\t\t'three': False,\n",
    "\t\t'four': False,\n",
    "\t\t'five': False\n",
    "\t}, True),\n",
    "\t({\n",
    "\t\t'one': True,\n",
    "\t\t'two': False,\n",
    "\t\t'three': False,\n",
    "\t\t'four': False,\n",
    "\t\t'five': True\n",
    "\t}, False)\n",
    "]\n",
    "```\n",
    "\n",
    "To help you in this step, watch the [following video](https://www.youtube.com/watch?v=-vVskDsHcVc) to learn how to build the feature set with Python and NLTK. The source code in this video can be found [here](https://pythonprogramming.net/words-as-features-nltk-tutorial/)."
   ]
  },
  {
   "cell_type": "markdown",
   "metadata": {},
   "source": [
    "[![Building Features](building-features.jpg)](https://www.youtube.com/watch?v=-vVskDsHcVc)"
   ]
  },
  {
   "cell_type": "code",
   "execution_count": null,
   "metadata": {},
   "outputs": [],
   "source": [
    "# your code here"
   ]
  },
  {
   "cell_type": "markdown",
   "metadata": {},
   "source": [
    "### Building and Traininng Naive Bayes Model\n",
    "\n",
    "In this step you will split your feature set into a training and a test set. Then you will create a Bayes classifier instance using `nltk.NaiveBayesClassifier.train` ([example](https://www.nltk.org/book/ch06.html)) to train with the training dataset.\n",
    "\n",
    "After training the model, call `classifier.show_most_informative_features()` to inspect the most important features. The output will look like:\n",
    "\n",
    "```\n",
    "Most Informative Features\n",
    "\t    snow = True            False : True   =     34.3 : 1.0\n",
    "\t  easter = True            False : True   =     26.2 : 1.0\n",
    "\t headach = True            False : True   =     20.9 : 1.0\n",
    "\t    argh = True            False : True   =     17.6 : 1.0\n",
    "\tunfortun = True            False : True   =     16.9 : 1.0\n",
    "\t    jona = True             True : False  =     16.2 : 1.0\n",
    "\t     ach = True            False : True   =     14.9 : 1.0\n",
    "\t     sad = True            False : True   =     13.0 : 1.0\n",
    "\t  parent = True            False : True   =     12.9 : 1.0\n",
    "\t  spring = True            False : True   =     12.7 : 1.0\n",
    "```\n",
    "\n",
    "The [following video](https://www.youtube.com/watch?v=rISOsUaTrO4) will help you complete this step. The source code in this video can be found [here](https://pythonprogramming.net/naive-bayes-classifier-nltk-tutorial/)."
   ]
  },
  {
   "cell_type": "markdown",
   "metadata": {},
   "source": [
    "[![Building and Training NB](nb-model-building.jpg)](https://www.youtube.com/watch?v=rISOsUaTrO4)"
   ]
  },
  {
   "cell_type": "code",
   "execution_count": 1,
   "metadata": {},
   "outputs": [],
   "source": [
    "# your code here"
   ]
  },
  {
   "cell_type": "markdown",
   "metadata": {},
   "source": [
    "### Testing Naive Bayes Model\n",
    "\n",
    "Now we'll test our classifier with the test dataset. This is done by calling `nltk.classify.accuracy(classifier, test)`.\n",
    "\n",
    "As mentioned in one of the tutorial videos, a Naive Bayes model is considered OK if your accuracy score is over 0.6. If your accuracy score is over 0.7, you've done a great job!"
   ]
  },
  {
   "cell_type": "code",
   "execution_count": null,
   "metadata": {},
   "outputs": [],
   "source": [
    "# your code here"
   ]
  },
  {
   "cell_type": "markdown",
   "metadata": {},
   "source": [
    "## Bonus Question 1: Improve Model Performance\n",
    "\n",
    "If you are still not exhausted so far and want to dig deeper, try to improve your classifier performance. There are many aspects you can dig into, for example:\n",
    "\n",
    "* Improve stemming and lemmatization. Inspect your bag of words and the most important features. Are there any words you should furuther remove from analysis? You can append these words to further remove to the stop words list.\n",
    "\n",
    "* Remember we only used the top 5,000 features to build model? Try using different numbers of top features. The bottom line is to use as few features as you can without compromising your model performance. The fewer features you select into your model, the faster your model is trained. Then you can use a larger sample size to improve your model accuracy score."
   ]
  },
  {
   "cell_type": "code",
   "execution_count": null,
   "metadata": {},
   "outputs": [],
   "source": [
    "# your code here"
   ]
  },
  {
   "cell_type": "markdown",
   "metadata": {},
   "source": [
    "## Bonus Question 2: Machine Learning Pipeline\n",
    "\n",
    "In a new Jupyter Notebook, combine all your codes into a function (or a class). Your new function will execute the complete machine learning pipeline job by receiving the dataset location and output the classifier. This will allow you to use your function to predict the sentiment of any tweet in real time. "
   ]
  },
  {
   "cell_type": "code",
   "execution_count": null,
   "metadata": {},
   "outputs": [],
   "source": [
    "# your code here"
   ]
  },
  {
   "cell_type": "markdown",
   "metadata": {},
   "source": [
    "## Bonus Question 3: Apache Spark\n",
    "\n",
    "If you have completed the Apache Spark advanced topic lab, what you can do is to migrate your pipeline from local to a Databricks Notebook. Share your notebook with your instructor and classmates to show off your achievements!"
   ]
  },
  {
   "cell_type": "code",
   "execution_count": null,
   "metadata": {},
   "outputs": [],
   "source": [
    "# your code here"
   ]
  }
 ],
 "metadata": {
  "kernelspec": {
   "display_name": "Python [conda env:ironhack_env]",
   "language": "python",
   "name": "conda-env-ironhack_env-py"
  },
  "language_info": {
   "codemirror_mode": {
    "name": "ipython",
    "version": 3
   },
   "file_extension": ".py",
   "mimetype": "text/x-python",
   "name": "python",
   "nbconvert_exporter": "python",
   "pygments_lexer": "ipython3",
   "version": "3.8.5"
  }
 },
 "nbformat": 4,
 "nbformat_minor": 4
}
