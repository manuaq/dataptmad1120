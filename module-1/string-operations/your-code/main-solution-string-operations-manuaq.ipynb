{
 "cells": [
  {
   "cell_type": "markdown",
   "metadata": {},
   "source": [
    "# Before your start:\n",
    "- Read the README.md file\n",
    "- Comment as much as you can and use the resources in the README.md file\n",
    "- Happy learning!"
   ]
  },
  {
   "cell_type": "code",
   "execution_count": null,
   "metadata": {},
   "outputs": [],
   "source": [
    "import re"
   ]
  },
  {
   "cell_type": "markdown",
   "metadata": {},
   "source": [
    "# Challenge 1 - Combining Strings\n",
    "\n",
    "Combining strings is an important skill to acquire. There are multiple ways of combining strings in Python, as well as combining strings with variables. We will explore this in the first challenge. In the cell below, combine the strings in the list and add spaces between the strings (do not add a space after the last string). Insert a period after the last string."
   ]
  },
  {
   "cell_type": "code",
   "execution_count": 16,
   "metadata": {},
   "outputs": [
    {
     "name": "stdout",
     "output_type": "stream",
     "text": [
      "Durante un tiempo no estuvo segura de si su marido era su marido.\n"
     ]
    }
   ],
   "source": [
    "str_list = ['Durante', 'un', 'tiempo', 'no', 'estuvo', 'segura', 'de', 'si', 'su', 'marido', 'era', 'su', 'marido']\n",
    "# Your code here:\n",
    "\n",
    "combined_list = (\" \".join(str_list))\n",
    "print((combined_list.rstrip()) + \".\")"
   ]
  },
  {
   "cell_type": "markdown",
   "metadata": {},
   "source": [
    "In the cell below, use the list of strings to create a grocery list. Start the list with the string `Grocery list: ` and include a comma and a space between each item except for the last one. Include a period at the end. Only include foods in the list that start with the letter 'b' and ensure all foods are lower case."
   ]
  },
  {
   "cell_type": "code",
   "execution_count": 14,
   "metadata": {},
   "outputs": [
    {
     "name": "stdout",
     "output_type": "stream",
     "text": [
      "Grocery list: bananas, bread, brownie mix, broccoli.\n"
     ]
    }
   ],
   "source": [
    "food_list = ['Bananas', 'Chocolate', 'bread', 'diapers', 'Ice Cream', 'Brownie Mix', 'broccoli']\n",
    "# Your code here:\n",
    "#Started trying this way:\n",
    "#for i in food_list:\n",
    "    #grocery_list = (\" \".join(food_list))\n",
    "#print(grocery_list.lower())\n",
    "\n",
    "#Switched after reading materials again\n",
    "\n",
    "#Step 1: First, I wanted to lower case all items\n",
    "lower_case_food_list = [i.lower() for i in food_list]\n",
    "#print(lower_case_food_list) #we can check this step by printing list\n",
    "\n",
    "#Step 2: Second, I wanted to extract all items that started with lower case \"b\" to new list\n",
    "item_startswith_b = [i for i in lower_case_food_list if i.startswith('b')]\n",
    "#print(item_startswith_b) #we can check this step by printing list\n",
    "\n",
    "#Step 3: I wanted to create a string separated by a comma \",\" and a space \" \"\n",
    "        # I used them together \", \" as the .join() function separator\n",
    "        # Added an rstrip() at the end as safety for unwanted whitespace\n",
    "        # Concatenated strings for print function\n",
    "grocery_list = \", \".join(item_startswith_b).rstrip()\n",
    "print(\"Grocery list: \" + grocery_list + \".\")\n",
    "\n"
   ]
  },
  {
   "cell_type": "markdown",
   "metadata": {},
   "source": [
    "In the cell below, write a function that computes the area of a circle using its radius. Compute the area of the circle and insert the radius and the area between the two strings. Make sure to include spaces between the variable and the strings. \n",
    "\n",
    "Note: You can use the techniques we have learned so far or use f-strings. F-strings allow us to embed code inside strings. You can read more about f-strings [here](https://www.python.org/dev/peps/pep-0498/)."
   ]
  },
  {
   "cell_type": "code",
   "execution_count": 73,
   "metadata": {},
   "outputs": [
    {
     "name": "stdout",
     "output_type": "stream",
     "text": [
      "The area of the circle with radius: 4.5 is: 63.61725123519331\n"
     ]
    }
   ],
   "source": [
    "import math\n",
    "\n",
    "string1 = \"The area of the circle with radius:\"\n",
    "string2  = \"is:\"\n",
    "radius = 4.5\n",
    "\n",
    "#def area(radius, pi = math.pi):\n",
    "\"\"\"\n",
    "    This function takes a radius and returns the area of a circle. \n",
    "    We also pass a default value for pi.\n",
    "    \n",
    "    Input: Float (and default value for pi)\n",
    "    Output: Float\n",
    "    \n",
    "    Sample input: 5.0\n",
    "    Sample Output: 78.53981633\n",
    "    \"\"\"\n",
    "    \n",
    "    # Your code here:\n",
    "def area(radius, pi = math.pi):\n",
    "    area = pi * float(radius)**2\n",
    "    return area\n",
    "\n",
    "#print(area(radius))\n",
    "\n",
    "print(f\"{string1} {radius} {string2} {area(radius)}\")\n",
    "    \n",
    "# Your output string here:"
   ]
  },
  {
   "cell_type": "markdown",
   "metadata": {},
   "source": [
    "# Challenge 2 - Splitting Strings\n",
    "\n",
    "We have first looked at combining strings into one long string. There are times where we need to do the opposite and split the string into smaller components for further analysis. \n",
    "\n",
    "In the cell below, split the string into a list of strings using the space delimiter. Count the frequency of each word in the string in a dictionary. Strip the periods, line breaks and commas from the text. Make sure to remove empty strings from your dictionary."
   ]
  },
  {
   "cell_type": "code",
   "execution_count": 4,
   "metadata": {},
   "outputs": [
    {
     "name": "stdout",
     "output_type": "stream",
     "text": [
      "{'some': 2, 'say': 3, 'the': 1, 'world': 1, 'will': 1, 'end': 1, 'in': 2, 'fire': 2, 'ice': 2, 'from': 1, 'what': 1, 'i’ve': 1, 'tasted': 1, 'of': 2, 'desire': 1, 'i': 3, 'hold': 1, 'with': 1, 'those': 1, 'who': 1, 'favor': 1, 'but': 1, 'if': 1, 'it': 1, 'had': 1, 'to': 2, 'perish': 1, 'twice': 1, 'think': 1, 'know': 1, 'enough': 1, 'hate': 1, 'that': 1, 'for': 1, 'destruction': 1, 'is': 1, 'also': 1, 'great': 1, 'and': 1, 'would': 1, 'suffice': 1}\n"
     ]
    }
   ],
   "source": [
    "poem = \"\"\"Some say the world will end in fire,\n",
    "Some say in ice.\n",
    "From what I’ve tasted of desire\n",
    "I hold with those who favor fire.\n",
    "But if it had to perish twice,\n",
    "I think I know enough of hate\n",
    "To say that for destruction ice\n",
    "Is also great\n",
    "And would suffice.\"\"\"\n",
    "\n",
    "# Your code here:\n",
    "\n",
    "#Step 1: I want to remove the line breaks\n",
    "poem_without_line_breaks = poem.replace(\"\\n\", \" \")\n",
    "#print(poem_without_line_breaks)\n",
    "\n",
    "#Step 2: I want to remove the commas\n",
    "poem_without_comma = poem_without_line_breaks.replace(\",\",\"\")\n",
    "#print(poem_without_comma)\n",
    "\n",
    "#Step 3: I want to remove the periods\n",
    "poem_without_period = poem_without_comma.replace(\".\",\"\")\n",
    "#print(poem_without_period)\n",
    "\n",
    "#Step 4: I want lowercase all words to be able to recognize each ocurrence\n",
    "poem_pure_text = poem_without_period.lower()\n",
    "#print(poem_pure_text)\n",
    "\n",
    "#Step 5: I want to split all words to a list\n",
    "all_poem_words_list = poem_pure_text.split()\n",
    "#print(all_poem_words_list)\n",
    "\n",
    "# I tried to simplify but could not come up or remember a way\n",
    "#[poem.split().replace(\"\\n\", \"\").replace(\",\", \"\").replace(\".\", \"\")]\n",
    "#for word in poem for word in poem.lower().split()]\n",
    "\n",
    "frequency = dict()\n",
    "\n",
    "for word in all_poem_words_list:\n",
    "    frequency[word] = frequency.get(word,0) + 1\n",
    "print(frequency)\n",
    "\n",
    "# OR, ANOTHER EQUIVALENT WAY TO DO IT, SHOWN BELOW\n",
    "    \n",
    "#for word in all_poem_words_list:\n",
    "    #if word in frequency:\n",
    "        #frequency[word] = frequency[word] + 1\n",
    "    #else:\n",
    "        #frequency[word] = 1\n",
    "\n",
    "#print(frequency)\n"
   ]
  },
  {
   "cell_type": "markdown",
   "metadata": {},
   "source": [
    "In the cell below, find all the words that appear in the text and do not appear in the blacklist. You must parse the string but can choose any data structure you wish for the words that do not appear in the blacklist. Remove all non letter characters and convert all words to lower case."
   ]
  },
  {
   "cell_type": "code",
   "execution_count": 132,
   "metadata": {},
   "outputs": [
    {
     "name": "stdout",
     "output_type": "stream",
     "text": [
      "{'foe', 'my', 'outstretched', 'was', 'pole', 'deceitful', 'told', 'fears', 'tears', 'into', 'bore', 'see', 'both', 'waterd', 'soft', 'beneath', 'did', 'with', 'glad', 'morning', 'bright', 'when', 'stole', 'not', 'beheld', 'till', 'sunned', 'grow', 'smiles', 'veild', 'he', 'knew', 'that', 'had', 'tree', 'i', 'wiles', 'angry', 'wrath', 'friend', 'night', 'shine', 'apple', 'garden', 'grew', 'end', 'mine', 'day'}\n",
      "['foe', 'my', 'outstretched', 'was', 'pole', 'deceitful', 'told', 'fears', 'tears', 'into', 'bore', 'see', 'both', 'waterd', 'soft', 'beneath', 'did', 'with', 'glad', 'morning', 'bright', 'when', 'stole', 'not', 'beheld', 'till', 'sunned', 'grow', 'smiles', 'veild', 'he', 'knew', 'that', 'had', 'tree', 'i', 'wiles', 'angry', 'wrath', 'friend', 'night', 'shine', 'apple', 'garden', 'grew', 'end', 'mine', 'day']\n"
     ]
    }
   ],
   "source": [
    "blacklist = ['and', 'as', 'an', 'a', 'the', 'in', 'it']\n",
    "\n",
    "poem = \"\"\"I was angry with my friend; \n",
    "I told my wrath, my wrath did end.\n",
    "I was angry with my foe: \n",
    "I told it not, my wrath did grow. \n",
    "\n",
    "And I waterd it in fears,\n",
    "Night & morning with my tears: \n",
    "And I sunned it with smiles,\n",
    "And with soft deceitful wiles. \n",
    "\n",
    "And it grew both day and night. \n",
    "Till it bore an apple bright. \n",
    "And my foe beheld it shine,\n",
    "And he knew that it was mine. \n",
    "\n",
    "And into my garden stole, \n",
    "When the night had veild the pole; \n",
    "In the morning glad I see; \n",
    "My foe outstretched beneath the tree.\"\"\"\n",
    "\n",
    "# Your code here:\n",
    "#Step 1: I want to remove the line breaks\n",
    "#poem_without_line_breaks = poem.replace(\"\\n\", \" \")\n",
    "#print(poem_without_line_breaks)\n",
    "#Step 2: I wanted to check for special caracthers to remove and build my words list. Need to find something better\n",
    "#print(re.findall('[\\W]',poem_without_line_breaks))\n",
    "#Step 3: I want to remove the commas\n",
    "#poem_without_commas = poem_without_line_breaks.replace(\",\", \" \")\n",
    "#print(poem_without_commas)\n",
    "#Step 4: I want to remove the periods\n",
    "#poem_without_periods = poem_without_commas.replace(\".\", \" \")\n",
    "#print(poem_without_periods)\n",
    "#Step 5: I want to remove the :\n",
    "#poem_without_periods = poem_without_commas.replace(\".\", \" \")\n",
    "#print(poem_without_periods)\n",
    "\n",
    "#Step 1: I want to remove all special caracthers, I NEED TO FIND A BETTER WAY TO LOOK FOR NON ALPHANUMERIC\n",
    "text_without_special_char = re.sub(r\"[:;,.&]\", \" \", poem, flags=re.I)\n",
    "#print(text_without_special_char)\n",
    "\n",
    "#Step 2: I want to remove the line breaks and lowercase all words\n",
    "lowercasewords_and_spaces = text_without_special_char.replace(\"\\n\", \" \").lower()\n",
    "#print(words_and_spaces)\n",
    "\n",
    "#Step 3: I want to create all words list\n",
    "words = words_and_spaces.split()\n",
    "#print(words)\n",
    "\n",
    "#Step 4: I will use set to extract unique words and remove blacklisted words\n",
    "whitelist = set(words) - set(blacklist)\n",
    "\n",
    "#Step %5: I will print in set or list ()\n",
    "\n",
    "print(whitelist)\n",
    "#OR\n",
    "print(list(whitelist))\n",
    "\n",
    "# Given a list of words, remove any that are\n",
    "# in a list of blacklisted words.\n",
    "\n",
    "\n",
    "#AQUI ABAJO QUERIA PROBAR EXTRAERLO CON UNA FUNCION Y QUIERO PROBAR CON UN FOR LOOP/IF NOT IN\n",
    "#def remove_black_listed(words, blacklist):\n",
    "    #return [w for w in words if w not in {blacklist}]\n",
    "\n",
    "#print(remove_black_listed(words))\n",
    "\n",
    "\n",
    "\n"
   ]
  },
  {
   "cell_type": "markdown",
   "metadata": {},
   "source": [
    "# Challenge 3 - Regular Expressions\n",
    "\n",
    "Sometimes, we would like to perform more complex manipulations of our string. This is where regular expressions come in handy. In the cell below, return all characters that are upper case from the string specified below."
   ]
  },
  {
   "cell_type": "code",
   "execution_count": 24,
   "metadata": {},
   "outputs": [
    {
     "data": {
      "text/plain": [
       "['T', 'P']"
      ]
     },
     "execution_count": 24,
     "metadata": {},
     "output_type": "execute_result"
    }
   ],
   "source": [
    "poem = \"\"\"The apparition of these faces in the crowd;\n",
    "Petals on a wet, black bough.\"\"\"\n",
    "\n",
    "# Your code here:\n",
    "\n",
    "import re\n",
    "\n",
    "re.findall('[A-Z]', poem)\n",
    "\n"
   ]
  },
  {
   "cell_type": "markdown",
   "metadata": {},
   "source": [
    "In the cell below, filter the list provided and return all elements of the list containing a number. To filter the list, use the `re.search` function. Check if the function does not return `None`. You can read more about the `re.search` function [here](https://docs.python.org/3/library/re.html)."
   ]
  },
  {
   "cell_type": "code",
   "execution_count": 67,
   "metadata": {},
   "outputs": [
    {
     "name": "stdout",
     "output_type": "stream",
     "text": [
      "['123abc', 'abc123', 'JohnSmith1', 'ABBY4']\n"
     ]
    }
   ],
   "source": [
    "data = ['123abc', 'abc123', 'JohnSmith1', 'ABBY4', 'JANE']\n",
    "\n",
    "# Your code here:\n",
    "\n",
    "import re\n",
    " \n",
    "# Declare the filter function \n",
    "def Filter(datalist):\n",
    "    # Search data based on regular expression in the list\n",
    "    return [i for i in datalist if re.search('[0-9]+', i)]\n",
    "\n",
    "# Print the filtered data\n",
    "print(Filter(data))\n"
   ]
  },
  {
   "cell_type": "markdown",
   "metadata": {},
   "source": [
    "# Bonus Challenge - Regular Expressions II\n",
    "\n",
    "In the cell below, filter the list provided to keep only strings containing at least one digit and at least one lower case letter. As in the previous question, use the `re.search` function and check that the result is not `None`.\n",
    "\n",
    "To read more about regular expressions, check out [this link](https://developers.google.com/edu/python/regular-expressions)."
   ]
  },
  {
   "cell_type": "code",
   "execution_count": 78,
   "metadata": {},
   "outputs": [
    {
     "name": "stdout",
     "output_type": "stream",
     "text": [
      "['123abc', 'abc123', 'JohnSmith1']\n"
     ]
    }
   ],
   "source": [
    "data = ['123abc', 'abc123', 'JohnSmith1', 'ABBY4', 'JANE']\n",
    "# Your code here:\n",
    "\n",
    "def Filter(datalist):\n",
    "    # Search data based on regular expression in the list\n",
    "    return [i for i in datalist if re.search('[0-9]+', i) and re.search('[a-z]+', i)]\n",
    "\n",
    "# Print the filtered data\n",
    "print(Filter(data))\n"
   ]
  },
  {
   "cell_type": "code",
   "execution_count": null,
   "metadata": {},
   "outputs": [],
   "source": []
  }
 ],
 "metadata": {
  "kernelspec": {
   "display_name": "Python [conda env:ironhack_env]",
   "language": "python",
   "name": "conda-env-ironhack_env-py"
  },
  "language_info": {
   "codemirror_mode": {
    "name": "ipython",
    "version": 3
   },
   "file_extension": ".py",
   "mimetype": "text/x-python",
   "name": "python",
   "nbconvert_exporter": "python",
   "pygments_lexer": "ipython3",
   "version": "3.8.5"
  }
 },
 "nbformat": 4,
 "nbformat_minor": 4
}
