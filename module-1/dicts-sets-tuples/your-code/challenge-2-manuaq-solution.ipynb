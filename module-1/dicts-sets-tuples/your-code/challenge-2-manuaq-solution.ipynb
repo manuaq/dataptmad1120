{
 "cells": [
  {
   "cell_type": "markdown",
   "metadata": {},
   "source": [
    "## Challenge 2: Sets\n",
    "\n",
    "There are a lot to learn about Python Sets and the information presented in the lesson is limited due to its length. To learn Python Sets in depth you are strongly encouraged to review the W3Schools tutorial on [Python Sets Examples and Methods](https://www.w3schools.com/python/python_sets.asp) before you work on this lab. Some difficult questions in this lab have their solutions in the W3Schools tutorial.\n",
    "\n",
    "#### First, import the Python `random` library."
   ]
  },
  {
   "cell_type": "code",
   "execution_count": 1,
   "metadata": {},
   "outputs": [],
   "source": [
    "import random"
   ]
  },
  {
   "cell_type": "markdown",
   "metadata": {},
   "source": [
    "#### In the cell below, create a list named `sample_list_1` with 80 random values. \n",
    "\n",
    "Requirements:\n",
    "\n",
    "* Each value is an integer falling between 0 and 100.\n",
    "* Each value in the list is unique.\n",
    "\n",
    "Print `sample_list_1` to review its values\n",
    "\n",
    "*Hint: use `random.sample` ([reference](https://docs.python.org/3/library/random.html#random.sample)).*"
   ]
  },
  {
   "cell_type": "code",
   "execution_count": 2,
   "metadata": {},
   "outputs": [
    {
     "name": "stdout",
     "output_type": "stream",
     "text": [
      "[88, 35, 55, 17, 14, 19, 43, 16, 44, 91, 41, 86, 60, 99, 73, 93, 72, 34, 0, 82, 37, 69, 15, 74, 4, 94, 9, 78, 40, 36, 50, 59, 1, 84, 18, 21, 10, 77, 46, 71, 95, 48, 63, 27, 68, 57, 75, 80, 25, 89, 31, 23, 79, 54, 29, 83, 53, 30, 65, 51, 33, 13, 96, 47, 61, 3, 67, 92, 38, 90, 66, 45, 64, 62, 7, 76, 11, 8, 22, 85]\n"
     ]
    }
   ],
   "source": [
    "# Your code here\n",
    "\n",
    "sample_list_1 = random.sample(range(0,100),80)\n",
    "print(sample_list_1)\n",
    "#print(len(sample_list_1))\n",
    "#print(len(set(sample_list_1)))\n"
   ]
  },
  {
   "cell_type": "markdown",
   "metadata": {},
   "source": [
    "#### Convert `sample_list_1` to a set called `set1`. Print the length of the set. Is its length still 80?"
   ]
  },
  {
   "cell_type": "code",
   "execution_count": 3,
   "metadata": {},
   "outputs": [
    {
     "name": "stdout",
     "output_type": "stream",
     "text": [
      "80\n"
     ]
    }
   ],
   "source": [
    "# Your code here\n",
    "\n",
    "set1 = set(sample_list_1)\n",
    "print(len(set1))\n",
    "\n",
    "#YES\n"
   ]
  },
  {
   "cell_type": "markdown",
   "metadata": {},
   "source": [
    "#### Create another list named `sample_list_2` with 80 random values.\n",
    "\n",
    "Requirements:\n",
    "\n",
    "* Each value is an integer falling between 0 and 100.\n",
    "* The values in the list don't have to be unique.\n",
    "\n",
    "*Hint: Use a FOR loop.*"
   ]
  },
  {
   "cell_type": "code",
   "execution_count": 4,
   "metadata": {},
   "outputs": [
    {
     "name": "stdout",
     "output_type": "stream",
     "text": [
      "[45, 32, 79, 33, 90, 78, 60, 74, 37, 79, 99, 46, 86, 74, 33, 61, 39, 10, 25, 58, 15, 36, 55, 5, 71, 47, 93, 70, 40, 41, 15, 89, 50, 6, 68, 19, 6, 78, 94, 39, 53, 27, 100, 1, 34, 7, 80, 51, 44, 96, 67, 58, 17, 87, 39, 42, 74, 97, 38, 23, 39, 19, 56, 53, 63, 18, 12, 43, 36, 12, 43, 26, 63, 91, 37, 76, 70, 22, 82, 91]\n",
      "80\n"
     ]
    }
   ],
   "source": [
    "# Your code here\n",
    "\n",
    "sample_list_2 = [random.randint(0,100) for i in range(80)]\n",
    "\n",
    "print(sample_list_2)\n",
    "print(len(sample_list_2))"
   ]
  },
  {
   "cell_type": "markdown",
   "metadata": {},
   "source": [
    "#### Convert `sample_list_2` to a set called `set2`. Print the length of the set. Is its length still 80?"
   ]
  },
  {
   "cell_type": "code",
   "execution_count": 5,
   "metadata": {},
   "outputs": [
    {
     "data": {
      "text/plain": [
       "60"
      ]
     },
     "execution_count": 5,
     "metadata": {},
     "output_type": "execute_result"
    }
   ],
   "source": [
    "# Your code here\n",
    "\n",
    "set2 = set(sample_list_2)\n",
    "len(set2)\n",
    "\n",
    "#NO IS NOT, WE ONLY HAVE 60 UNIQUE NUMBERS"
   ]
  },
  {
   "cell_type": "markdown",
   "metadata": {},
   "source": [
    "#### Identify the elements present in `set1` but not in `set2`. Assign the elements to a new set named `set3`."
   ]
  },
  {
   "cell_type": "code",
   "execution_count": 6,
   "metadata": {},
   "outputs": [
    {
     "name": "stdout",
     "output_type": "stream",
     "text": [
      "{0, 3, 4, 8, 9, 11, 13, 14, 16, 21, 29, 30, 31, 35, 48, 54, 57, 59, 62, 64, 65, 66, 69, 72, 73, 75, 77, 83, 84, 85, 88, 92, 95}\n",
      "33\n"
     ]
    }
   ],
   "source": [
    "# Your code here\n",
    "\n",
    "set3 = set1 - set2\n",
    "print(set3)\n",
    "print(len(set3))\n"
   ]
  },
  {
   "cell_type": "markdown",
   "metadata": {},
   "source": [
    "#### Identify the elements present in `set2` but not in `set1`. Assign the elements to a new set named `set4`."
   ]
  },
  {
   "cell_type": "code",
   "execution_count": 7,
   "metadata": {},
   "outputs": [
    {
     "name": "stdout",
     "output_type": "stream",
     "text": [
      "{32, 97, 58, 5, 6, 39, 70, 100, 42, 12, 87, 56, 26}\n",
      "13\n"
     ]
    }
   ],
   "source": [
    "# Your code here\n",
    "set4 = set2 - set1\n",
    "print(set4)\n",
    "print(len(set4))\n"
   ]
  },
  {
   "cell_type": "markdown",
   "metadata": {},
   "source": [
    "#### Now Identify the elements shared between `set1` and `set2`. Assign the elements to a new set named `set5`."
   ]
  },
  {
   "cell_type": "code",
   "execution_count": 8,
   "metadata": {},
   "outputs": [
    {
     "name": "stdout",
     "output_type": "stream",
     "text": [
      "{1, 7, 10, 15, 17, 18, 19, 22, 23, 25, 27, 33, 34, 36, 37, 38, 40, 41, 43, 44, 45, 46, 47, 50, 51, 53, 55, 60, 61, 63, 67, 68, 71, 74, 76, 78, 79, 80, 82, 86, 89, 90, 91, 93, 94, 96, 99}\n",
      "47\n"
     ]
    }
   ],
   "source": [
    "# Your code here\n",
    "\n",
    "set5 = set1 & set2\n",
    "#set5 = set1.intersection(set2)\n",
    "print(set5)\n",
    "print(len(set5))\n"
   ]
  },
  {
   "cell_type": "markdown",
   "metadata": {},
   "source": [
    "#### What is the relationship among the following values:\n",
    "\n",
    "* len(set1)\n",
    "* len(set2)\n",
    "* len(set3)\n",
    "* len(set4)\n",
    "* len(set5)\n",
    "\n",
    "Use a math formular to represent that relationship. Test your formular with Python code."
   ]
  },
  {
   "cell_type": "code",
   "execution_count": 9,
   "metadata": {},
   "outputs": [
    {
     "name": "stdout",
     "output_type": "stream",
     "text": [
      "set1 has 80 unique random values\n",
      "set2 has 60 unique random values\n",
      "set3 has 33 elements present in set1 but not in set2\n",
      "set4 has 13 elements present in set2 but not in set1\n",
      "set5 has 47 the shared elements between set1 and set2\n",
      "len(set1) = len(set3)-> 33 + len(set5)-> 47 = 80\n",
      "len(set2) = len(set4)-> 13 + len(set5)-> 47 = 60\n",
      "len(set3) = len(set1)-> 80 - len(set5)-> 47 = 33\n",
      "len(set4) = len(set2)-> 60 - len(set5)-> 47 = 13\n"
     ]
    }
   ],
   "source": [
    "# Your code here\n",
    "print(\"set1 has\", len(set1), \"unique random values\")\n",
    "print(\"set2 has\", len(set2), \"unique random values\")\n",
    "print(\"set3 has\", len(set3), \"elements present in set1 but not in set2\")\n",
    "print(\"set4 has\", len(set4), \"elements present in set2 but not in set1\")\n",
    "print(\"set5 has\", len(set5), \"the shared elements between set1 and set2\")\n",
    "\n",
    "\n",
    "# set1 = set3 + set5\n",
    "# set2 = set4 + set5\n",
    "# set3 = set1 - set2\n",
    "# set4 = set2 - set1\n",
    "# set5 = set1 & set2\n",
    "\n",
    "print(\"len(set1) =\" , \"len(set3)->\",len(set3), \"+ len(set5)->\",len(set5),\"=\",len(set3) + len(set5))\n",
    "print(\"len(set2) =\" , \"len(set4)->\",len(set4), \"+ len(set5)->\",len(set5),\"=\",len(set4) + len(set5))\n",
    "print(\"len(set3) =\" , \"len(set1)->\",len(set1), \"- len(set5)->\",len(set5),\"=\",len(set1) - len(set5))\n",
    "print(\"len(set4) =\" , \"len(set2)->\",len(set2), \"- len(set5)->\",len(set5),\"=\",len(set2) - len(set5))\n",
    "\n"
   ]
  },
  {
   "cell_type": "markdown",
   "metadata": {},
   "source": [
    "#### Create an empty set called `set6`."
   ]
  },
  {
   "cell_type": "code",
   "execution_count": 10,
   "metadata": {},
   "outputs": [
    {
     "name": "stdout",
     "output_type": "stream",
     "text": [
      "set()\n"
     ]
    }
   ],
   "source": [
    "# Your code here\n",
    "\n",
    "set6 = set()\n",
    "print(set6)\n"
   ]
  },
  {
   "cell_type": "markdown",
   "metadata": {},
   "source": [
    "#### Add `set3` and `set5` to `set6` using the Python Set `update` method."
   ]
  },
  {
   "cell_type": "code",
   "execution_count": 11,
   "metadata": {},
   "outputs": [
    {
     "name": "stdout",
     "output_type": "stream",
     "text": [
      "{0, 1, 3, 4, 7, 8, 9, 10, 11, 13, 14, 15, 16, 17, 18, 19, 21, 22, 23, 25, 27, 29, 30, 31, 33, 34, 35, 36, 37, 38, 40, 41, 43, 44, 45, 46, 47, 48, 50, 51, 53, 54, 55, 57, 59, 60, 61, 62, 63, 64, 65, 66, 67, 68, 69, 71, 72, 73, 74, 75, 76, 77, 78, 79, 80, 82, 83, 84, 85, 86, 88, 89, 90, 91, 92, 93, 94, 95, 96, 99}\n",
      "80\n"
     ]
    }
   ],
   "source": [
    "# Your code here\n",
    "\n",
    "# print(set3)\n",
    "# print(len(set3))\n",
    "\n",
    "# print(set5)\n",
    "# print(len(set5))\n",
    "\n",
    "set6.update(set3)\n",
    "set6.update(set5)\n",
    "print(set6)\n",
    "print(len(set6))\n",
    "\n",
    "\n"
   ]
  },
  {
   "cell_type": "markdown",
   "metadata": {},
   "source": [
    "#### Check if `set1` and `set6` are equal."
   ]
  },
  {
   "cell_type": "code",
   "execution_count": 12,
   "metadata": {},
   "outputs": [
    {
     "name": "stdout",
     "output_type": "stream",
     "text": [
      "{0, 1, 3, 4, 7, 8, 9, 10, 11, 13, 14, 15, 16, 17, 18, 19, 21, 22, 23, 25, 27, 29, 30, 31, 33, 34, 35, 36, 37, 38, 40, 41, 43, 44, 45, 46, 47, 48, 50, 51, 53, 54, 55, 57, 59, 60, 61, 62, 63, 64, 65, 66, 67, 68, 69, 71, 72, 73, 74, 75, 76, 77, 78, 79, 80, 82, 83, 84, 85, 86, 88, 89, 90, 91, 92, 93, 94, 95, 96, 99}\n",
      "{0, 1, 3, 4, 7, 8, 9, 10, 11, 13, 14, 15, 16, 17, 18, 19, 21, 22, 23, 25, 27, 29, 30, 31, 33, 34, 35, 36, 37, 38, 40, 41, 43, 44, 45, 46, 47, 48, 50, 51, 53, 54, 55, 57, 59, 60, 61, 62, 63, 64, 65, 66, 67, 68, 69, 71, 72, 73, 74, 75, 76, 77, 78, 79, 80, 82, 83, 84, 85, 86, 88, 89, 90, 91, 92, 93, 94, 95, 96, 99}\n",
      "set()\n",
      "set()\n"
     ]
    }
   ],
   "source": [
    "# Your code here\n",
    "print(set1)\n",
    "print(set6)\n",
    "print(set1-set6)\n",
    "print(set6-set1)\n"
   ]
  },
  {
   "cell_type": "markdown",
   "metadata": {},
   "source": [
    "#### Check if `set1` contains `set2` using the Python Set `issubset` method. Then check if `set1` contains `set3`.*"
   ]
  },
  {
   "cell_type": "code",
   "execution_count": 13,
   "metadata": {},
   "outputs": [
    {
     "name": "stdout",
     "output_type": "stream",
     "text": [
      "False - This one checks if everything in set1 is present in set2\n",
      "False - This one checks if everything in set2 is present in set1\n",
      "False - This one checks if everything in set1 is present in set3\n",
      "True - This one checks if everything in set3 is present in set1\n"
     ]
    }
   ],
   "source": [
    "# Your code here\n",
    "print(set1.issubset(set2), \"- This one checks if everything in set1 is present in set2\")\n",
    "print(set2.issubset(set1), \"- This one checks if everything in set2 is present in set1\")\n",
    "print(set1.issubset(set3), \"- This one checks if everything in set1 is present in set3\")\n",
    "print(set3.issubset(set1), \"- This one checks if everything in set3 is present in set1\")\n"
   ]
  },
  {
   "cell_type": "markdown",
   "metadata": {},
   "source": [
    "#### Using the Python Set `union` method, aggregate `set3`, `set4`, and `set5`. Then aggregate `set1` and `set2`. \n",
    "\n",
    "#### Check if the aggregated values are equal."
   ]
  },
  {
   "cell_type": "code",
   "execution_count": 14,
   "metadata": {},
   "outputs": [
    {
     "name": "stdout",
     "output_type": "stream",
     "text": [
      "True - This one checks if everything in set7 is present in set8\n",
      "True - This one checks if everything in set8 is present in set7\n",
      "93\n",
      "93\n"
     ]
    }
   ],
   "source": [
    "# Your code here\n",
    "\n",
    "set7 = set3.union(set4,set5)\n",
    "set8 = set1.union(set2)\n",
    "\n",
    "print(set7.issubset(set8), \"- This one checks if everything in set7 is present in set8\")\n",
    "print(set8.issubset(set7), \"- This one checks if everything in set8 is present in set7\")\n",
    "\n",
    "print(len(set7))\n",
    "print(len(set8))\n"
   ]
  },
  {
   "cell_type": "markdown",
   "metadata": {},
   "source": [
    "#### Using the `pop` method, remove the first element from `set1`."
   ]
  },
  {
   "cell_type": "code",
   "execution_count": 16,
   "metadata": {},
   "outputs": [
    {
     "name": "stdout",
     "output_type": "stream",
     "text": [
      "{0, 1, 3, 4, 7, 8, 9, 10, 11, 13, 14, 15, 16, 17, 18, 19, 21, 22, 23, 25, 27, 29, 30, 31, 33, 34, 35, 36, 37, 38, 40, 41, 43, 44, 45, 46, 47, 48, 50, 51, 53, 54, 55, 57, 59, 60, 61, 62, 63, 64, 65, 66, 67, 68, 69, 71, 72, 73, 74, 75, 76, 77, 78, 79, 80, 82, 83, 84, 85, 86, 88, 89, 90, 91, 92, 93, 94, 95, 96, 99}\n",
      "80\n",
      "0\n",
      "79\n"
     ]
    }
   ],
   "source": [
    "# Your code here\n",
    "# \"The pop() method removes a random item from the set. AND \"This method returns the removed item.\"\n",
    "# By definition \"Sets are unordered collections of unique elements\" so  I don't think is appropiate \n",
    "# to think I could remove elements in order.\n",
    "\n",
    "print(set1)\n",
    "print(len(set1))\n",
    "\n",
    "\"Using the pop method, remove the first element from set1.\"\n",
    "\n",
    "print(set1.pop())\n",
    "\n",
    "print(len(set1))\n"
   ]
  },
  {
   "cell_type": "markdown",
   "metadata": {},
   "source": [
    "#### Remove every element in the following list from `set1` if they are present in the set. Print the remaining elements.\n",
    "\n",
    "```\n",
    "list_to_remove = [1, 9, 11, 19, 21, 29, 31, 39, 41, 49, 51, 59, 61, 69, 71, 79, 81, 89, 91, 99]\n",
    "```"
   ]
  },
  {
   "cell_type": "code",
   "execution_count": 18,
   "metadata": {},
   "outputs": [
    {
     "name": "stdout",
     "output_type": "stream",
     "text": [
      "Modified Set1 Content:\n",
      "{3, 4, 7, 8, 10, 13, 14, 15, 16, 17, 18, 22, 23, 25, 27, 30, 33, 34, 35, 36, 37, 38, 40, 43, 44, 45, 46, 47, 48, 50, 53, 54, 55, 57, 60, 62, 63, 64, 65, 66, 67, 68, 72, 73, 74, 75, 76, 77, 78, 80, 82, 83, 84, 85, 86, 88, 90, 92, 93, 94, 95, 96}\n",
      "62\n"
     ]
    }
   ],
   "source": [
    "# Your code here\n",
    "\n",
    "# Elements to be deleted\n",
    "list_to_remove = [1, 9, 11, 19, 21, 29, 31, 39, 41, 49, 51, 59, 61, 69, 71, 79, 81, 89, 91, 99]\n",
    "# Remove all elements of list from the set\n",
    "set1.difference_update(list_to_remove)\n",
    "print('Modified Set1 Content:')\n",
    "print(set1)\n",
    "print(len(set1))"
   ]
  }
 ],
 "metadata": {
  "kernelspec": {
   "display_name": "Python [conda env:ironhack_env]",
   "language": "python",
   "name": "conda-env-ironhack_env-py"
  },
  "language_info": {
   "codemirror_mode": {
    "name": "ipython",
    "version": 3
   },
   "file_extension": ".py",
   "mimetype": "text/x-python",
   "name": "python",
   "nbconvert_exporter": "python",
   "pygments_lexer": "ipython3",
   "version": "3.8.5"
  }
 },
 "nbformat": 4,
 "nbformat_minor": 4
}
