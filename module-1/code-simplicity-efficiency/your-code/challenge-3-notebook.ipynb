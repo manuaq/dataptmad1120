{
 "cells": [
  {
   "cell_type": "code",
   "execution_count": null,
   "metadata": {},
   "outputs": [],
   "source": [
    "\"\"\"\n",
    "You are presented with an integer number larger than 5. Your goal is to identify the longest side\n",
    "possible in a right triangle whose sides are not longer than the number you are given.\n",
    "\n",
    "For example, if you are given the number 15, there are 3 possibilities to compose right triangles:\n",
    "\n",
    "1. [3, 4, 5]\n",
    "2. [6, 8, 10]\n",
    "3. [5, 12, 13]\n",
    "\n",
    "The following function shows one way to solve the problem but the code is not ideal or efficient.\n",
    "Refactor the code based on what you have learned about code simplicity and efficiency.\n",
    "\"\"\"\n",
    "\n",
    "\n",
    "\n",
    "def triangle_longest_side(max_lenght):\n",
    "    solutions = []\n",
    "    for x in range(5, max_lenght):\n",
    "        for y in range(4, max_lenght):\n",
    "            for z in range(3, max_lenght):\n",
    "                if (x*x==y*y+z*z):\n",
    "                    solutions.append([x, y, z])\n",
    "    m = 0\n",
    "    for solution in solutions:\n",
    "        if m < max(solution):\n",
    "            m = max(solution)\n",
    "    return m\n",
    "\n",
    "max_lenght = input(\"What is the maximal length of the triangle side? Enter a number: \")\n",
    "\n",
    "print(\"The longest side possible is \" + str(triangle_longest_side(int(max_lenght))))"
   ]
  }
 ],
 "metadata": {
  "kernelspec": {
   "display_name": "Python [conda env:ironhack_env]",
   "language": "python",
   "name": "conda-env-ironhack_env-py"
  },
  "language_info": {
   "codemirror_mode": {
    "name": "ipython",
    "version": 3
   },
   "file_extension": ".py",
   "mimetype": "text/x-python",
   "name": "python",
   "nbconvert_exporter": "python",
   "pygments_lexer": "ipython3",
   "version": "3.8.5"
  }
 },
 "nbformat": 4,
 "nbformat_minor": 4
}
