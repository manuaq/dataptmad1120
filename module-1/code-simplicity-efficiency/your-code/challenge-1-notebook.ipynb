{
 "cells": [
  {
   "cell_type": "code",
   "execution_count": null,
   "metadata": {},
   "outputs": [],
   "source": [
    "\"\"\"\n",
    "This is a dumb calculator that can add and subtract whole numbers from 0 (zero) to 5 (five).\n",
    "When you run the code, you are prompted to enter two numbers (in the form of English\n",
    "word instead of number) and the operator sign (also in the form of English word).\n",
    "The code will perform the calculation and give the result if your input is what it\n",
    "expects.\n",
    "\n",
    "The code is very long and messy. Refactor it according to what you have learned about\n",
    "code simplicity and efficiency.\n",
    "\"\"\"\n",
    "#This will calculator will add or substrack numbers from 0 to 5. \n",
    "\n",
    "# This function adds two numbers\n",
    "def add(a,b):\n",
    "    return a + b\n",
    "\n",
    "# This function subtracs two numbers\n",
    "def subtract(a,b):\n",
    "    return a - b\n",
    "\n",
    "numbers_list = [0,1,2,3,4,5]\n",
    "numbers_strings = [\"0\",\"1\",\"2\",\"3\",\"4\",\"5\"]\n",
    "numbers_words_strings = [\"zero\",\"one\",\"two\",\"three\",\"four\",\"five\"]\n",
    "word_numbers_dict = {\"zero\": 0, \"one\": 1, \"two\": 2, \"three\": 3, \"four\": 4, \"five\": 5}\n",
    "\n",
    "\n",
    "print('Welcome to this calculator!')\n",
    "print('It can add and subtract whole numbers from 0 (zero) to 5 (five)')\n",
    "first_number = input('Please choose your first number 0 (zero) to 5 (five): ').lower()\n",
    "\n",
    "while True:\n",
    "    if first_number not in (0,1,2,3,4,5,\"0\",\"1\",\"2\",\"3\",\"4\",\"5\",\"zero\",\"one\",\"two\",\"three\",\"four\",\"five\"):\n",
    "        raise ValueError(\"This calculator only takes numbers from 0 (zero) to 5 (five). Please check your input\")\n",
    "    else:\n",
    "        pass\n",
    "\n",
    "if len(first_number) == 1:\n",
    "    first_number = float(first_number)\n",
    "elif len(first_number) > 1:\n",
    "    word_numbers_dict.get(first_number)\n",
    "        \n",
    "b = input('What do you want to do?  \"ADD\"/\"plus\" (+) or \"SUBTRACT\"/\"minus\" (-):').lower()\n",
    "\n",
    "if b not in ['add', 'plus', '+','SUBSTRACT', 'minus', '-']:\n",
    "    raise ValueError(\"Please check operation input and try again\")\n",
    "\n",
    "second_number = input('Please choose your second number 0 (zero) to 5 (five): ').lower()\n",
    "\n",
    "if len(second_number) == 1:\n",
    "    second_number = float(second_number)\n",
    "elif len(second_number) > 1:\n",
    "    word_numbers_dict.get(second_number)\n",
    "    \n",
    "# Check if choice is one of the four options\n",
    "\n",
    "if b in ['add', 'plus', '+']:\n",
    "    print(first_number, \"+\", second_number, \"=\", add(first_number, second_number))\n",
    "if b in ['SUBSTRACT', 'minus', '-']:\n",
    "    print(first_number, \"-\", second_number, \"=\", subtract(first_number, second_number))\n",
    "\n",
    "print(\"Thanks for using this calculator, goodbye :)\")"
   ]
  },
  {
   "cell_type": "code",
   "execution_count": null,
   "metadata": {},
   "outputs": [],
   "source": [
    "# This function adds two numbers\n",
    "def add(a,b):\n",
    "    return a + b\n",
    "\n",
    "# This function subtracs two numbers\n",
    "def subtract(a,b):\n",
    "    return a - b\n",
    "\n",
    "numbers_list = [0,1,2,3,4,5]\n",
    "numbers_strings = [\"0\",\"1\",\"2\",\"3\",\"4\",\"5\"]\n",
    "numbers_words_strings = [\"zero\",\"one\",\"two\",\"three\",\"four\",\"five\"]\n",
    "word_numbers_dict = {\"zero\": 0, \"one\": 1, \"two\": 2, \"three\": 3, \"four\": 4, \"five\": 5}"
   ]
  },
  {
   "cell_type": "code",
   "execution_count": null,
   "metadata": {},
   "outputs": [],
   "source": [
    "print('Welcome to this calculator!')\n",
    "print('It can add and subtract whole numbers from 0 (zero) to 5 (five)')\n",
    "first_number = input('Please choose your first number 0 (zero) to 5 (five): ').lower()\n",
    "\n",
    "while True:\n",
    "    if first_number not in (0,1,2,3,4,5,\"0\",\"1\",\"2\",\"3\",\"4\",\"5\",\"zero\",\"one\",\"two\",\"three\",\"four\",\"five\"):\n",
    "        raise ValueError(\"This calculator only takes numbers from 0 (zero) to 5 (five). Please check your input\")\n",
    "    else:\n",
    "        pass\n",
    "\n",
    "if len(first_number) == 1:\n",
    "    first_number = float(first_number)\n",
    "elif len(first_number) > 1:\n",
    "    word_numbers_dict.get(first_number)"
   ]
  },
  {
   "cell_type": "code",
   "execution_count": null,
   "metadata": {},
   "outputs": [],
   "source": [
    "if len(first_number) == 1:\n",
    "    first_number = float(first_number)\n",
    "elif len(first_number) > 1:\n",
    "    word_numbers_dict.get(first_number)\n",
    "if first_number not in numbers_list or numbers_strings or numbers_words_strings:\n",
    "    raise ValueError(\"This calculator only takes numbers from 0 (zero) to 5 (five). Please check your input\")"
   ]
  },
  {
   "cell_type": "code",
   "execution_count": null,
   "metadata": {},
   "outputs": [],
   "source": [
    "b = input('What do you want to do?  \"ADD\"/\"plus\" (+) or \"SUBTRACT\"/\"minus\" (-):').lower()\n",
    "\n",
    "if b not in ['add', 'plus', '+','SUBSTRACT', 'minus', '-']:\n",
    "    raise ValueError(\"Please check operation input and try again\")"
   ]
  }
 ],
 "metadata": {
  "kernelspec": {
   "display_name": "Python [conda env:ironhack_env]",
   "language": "python",
   "name": "conda-env-ironhack_env-py"
  },
  "language_info": {
   "codemirror_mode": {
    "name": "ipython",
    "version": 3
   },
   "file_extension": ".py",
   "mimetype": "text/x-python",
   "name": "python",
   "nbconvert_exporter": "python",
   "pygments_lexer": "ipython3",
   "version": "3.8.5"
  }
 },
 "nbformat": 4,
 "nbformat_minor": 4
}
