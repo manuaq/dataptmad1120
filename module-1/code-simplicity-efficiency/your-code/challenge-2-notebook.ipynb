{
 "cells": [
  {
   "cell_type": "code",
   "execution_count": 39,
   "metadata": {},
   "outputs": [
    {
     "name": "stdin",
     "output_type": "stream",
     "text": [
      "Enter minimum string length:  6\n",
      "Enter maximum string length:  6\n",
      "How many random strings to generate?  4\n"
     ]
    },
    {
     "name": "stdout",
     "output_type": "stream",
     "text": [
      "['28thf5', '75cdd6', '87ocj8', 'uojnl0']\n"
     ]
    }
   ],
   "source": [
    "\"\"\"\n",
    "The code below generates a given number of random strings that consists of numbers and \n",
    "lower case English letters. You can also define the range of the variable lengths of\n",
    "the strings being generated.\n",
    "\n",
    "The code is functional but has a lot of room for improvement. Use what you have learned\n",
    "about simple and efficient code, refactor the code.\n",
    "\"\"\"\n",
    "\n",
    "# I changed the variables names and did all a little bit more verbose\n",
    "\n",
    "def RandomStringGenerator(str_lenght=12, accepted_inputs = string.ascii_lowercase + string.digits):\n",
    "    characters = 0\n",
    "    string = ''\n",
    "    while characters < str_lenght:\n",
    "        import random\n",
    "        string += random.choice(accepted_inputs)\n",
    "        characters += 1\n",
    "    return string\n",
    "\n",
    "\n",
    "def BatchStringGenerator(strings_to_generate, min_str_len=8, max_str_len=12):\n",
    "    r = []\n",
    "    for i in range(strings_to_generate):\n",
    "        str_len = None\n",
    "        if min_str_len < max_str_len:\n",
    "            import random\n",
    "            str_len = random.choice(range(min_str_len, max_str_len))\n",
    "        elif min_str_len == max_str_len:\n",
    "            str_len = min_str_len\n",
    "        else:\n",
    "            import sys\n",
    "            sys.exit('Incorrect min and max string lengths. Try again.')\n",
    "        r.append(RandomStringGenerator(str_len))\n",
    "    return r\n",
    "\n",
    "min_str_len = input('Enter minimum string length: ')\n",
    "max_str_len = input('Enter maximum string length: ')\n",
    "strings_to_generate = input('How many random strings to generate? ')\n",
    "\n",
    "print(BatchStringGenerator(int(strings_to_generate), int(min_str_len), int(max_str_len)))\n"
   ]
  },
  {
   "cell_type": "code",
   "execution_count": 36,
   "metadata": {},
   "outputs": [
    {
     "name": "stdout",
     "output_type": "stream",
     "text": [
      "The generated random string : fnjtqpyj\n"
     ]
    }
   ],
   "source": [
    "#https://www.codegrepper.com/code-examples/fortran/generate+random+alphanumeric+string+in+python\n",
    "#https://www.codegrepper.com/code-examples/delphi/how+to+generate+alphanumeric+in+python\n",
    "#https://www.geeksforgeeks.org/python-generate-random-string-of-given-length/\n",
    "\n",
    "import string \n",
    "import random\n",
    "\n",
    "# initializing size of string  \n",
    "N = 8\n",
    "\n",
    "# using random.choices() \n",
    "# generating random strings  \n",
    "res = ''.join(random.choices(string.ascii_lowercase +\n",
    "                             string.digits, k = N))\n",
    "\n",
    "# print result \n",
    "print(\"The generated random string : \" + str(res))"
   ]
  },
  {
   "cell_type": "code",
   "execution_count": 37,
   "metadata": {},
   "outputs": [
    {
     "name": "stdout",
     "output_type": "stream",
     "text": [
      "k\n"
     ]
    }
   ],
   "source": [
    "# -random letter generator-\n",
    "import string\n",
    "var1 = string.ascii_lowercase\n",
    "\n",
    "import random\n",
    "var2 = random.choice(string.ascii_lowercase)\n",
    "print(var2)"
   ]
  },
  {
   "cell_type": "code",
   "execution_count": 38,
   "metadata": {},
   "outputs": [
    {
     "name": "stdout",
     "output_type": "stream",
     "text": [
      "abcdefghijklmnopqrstuvwxyz\n"
     ]
    }
   ],
   "source": [
    "print(var1)"
   ]
  }
 ],
 "metadata": {
  "kernelspec": {
   "display_name": "Python [conda env:ironhack_env]",
   "language": "python",
   "name": "conda-env-ironhack_env-py"
  },
  "language_info": {
   "codemirror_mode": {
    "name": "ipython",
    "version": 3
   },
   "file_extension": ".py",
   "mimetype": "text/x-python",
   "name": "python",
   "nbconvert_exporter": "python",
   "pygments_lexer": "ipython3",
   "version": "3.8.5"
  }
 },
 "nbformat": 4,
 "nbformat_minor": 4
}
