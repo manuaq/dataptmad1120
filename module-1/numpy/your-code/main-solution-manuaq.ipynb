{
 "cells": [
  {
   "cell_type": "markdown",
   "metadata": {},
   "source": [
    "# Introduction to NumPy\n",
    "\n",
    "\n",
    "#### 1. Import NumPy under the name np."
   ]
  },
  {
   "cell_type": "code",
   "execution_count": 1,
   "metadata": {},
   "outputs": [],
   "source": [
    "# your code here\n",
    "import numpy as np"
   ]
  },
  {
   "cell_type": "markdown",
   "metadata": {},
   "source": [
    "#### 2. Print your NumPy version."
   ]
  },
  {
   "cell_type": "code",
   "execution_count": 2,
   "metadata": {},
   "outputs": [
    {
     "data": {
      "text/plain": [
       "'1.19.2'"
      ]
     },
     "execution_count": 2,
     "metadata": {},
     "output_type": "execute_result"
    }
   ],
   "source": [
    "# your code here\n",
    "np.version.version"
   ]
  },
  {
   "cell_type": "markdown",
   "metadata": {},
   "source": [
    "#### 3. Generate a 2x3x5 3-dimensional array with random values. Assign the array to variable *a*.\n",
    "**Challenge**: there are at least three easy ways that use numpy to generate random arrays. How many ways can you find?"
   ]
  },
  {
   "cell_type": "code",
   "execution_count": 3,
   "metadata": {},
   "outputs": [],
   "source": [
    "# Method 1\n",
    "a_1 = np.random.random((2,3,5))"
   ]
  },
  {
   "cell_type": "code",
   "execution_count": 4,
   "metadata": {},
   "outputs": [],
   "source": [
    "# Method 2\n",
    "a_2 = np.random.randint(low=0, high=100, size=(2,3,5))"
   ]
  },
  {
   "cell_type": "code",
   "execution_count": 5,
   "metadata": {},
   "outputs": [],
   "source": [
    "# Method 3\n",
    "a_3 = np.random.rand(2,3,5)"
   ]
  },
  {
   "cell_type": "markdown",
   "metadata": {},
   "source": [
    "#### 4. Print *a*.\n"
   ]
  },
  {
   "cell_type": "code",
   "execution_count": 6,
   "metadata": {},
   "outputs": [
    {
     "name": "stdout",
     "output_type": "stream",
     "text": [
      "[[[0.30342303 0.17110038 0.37775875 0.72479454 0.65523651]\n",
      "  [0.65473405 0.59645495 0.80824868 0.2337549  0.39425582]\n",
      "  [0.09990304 0.06651544 0.79548964 0.47521282 0.03229182]]\n",
      "\n",
      " [[0.87060701 0.10370301 0.57951626 0.06957617 0.29646273]\n",
      "  [0.1833518  0.05045979 0.24474622 0.32236981 0.69770493]\n",
      "  [0.4351634  0.71227533 0.7114299  0.84609403 0.84855264]]]\n",
      "[[[83 14 19 42 60]\n",
      "  [79 61 79 33 93]\n",
      "  [88  6 74 25  4]]\n",
      "\n",
      " [[47 23 49  3 96]\n",
      "  [46 92 30 84 97]\n",
      "  [59 24 81 58 16]]]\n",
      "[[[0.88341489 0.55625406 0.78666966 0.34375541 0.50271536]\n",
      "  [0.49627824 0.68278522 0.97789551 0.43307757 0.56034266]\n",
      "  [0.87006375 0.12807617 0.98858204 0.73596225 0.97478834]]\n",
      "\n",
      " [[0.88558356 0.47668682 0.85322208 0.14919383 0.28116717]\n",
      "  [0.60724805 0.06046008 0.89034102 0.86540738 0.84929641]\n",
      "  [0.42362393 0.63383577 0.90454446 0.95716396 0.74700037]]]\n"
     ]
    }
   ],
   "source": [
    "# your code here\n",
    "print(a_1)\n",
    "print(a_2)\n",
    "print(a_3)"
   ]
  },
  {
   "cell_type": "markdown",
   "metadata": {},
   "source": [
    "#### 5. Create a 5x2x3 3-dimensional array with all values equaling 1. Assign the array to variable *b*."
   ]
  },
  {
   "cell_type": "code",
   "execution_count": 7,
   "metadata": {},
   "outputs": [],
   "source": [
    "# your code here\n",
    "b = np.ones((5,2,3))"
   ]
  },
  {
   "cell_type": "markdown",
   "metadata": {},
   "source": [
    "#### 6. Print *b*.\n"
   ]
  },
  {
   "cell_type": "code",
   "execution_count": 8,
   "metadata": {},
   "outputs": [
    {
     "name": "stdout",
     "output_type": "stream",
     "text": [
      "[[[1. 1. 1.]\n",
      "  [1. 1. 1.]]\n",
      "\n",
      " [[1. 1. 1.]\n",
      "  [1. 1. 1.]]\n",
      "\n",
      " [[1. 1. 1.]\n",
      "  [1. 1. 1.]]\n",
      "\n",
      " [[1. 1. 1.]\n",
      "  [1. 1. 1.]]\n",
      "\n",
      " [[1. 1. 1.]\n",
      "  [1. 1. 1.]]]\n"
     ]
    },
    {
     "data": {
      "text/plain": [
       "(5, 2, 3)"
      ]
     },
     "execution_count": 8,
     "metadata": {},
     "output_type": "execute_result"
    }
   ],
   "source": [
    "# your code here\n",
    "print(b)\n",
    "b.shape"
   ]
  },
  {
   "cell_type": "markdown",
   "metadata": {},
   "source": [
    "#### 7. Do *a* and *b* have the same size? How do you prove that in Python code?"
   ]
  },
  {
   "cell_type": "code",
   "execution_count": 9,
   "metadata": {},
   "outputs": [
    {
     "name": "stdout",
     "output_type": "stream",
     "text": [
      "True - The compared arrays DO have the same size. a_1.size = 30 and b.size = 30\n"
     ]
    }
   ],
   "source": [
    "# your code here\n",
    "# print(a_1.size)\n",
    "# print(a_2.size)\n",
    "# print(a_3.size)\n",
    "# print(b.size)\n",
    "\n",
    "if a_1.size == b.size:\n",
    "    print(True,\"- The compared arrays DO have the same size.\",\"a_1.size =\",a_1.size, \"and\",\"b.size =\",b.size)\n",
    "else:\n",
    "    print(False,\"- The compared arrays DO NOT have the same size.\",\"a_1.size =\",a_1.size, \"and\",\"b.size =\",b.size)\n",
    "    "
   ]
  },
  {
   "cell_type": "markdown",
   "metadata": {},
   "source": [
    "#### 8. Are you able to add *a* and *b*? Why or why not?\n"
   ]
  },
  {
   "cell_type": "code",
   "execution_count": 10,
   "metadata": {},
   "outputs": [
    {
     "ename": "ValueError",
     "evalue": "operands could not be broadcast together with shapes (2,3,5) (5,2,3) ",
     "output_type": "error",
     "traceback": [
      "\u001b[0;31m---------------------------------------------------------------------------\u001b[0m",
      "\u001b[0;31mValueError\u001b[0m                                Traceback (most recent call last)",
      "\u001b[0;32m<ipython-input-10-23beca24182d>\u001b[0m in \u001b[0;36m<module>\u001b[0;34m\u001b[0m\n\u001b[1;32m      1\u001b[0m \u001b[0;31m# your answer here\u001b[0m\u001b[0;34m\u001b[0m\u001b[0;34m\u001b[0m\u001b[0;34m\u001b[0m\u001b[0m\n\u001b[1;32m      2\u001b[0m \u001b[0;34m\u001b[0m\u001b[0m\n\u001b[0;32m----> 3\u001b[0;31m \u001b[0mprint\u001b[0m\u001b[0;34m(\u001b[0m\u001b[0ma_1\u001b[0m \u001b[0;34m+\u001b[0m \u001b[0mb\u001b[0m\u001b[0;34m)\u001b[0m\u001b[0;34m\u001b[0m\u001b[0;34m\u001b[0m\u001b[0m\n\u001b[0m\u001b[1;32m      4\u001b[0m \u001b[0mprint\u001b[0m\u001b[0;34m(\u001b[0m\u001b[0ma_2\u001b[0m \u001b[0;34m+\u001b[0m \u001b[0mb\u001b[0m\u001b[0;34m)\u001b[0m\u001b[0;34m\u001b[0m\u001b[0;34m\u001b[0m\u001b[0m\n\u001b[1;32m      5\u001b[0m \u001b[0mprint\u001b[0m\u001b[0;34m(\u001b[0m\u001b[0ma_3\u001b[0m \u001b[0;34m+\u001b[0m \u001b[0mb\u001b[0m\u001b[0;34m)\u001b[0m\u001b[0;34m\u001b[0m\u001b[0;34m\u001b[0m\u001b[0m\n",
      "\u001b[0;31mValueError\u001b[0m: operands could not be broadcast together with shapes (2,3,5) (5,2,3) "
     ]
    }
   ],
   "source": [
    "# your answer here\n",
    "\n",
    "print(a_1 + b)\n",
    "print(a_2 + b)\n",
    "print(a_3 + b)\n",
    "\n",
    "#Arrays can't be added because they are shaped differently. It raises a ValueError:\n",
    "#ValueError: operands could not be broadcast together with shapes (2,3,5) (5,2,3)"
   ]
  },
  {
   "cell_type": "markdown",
   "metadata": {},
   "source": [
    "#### 9. Transpose *b* so that it has the same structure of *a* (i.e. become a 2x3x5 array). Assign the transposed array to variable *c*."
   ]
  },
  {
   "cell_type": "code",
   "execution_count": 11,
   "metadata": {},
   "outputs": [
    {
     "name": "stdout",
     "output_type": "stream",
     "text": [
      "(2, 3, 5)\n",
      "(2, 3, 5)\n",
      "(2, 3, 5)\n",
      "(2, 3, 5)\n",
      "[[[1. 1. 1. 1. 1.]\n",
      "  [1. 1. 1. 1. 1.]\n",
      "  [1. 1. 1. 1. 1.]]\n",
      "\n",
      " [[1. 1. 1. 1. 1.]\n",
      "  [1. 1. 1. 1. 1.]\n",
      "  [1. 1. 1. 1. 1.]]]\n"
     ]
    }
   ],
   "source": [
    "# your code here\n",
    "c = np.transpose(b)\n",
    "\n",
    "#I tried using transpose, but the shape using transpose is different from a.shape. Using transpose it returns a -> c.shape that is (3, 2, 5)\n",
    "# And we need a 2x3x5 shape. Which are the shapes in a_1,a_2 or a_3, as requested in step #3\n",
    "'''---------------------------------------------------------------------------\n",
    "ValueError                                Traceback (most recent call last)\n",
    "<ipython-input-25-99e5ad4b5996> in <module>\n",
    "      1 # your code/answer here\n",
    "----> 2 d = a_1 + c\n",
    "      3 print(d)\n",
    "\n",
    "ValueError: operands could not be broadcast together with shapes (2,3,5) (3,2,5)'''\n",
    "\n",
    "#So I will used the reshape option to shape as needed to add the ones.\n",
    "\n",
    "c = np.reshape(b,(2,3,5))\n",
    "\n",
    "print(c.shape)\n",
    "print(a_1.shape)\n",
    "print(a_2.shape)\n",
    "print(a_2.shape)\n",
    "\n",
    "print(c)\n"
   ]
  },
  {
   "cell_type": "markdown",
   "metadata": {},
   "source": [
    "#### 10. Try to add *a* and *c*. Now it should work. Assign the sum to variable *d*. But why does it work now?"
   ]
  },
  {
   "cell_type": "code",
   "execution_count": 12,
   "metadata": {},
   "outputs": [
    {
     "name": "stdout",
     "output_type": "stream",
     "text": [
      "[[[1.30342303 1.17110038 1.37775875 1.72479454 1.65523651]\n",
      "  [1.65473405 1.59645495 1.80824868 1.2337549  1.39425582]\n",
      "  [1.09990304 1.06651544 1.79548964 1.47521282 1.03229182]]\n",
      "\n",
      " [[1.87060701 1.10370301 1.57951626 1.06957617 1.29646273]\n",
      "  [1.1833518  1.05045979 1.24474622 1.32236981 1.69770493]\n",
      "  [1.4351634  1.71227533 1.7114299  1.84609403 1.84855264]]]\n",
      "[[[84. 15. 20. 43. 61.]\n",
      "  [80. 62. 80. 34. 94.]\n",
      "  [89.  7. 75. 26.  5.]]\n",
      "\n",
      " [[48. 24. 50.  4. 97.]\n",
      "  [47. 93. 31. 85. 98.]\n",
      "  [60. 25. 82. 59. 17.]]]\n",
      "[[[1.88341489 1.55625406 1.78666966 1.34375541 1.50271536]\n",
      "  [1.49627824 1.68278522 1.97789551 1.43307757 1.56034266]\n",
      "  [1.87006375 1.12807617 1.98858204 1.73596225 1.97478834]]\n",
      "\n",
      " [[1.88558356 1.47668682 1.85322208 1.14919383 1.28116717]\n",
      "  [1.60724805 1.06046008 1.89034102 1.86540738 1.84929641]\n",
      "  [1.42362393 1.63383577 1.90454446 1.95716396 1.74700037]]]\n"
     ]
    }
   ],
   "source": [
    "# your code/answer here\n",
    "d_1 = a_1 + c\n",
    "d_2 = a_2 + c\n",
    "d_3 = a_3 + c\n",
    "print(d_1)\n",
    "print(d_2)\n",
    "print(d_3)"
   ]
  },
  {
   "cell_type": "markdown",
   "metadata": {},
   "source": [
    "#### 11. Print *a* and *d*. Notice the difference and relation of the two array in terms of the values? Explain."
   ]
  },
  {
   "cell_type": "code",
   "execution_count": 13,
   "metadata": {},
   "outputs": [
    {
     "name": "stdout",
     "output_type": "stream",
     "text": [
      "[[[83 14 19 42 60]\n",
      "  [79 61 79 33 93]\n",
      "  [88  6 74 25  4]]\n",
      "\n",
      " [[47 23 49  3 96]\n",
      "  [46 92 30 84 97]\n",
      "  [59 24 81 58 16]]]\n",
      "[[[84. 15. 20. 43. 61.]\n",
      "  [80. 62. 80. 34. 94.]\n",
      "  [89.  7. 75. 26.  5.]]\n",
      "\n",
      " [[48. 24. 50.  4. 97.]\n",
      "  [47. 93. 31. 85. 98.]\n",
      "  [60. 25. 82. 59. 17.]]]\n"
     ]
    }
   ],
   "source": [
    "# your code/answer here\n",
    "print(a_2)\n",
    "print(d_2)\n",
    "\n",
    "#d_2  is the sum from a_1 and c, this formula added 1 to all the elements in a_2, this happened becaused all elements in c were ones (1)"
   ]
  },
  {
   "cell_type": "markdown",
   "metadata": {},
   "source": [
    "#### 12. Multiply *a* and *c*. Assign the result to *e*."
   ]
  },
  {
   "cell_type": "code",
   "execution_count": 14,
   "metadata": {},
   "outputs": [
    {
     "name": "stdout",
     "output_type": "stream",
     "text": [
      "[[[83. 14. 19. 42. 60.]\n",
      "  [79. 61. 79. 33. 93.]\n",
      "  [88.  6. 74. 25.  4.]]\n",
      "\n",
      " [[47. 23. 49.  3. 96.]\n",
      "  [46. 92. 30. 84. 97.]\n",
      "  [59. 24. 81. 58. 16.]]]\n"
     ]
    }
   ],
   "source": [
    "# your code here\n",
    "e = a_2 * c\n",
    "print(e)"
   ]
  },
  {
   "cell_type": "markdown",
   "metadata": {},
   "source": [
    "#### 13. Does *e* equal to *a*? Why or why not?\n"
   ]
  },
  {
   "cell_type": "code",
   "execution_count": 16,
   "metadata": {},
   "outputs": [
    {
     "name": "stdout",
     "output_type": "stream",
     "text": [
      "(2, 3, 5)\n",
      "(2, 3, 5)\n",
      "<class 'numpy.ndarray'>\n",
      "<class 'numpy.ndarray'>\n"
     ]
    },
    {
     "data": {
      "text/plain": [
       "array([[[ True,  True,  True,  True,  True],\n",
       "        [ True,  True,  True,  True,  True],\n",
       "        [ True,  True,  True,  True,  True]],\n",
       "\n",
       "       [[ True,  True,  True,  True,  True],\n",
       "        [ True,  True,  True,  True,  True],\n",
       "        [ True,  True,  True,  True,  True]]])"
      ]
     },
     "execution_count": 16,
     "metadata": {},
     "output_type": "execute_result"
    }
   ],
   "source": [
    "# your code/answer here\n",
    "print(e.shape)\n",
    "print(a_2.shape)\n",
    "print(type(e))\n",
    "print(type(a_2))\n",
    "\n",
    "a_2 == e\n",
    "#Yes, it's equal because it's just multipliying all values in a_2 for 1."
   ]
  },
  {
   "cell_type": "markdown",
   "metadata": {},
   "source": [
    "#### 14. Identify the max, min, and mean values in *d*. Assign those values to variables *d_max*, *d_min* and *d_mean*."
   ]
  },
  {
   "cell_type": "code",
   "execution_count": 17,
   "metadata": {},
   "outputs": [
    {
     "name": "stdout",
     "output_type": "stream",
     "text": [
      "98.0\n",
      "4.0\n",
      "53.166666666666664\n"
     ]
    }
   ],
   "source": [
    "# your code here \n",
    "d_max = np.max(d_2)\n",
    "d_min = np.min(d_2)\n",
    "d_mean = np.mean(d_2)\n",
    "print(d_max)\n",
    "print(d_min)\n",
    "print(d_mean)"
   ]
  },
  {
   "cell_type": "markdown",
   "metadata": {},
   "source": [
    "#### 15. Now we want to label the values in *d*. First create an empty array *f* with the same shape (i.e. 2x3x5) as *d* using `np.empty`.\n"
   ]
  },
  {
   "cell_type": "code",
   "execution_count": 18,
   "metadata": {},
   "outputs": [
    {
     "name": "stdout",
     "output_type": "stream",
     "text": [
      "(2, 3, 5)\n"
     ]
    }
   ],
   "source": [
    "# your code here\n",
    "#print(d_2.shape)\n",
    "f = np.empty((2,3,5))\n",
    "print(f.shape)\n",
    "print(f)"
   ]
  },
  {
   "cell_type": "markdown",
   "metadata": {},
   "source": [
    "#### 16. Populate the values in *f*. \n",
    "\n",
    "For each value in *d*, if it's larger than *d_min* but smaller than *d_mean*, assign 25 to the corresponding value in *f*. If a value in *d* is larger than *d_mean* but smaller than *d_max*, assign 75 to the corresponding value in *f*. If a value equals to *d_mean*, assign 50 to the corresponding value in *f*. Assign 0 to the corresponding value(s) in *f* for *d_min* in *d*. Assign 100 to the corresponding value(s) in *f* for *d_max* in *d*. In the end, f should have only the following values: 0, 25, 50, 75, and 100.\n",
    "\n",
    "**Note**: you don't have to use Numpy in this question."
   ]
  },
  {
   "cell_type": "code",
   "execution_count": 24,
   "metadata": {},
   "outputs": [
    {
     "name": "stdout",
     "output_type": "stream",
     "text": [
      "[[[84. 15. 20. 43. 61.]\n",
      "  [80. 62. 80. 34. 94.]\n",
      "  [89.  7. 75. 26.  5.]]\n",
      "\n",
      " [[48. 24. 50.  4. 97.]\n",
      "  [47. 93. 31. 85. 98.]\n",
      "  [60. 25. 82. 59. 17.]]]\n"
     ]
    },
    {
     "ename": "IndexError",
     "evalue": "arrays used as indices must be of integer (or boolean) type",
     "output_type": "error",
     "traceback": [
      "\u001b[0;31m---------------------------------------------------------------------------\u001b[0m",
      "\u001b[0;31mIndexError\u001b[0m                                Traceback (most recent call last)",
      "\u001b[0;32m<ipython-input-24-6b8cf6fed7f5>\u001b[0m in \u001b[0;36m<module>\u001b[0;34m\u001b[0m\n\u001b[1;32m     14\u001b[0m                 \u001b[0mf\u001b[0m\u001b[0;34m[\u001b[0m\u001b[0mgroup\u001b[0m\u001b[0;34m]\u001b[0m\u001b[0;34m[\u001b[0m\u001b[0marray\u001b[0m\u001b[0;34m]\u001b[0m\u001b[0;34m[\u001b[0m\u001b[0mvalue\u001b[0m\u001b[0;34m]\u001b[0m \u001b[0;34m=\u001b[0m \u001b[0;36m50\u001b[0m\u001b[0;34m\u001b[0m\u001b[0;34m\u001b[0m\u001b[0m\n\u001b[1;32m     15\u001b[0m             \u001b[0;32mif\u001b[0m \u001b[0mvalue\u001b[0m \u001b[0;34m==\u001b[0m \u001b[0md_min\u001b[0m\u001b[0;34m:\u001b[0m\u001b[0;34m\u001b[0m\u001b[0;34m\u001b[0m\u001b[0m\n\u001b[0;32m---> 16\u001b[0;31m                 \u001b[0mf\u001b[0m\u001b[0;34m[\u001b[0m\u001b[0mgroup\u001b[0m\u001b[0;34m]\u001b[0m\u001b[0;34m[\u001b[0m\u001b[0marray\u001b[0m\u001b[0;34m]\u001b[0m\u001b[0;34m[\u001b[0m\u001b[0mvalue\u001b[0m\u001b[0;34m]\u001b[0m \u001b[0;34m=\u001b[0m \u001b[0;36m0\u001b[0m\u001b[0;34m\u001b[0m\u001b[0;34m\u001b[0m\u001b[0m\n\u001b[0m\u001b[1;32m     17\u001b[0m             \u001b[0;32mif\u001b[0m \u001b[0mvalue\u001b[0m \u001b[0;34m==\u001b[0m \u001b[0md_max\u001b[0m\u001b[0;34m:\u001b[0m\u001b[0;34m\u001b[0m\u001b[0;34m\u001b[0m\u001b[0m\n\u001b[1;32m     18\u001b[0m                 \u001b[0mf\u001b[0m\u001b[0;34m[\u001b[0m\u001b[0mgroup\u001b[0m\u001b[0;34m]\u001b[0m\u001b[0;34m[\u001b[0m\u001b[0marray\u001b[0m\u001b[0;34m]\u001b[0m\u001b[0;34m[\u001b[0m\u001b[0mvalue\u001b[0m\u001b[0;34m]\u001b[0m \u001b[0;34m=\u001b[0m \u001b[0;36m100\u001b[0m\u001b[0;34m\u001b[0m\u001b[0;34m\u001b[0m\u001b[0m\n",
      "\u001b[0;31mIndexError\u001b[0m: arrays used as indices must be of integer (or boolean) type"
     ]
    }
   ],
   "source": [
    "# your code here\n",
    "print(d_2)\n",
    "for group in d_2:\n",
    "    #print(group)\n",
    "    for array in group:\n",
    "        #print(array)\n",
    "        for value in array:\n",
    "            #print(value)\n",
    "            if d_min > value < d_mean:\n",
    "                f[group][array][value] = 25\n",
    "            if d_max < value > d_mean:\n",
    "                f[group][array][value] = 75\n",
    "            if value == d_mean:\n",
    "                f[group][array][value] = 50\n",
    "            if value == d_min:\n",
    "                f[group][array][value] = 0\n",
    "            if value == d_max:\n",
    "                f[group][array][value] = 100\n",
    "                \n",
    "# f[d_2 <= d_min] = 0\n",
    "# f[(d_2 > d_min)&(d_2 < d_mean)] = 25\n",
    "# f[d_2 == d_mean] = 50\n",
    "# f[(d_2 > d_mean)&(d_2 < d_max)] = 75\n",
    "# f[d_2 >= d_max] = 100\n",
    "print(f)"
   ]
  },
  {
   "cell_type": "markdown",
   "metadata": {},
   "source": [
    "#### 17. Print *d* and *f*. Do you have your expected *f*?\n",
    "For instance, if your *d* is:\n",
    "```python\n",
    "[[[1.85836099, 1.67064465, 1.62576044, 1.40243961, 1.88454931],\n",
    "[1.75354326, 1.69403643, 1.36729252, 1.61415071, 1.12104981],\n",
    "[1.72201435, 1.1862918 , 1.87078449, 1.7726778 , 1.88180042]],\n",
    "[[1.44747908, 1.31673383, 1.02000951, 1.52218947, 1.97066381],\n",
    "[1.79129243, 1.74983003, 1.96028037, 1.85166831, 1.65450881],\n",
    "[1.18068344, 1.9587381 , 1.00656599, 1.93402165, 1.73514584]]]\n",
    "```\n",
    "Your *f* should be:\n",
    "```python\n",
    "[[[ 75.,  75.,  75.,  25.,  75.],\n",
    "[ 75.,  75.,  25.,  25.,  25.],\n",
    "[ 75.,  25.,  75.,  75.,  75.]],\n",
    "[[ 25.,  25.,  25.,  25., 100.],\n",
    "[ 75.,  75.,  75.,  75.,  75.],\n",
    "[ 25.,  75.,   0.,  75.,  75.]]]\n",
    "```"
   ]
  },
  {
   "cell_type": "code",
   "execution_count": null,
   "metadata": {},
   "outputs": [],
   "source": [
    "# your code here"
   ]
  },
  {
   "cell_type": "markdown",
   "metadata": {},
   "source": [
    "#### 18. Bonus question: instead of using numbers (i.e. 0, 25, 50, 75, and 100), use string values  (\"A\", \"B\", \"C\", \"D\", and \"E\") to label the array elements. For the example above, the expected result is:\n",
    "\n",
    "```python\n",
    "[[[ 'D',  'D',  'D',  'B',  'D'],\n",
    "[ 'D',  'D',  'B',  'B',  'B'],\n",
    "[ 'D',  'B',  'D',  'D',  'D']],\n",
    "[[ 'B',  'B',  'B',  'B',  'E'],\n",
    "[ 'D',  'D',  'D',  'D',  'D'],\n",
    "[ 'B',  'D',   'A',  'D', 'D']]]\n",
    "```\n",
    "**Note**: you don't have to use Numpy in this question."
   ]
  },
  {
   "cell_type": "code",
   "execution_count": null,
   "metadata": {},
   "outputs": [],
   "source": [
    "# your code here"
   ]
  }
 ],
 "metadata": {
  "kernelspec": {
   "display_name": "Python [conda env:ironhack_env]",
   "language": "python",
   "name": "conda-env-ironhack_env-py"
  },
  "language_info": {
   "codemirror_mode": {
    "name": "ipython",
    "version": 3
   },
   "file_extension": ".py",
   "mimetype": "text/x-python",
   "name": "python",
   "nbconvert_exporter": "python",
   "pygments_lexer": "ipython3",
   "version": "3.8.5"
  }
 },
 "nbformat": 4,
 "nbformat_minor": 4
}
