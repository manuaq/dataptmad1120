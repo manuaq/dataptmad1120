{
 "cells": [
  {
   "cell_type": "markdown",
   "metadata": {},
   "source": [
    "# Introduction to NumPy\n",
    "\n",
    "\n",
    "#### 1. Import NumPy under the name np."
   ]
  },
  {
   "cell_type": "code",
   "execution_count": 1,
   "metadata": {},
   "outputs": [],
   "source": [
    "# your code here\n",
    "import numpy as np"
   ]
  },
  {
   "cell_type": "markdown",
   "metadata": {},
   "source": [
    "#### 2. Print your NumPy version."
   ]
  },
  {
   "cell_type": "code",
   "execution_count": 2,
   "metadata": {},
   "outputs": [
    {
     "data": {
      "text/plain": [
       "'1.19.2'"
      ]
     },
     "execution_count": 2,
     "metadata": {},
     "output_type": "execute_result"
    }
   ],
   "source": [
    "# your code here\n",
    "np.version.version"
   ]
  },
  {
   "cell_type": "markdown",
   "metadata": {},
   "source": [
    "#### 3. Generate a 2x3x5 3-dimensional array with random values. Assign the array to variable *a*.\n",
    "**Challenge**: there are at least three easy ways that use numpy to generate random arrays. How many ways can you find?"
   ]
  },
  {
   "cell_type": "code",
   "execution_count": 3,
   "metadata": {},
   "outputs": [],
   "source": [
    "# Method 1\n",
    "a_1 = np.random.random((2,3,5))"
   ]
  },
  {
   "cell_type": "code",
   "execution_count": 4,
   "metadata": {},
   "outputs": [],
   "source": [
    "# Method 2\n",
    "a_2 = np.random.randint(low=0, high=100, size=(2,3,5))"
   ]
  },
  {
   "cell_type": "code",
   "execution_count": 5,
   "metadata": {},
   "outputs": [],
   "source": [
    "# Method 3\n",
    "a_3 = np.random.rand(2,3,5)"
   ]
  },
  {
   "cell_type": "markdown",
   "metadata": {},
   "source": [
    "#### 4. Print *a*.\n"
   ]
  },
  {
   "cell_type": "code",
   "execution_count": 6,
   "metadata": {},
   "outputs": [
    {
     "name": "stdout",
     "output_type": "stream",
     "text": [
      "[[[0.2360892  0.61796005 0.39432237 0.58455812 0.57211081]\n",
      "  [0.90966033 0.72438455 0.38004717 0.17702062 0.40702863]\n",
      "  [0.20796677 0.39026654 0.16940051 0.41644358 0.74146703]]\n",
      "\n",
      " [[0.66921978 0.74817968 0.49048304 0.67564979 0.72592213]\n",
      "  [0.78018057 0.24872884 0.12251836 0.88212914 0.25669447]\n",
      "  [0.57181868 0.8455231  0.73379087 0.78062455 0.29867384]]]\n",
      "[[[84 46  8 50 52]\n",
      "  [59 18 82 51  8]\n",
      "  [26 62 23 36 17]]\n",
      "\n",
      " [[99 84 44  4 66]\n",
      "  [70 41 67 50 87]\n",
      "  [13 65 37 15 68]]]\n",
      "[[[0.44920388 0.3261072  0.03138612 0.54155144 0.61311058]\n",
      "  [0.01040432 0.98867376 0.07281004 0.35412828 0.38279911]\n",
      "  [0.63274859 0.18863168 0.29534714 0.49355227 0.82773999]]\n",
      "\n",
      " [[0.98043823 0.56359457 0.47406776 0.00678834 0.84747114]\n",
      "  [0.82956731 0.12668048 0.17115385 0.93775111 0.75022167]\n",
      "  [0.61546287 0.7817321  0.64939928 0.76913829 0.4861363 ]]]\n"
     ]
    }
   ],
   "source": [
    "# your code here\n",
    "print(a_1)\n",
    "print(a_2)\n",
    "print(a_3)"
   ]
  },
  {
   "cell_type": "markdown",
   "metadata": {},
   "source": [
    "#### 5. Create a 5x2x3 3-dimensional array with all values equaling 1. Assign the array to variable *b*."
   ]
  },
  {
   "cell_type": "code",
   "execution_count": 7,
   "metadata": {},
   "outputs": [],
   "source": [
    "# your code here\n",
    "b = np.ones((5,2,3))"
   ]
  },
  {
   "cell_type": "markdown",
   "metadata": {},
   "source": [
    "#### 6. Print *b*.\n"
   ]
  },
  {
   "cell_type": "code",
   "execution_count": 8,
   "metadata": {},
   "outputs": [
    {
     "name": "stdout",
     "output_type": "stream",
     "text": [
      "[[[1. 1. 1.]\n",
      "  [1. 1. 1.]]\n",
      "\n",
      " [[1. 1. 1.]\n",
      "  [1. 1. 1.]]\n",
      "\n",
      " [[1. 1. 1.]\n",
      "  [1. 1. 1.]]\n",
      "\n",
      " [[1. 1. 1.]\n",
      "  [1. 1. 1.]]\n",
      "\n",
      " [[1. 1. 1.]\n",
      "  [1. 1. 1.]]]\n"
     ]
    },
    {
     "data": {
      "text/plain": [
       "(5, 2, 3)"
      ]
     },
     "execution_count": 8,
     "metadata": {},
     "output_type": "execute_result"
    }
   ],
   "source": [
    "# your code here\n",
    "print(b)\n",
    "b.shape"
   ]
  },
  {
   "cell_type": "markdown",
   "metadata": {},
   "source": [
    "#### 7. Do *a* and *b* have the same size? How do you prove that in Python code?"
   ]
  },
  {
   "cell_type": "code",
   "execution_count": 9,
   "metadata": {},
   "outputs": [
    {
     "name": "stdout",
     "output_type": "stream",
     "text": [
      "True - The compared arrays DO have the same size. a_1.size = 30 and b.size = 30\n"
     ]
    }
   ],
   "source": [
    "# your code here\n",
    "# print(a_1.size)\n",
    "# print(a_2.size)\n",
    "# print(a_3.size)\n",
    "# print(b.size)\n",
    "\n",
    "if a_1.size == b.size:\n",
    "    print(True,\"- The compared arrays DO have the same size.\",\"a_1.size =\",a_1.size, \"and\",\"b.size =\",b.size)\n",
    "else:\n",
    "    print(False,\"- The compared arrays DO NOT have the same size.\",\"a_1.size =\",a_1.size, \"and\",\"b.size =\",b.size)\n",
    "    "
   ]
  },
  {
   "cell_type": "markdown",
   "metadata": {},
   "source": [
    "#### 8. Are you able to add *a* and *b*? Why or why not?\n"
   ]
  },
  {
   "cell_type": "code",
   "execution_count": 10,
   "metadata": {},
   "outputs": [
    {
     "ename": "ValueError",
     "evalue": "operands could not be broadcast together with shapes (2,3,5) (5,2,3) ",
     "output_type": "error",
     "traceback": [
      "\u001b[0;31m---------------------------------------------------------------------------\u001b[0m",
      "\u001b[0;31mValueError\u001b[0m                                Traceback (most recent call last)",
      "\u001b[0;32m<ipython-input-10-23beca24182d>\u001b[0m in \u001b[0;36m<module>\u001b[0;34m\u001b[0m\n\u001b[1;32m      1\u001b[0m \u001b[0;31m# your answer here\u001b[0m\u001b[0;34m\u001b[0m\u001b[0;34m\u001b[0m\u001b[0;34m\u001b[0m\u001b[0m\n\u001b[1;32m      2\u001b[0m \u001b[0;34m\u001b[0m\u001b[0m\n\u001b[0;32m----> 3\u001b[0;31m \u001b[0mprint\u001b[0m\u001b[0;34m(\u001b[0m\u001b[0ma_1\u001b[0m \u001b[0;34m+\u001b[0m \u001b[0mb\u001b[0m\u001b[0;34m)\u001b[0m\u001b[0;34m\u001b[0m\u001b[0;34m\u001b[0m\u001b[0m\n\u001b[0m\u001b[1;32m      4\u001b[0m \u001b[0mprint\u001b[0m\u001b[0;34m(\u001b[0m\u001b[0ma_2\u001b[0m \u001b[0;34m+\u001b[0m \u001b[0mb\u001b[0m\u001b[0;34m)\u001b[0m\u001b[0;34m\u001b[0m\u001b[0;34m\u001b[0m\u001b[0m\n\u001b[1;32m      5\u001b[0m \u001b[0mprint\u001b[0m\u001b[0;34m(\u001b[0m\u001b[0ma_3\u001b[0m \u001b[0;34m+\u001b[0m \u001b[0mb\u001b[0m\u001b[0;34m)\u001b[0m\u001b[0;34m\u001b[0m\u001b[0;34m\u001b[0m\u001b[0m\n",
      "\u001b[0;31mValueError\u001b[0m: operands could not be broadcast together with shapes (2,3,5) (5,2,3) "
     ]
    }
   ],
   "source": [
    "# your answer here\n",
    "\n",
    "print(a_1 + b)\n",
    "print(a_2 + b)\n",
    "print(a_3 + b)\n",
    "\n",
    "#Arrays can't be added because they are shaped differently. It raises a ValueError:\n",
    "#ValueError: operands could not be broadcast together with shapes (2,3,5) (5,2,3)"
   ]
  },
  {
   "cell_type": "markdown",
   "metadata": {},
   "source": [
    "#### 9. Transpose *b* so that it has the same structure of *a* (i.e. become a 2x3x5 array). Assign the transposed array to variable *c*."
   ]
  },
  {
   "cell_type": "code",
   "execution_count": 11,
   "metadata": {},
   "outputs": [
    {
     "name": "stdout",
     "output_type": "stream",
     "text": [
      "(2, 3, 5)\n",
      "(2, 3, 5)\n",
      "(2, 3, 5)\n",
      "(2, 3, 5)\n",
      "[[[1. 1. 1. 1. 1.]\n",
      "  [1. 1. 1. 1. 1.]\n",
      "  [1. 1. 1. 1. 1.]]\n",
      "\n",
      " [[1. 1. 1. 1. 1.]\n",
      "  [1. 1. 1. 1. 1.]\n",
      "  [1. 1. 1. 1. 1.]]]\n"
     ]
    }
   ],
   "source": [
    "# your code here\n",
    "c = np.transpose(b)\n",
    "\n",
    "#I tried using transpose, but the shape using transpose is different from a.shape. Using transpose it returns a -> c.shape that is (3, 2, 5)\n",
    "# And we need a 2x3x5 shape. Which are the shapes in a_1,a_2 or a_3, as requested in step #3\n",
    "'''---------------------------------------------------------------------------\n",
    "ValueError                                Traceback (most recent call last)\n",
    "<ipython-input-25-99e5ad4b5996> in <module>\n",
    "      1 # your code/answer here\n",
    "----> 2 d = a_1 + c\n",
    "      3 print(d)\n",
    "\n",
    "ValueError: operands could not be broadcast together with shapes (2,3,5) (3,2,5)'''\n",
    "\n",
    "#So I will used the reshape option to shape as needed to add the ones.\n",
    "\n",
    "c = np.reshape(b,(2,3,5))\n",
    "\n",
    "print(c.shape)\n",
    "print(a_1.shape)\n",
    "print(a_2.shape)\n",
    "print(a_2.shape)\n",
    "\n",
    "print(c)\n"
   ]
  },
  {
   "cell_type": "markdown",
   "metadata": {},
   "source": [
    "#### 10. Try to add *a* and *c*. Now it should work. Assign the sum to variable *d*. But why does it work now?"
   ]
  },
  {
   "cell_type": "code",
   "execution_count": 12,
   "metadata": {},
   "outputs": [
    {
     "name": "stdout",
     "output_type": "stream",
     "text": [
      "[[[1.2360892  1.61796005 1.39432237 1.58455812 1.57211081]\n",
      "  [1.90966033 1.72438455 1.38004717 1.17702062 1.40702863]\n",
      "  [1.20796677 1.39026654 1.16940051 1.41644358 1.74146703]]\n",
      "\n",
      " [[1.66921978 1.74817968 1.49048304 1.67564979 1.72592213]\n",
      "  [1.78018057 1.24872884 1.12251836 1.88212914 1.25669447]\n",
      "  [1.57181868 1.8455231  1.73379087 1.78062455 1.29867384]]]\n",
      "[[[ 85.  47.   9.  51.  53.]\n",
      "  [ 60.  19.  83.  52.   9.]\n",
      "  [ 27.  63.  24.  37.  18.]]\n",
      "\n",
      " [[100.  85.  45.   5.  67.]\n",
      "  [ 71.  42.  68.  51.  88.]\n",
      "  [ 14.  66.  38.  16.  69.]]]\n",
      "[[[1.44920388 1.3261072  1.03138612 1.54155144 1.61311058]\n",
      "  [1.01040432 1.98867376 1.07281004 1.35412828 1.38279911]\n",
      "  [1.63274859 1.18863168 1.29534714 1.49355227 1.82773999]]\n",
      "\n",
      " [[1.98043823 1.56359457 1.47406776 1.00678834 1.84747114]\n",
      "  [1.82956731 1.12668048 1.17115385 1.93775111 1.75022167]\n",
      "  [1.61546287 1.7817321  1.64939928 1.76913829 1.4861363 ]]]\n"
     ]
    }
   ],
   "source": [
    "# your code/answer here\n",
    "d_1 = a_1 + c\n",
    "d_2 = a_2 + c\n",
    "d_3 = a_3 + c\n",
    "print(d_1)\n",
    "print(d_2)\n",
    "print(d_3)"
   ]
  },
  {
   "cell_type": "markdown",
   "metadata": {},
   "source": [
    "#### 11. Print *a* and *d*. Notice the difference and relation of the two array in terms of the values? Explain."
   ]
  },
  {
   "cell_type": "code",
   "execution_count": 13,
   "metadata": {},
   "outputs": [
    {
     "name": "stdout",
     "output_type": "stream",
     "text": [
      "[[[84 46  8 50 52]\n",
      "  [59 18 82 51  8]\n",
      "  [26 62 23 36 17]]\n",
      "\n",
      " [[99 84 44  4 66]\n",
      "  [70 41 67 50 87]\n",
      "  [13 65 37 15 68]]]\n",
      "[[[ 85.  47.   9.  51.  53.]\n",
      "  [ 60.  19.  83.  52.   9.]\n",
      "  [ 27.  63.  24.  37.  18.]]\n",
      "\n",
      " [[100.  85.  45.   5.  67.]\n",
      "  [ 71.  42.  68.  51.  88.]\n",
      "  [ 14.  66.  38.  16.  69.]]]\n"
     ]
    }
   ],
   "source": [
    "# your code/answer here\n",
    "print(a_2)\n",
    "print(d_2)\n",
    "\n",
    "#d_2  is the sum from a_1 and c, this formula added 1 to all the elements in a_2, this happened becaused all elements in c were ones (1)"
   ]
  },
  {
   "cell_type": "markdown",
   "metadata": {},
   "source": [
    "#### 12. Multiply *a* and *c*. Assign the result to *e*."
   ]
  },
  {
   "cell_type": "code",
   "execution_count": 14,
   "metadata": {},
   "outputs": [
    {
     "name": "stdout",
     "output_type": "stream",
     "text": [
      "[[[84. 46.  8. 50. 52.]\n",
      "  [59. 18. 82. 51.  8.]\n",
      "  [26. 62. 23. 36. 17.]]\n",
      "\n",
      " [[99. 84. 44.  4. 66.]\n",
      "  [70. 41. 67. 50. 87.]\n",
      "  [13. 65. 37. 15. 68.]]]\n"
     ]
    }
   ],
   "source": [
    "# your code here\n",
    "e = a_2 * c\n",
    "print(e)"
   ]
  },
  {
   "cell_type": "markdown",
   "metadata": {},
   "source": [
    "#### 13. Does *e* equal to *a*? Why or why not?\n"
   ]
  },
  {
   "cell_type": "code",
   "execution_count": 15,
   "metadata": {},
   "outputs": [
    {
     "name": "stdout",
     "output_type": "stream",
     "text": [
      "(2, 3, 5)\n",
      "(2, 3, 5)\n",
      "<class 'numpy.ndarray'>\n",
      "<class 'numpy.ndarray'>\n"
     ]
    },
    {
     "data": {
      "text/plain": [
       "array([[[ True,  True,  True,  True,  True],\n",
       "        [ True,  True,  True,  True,  True],\n",
       "        [ True,  True,  True,  True,  True]],\n",
       "\n",
       "       [[ True,  True,  True,  True,  True],\n",
       "        [ True,  True,  True,  True,  True],\n",
       "        [ True,  True,  True,  True,  True]]])"
      ]
     },
     "execution_count": 15,
     "metadata": {},
     "output_type": "execute_result"
    }
   ],
   "source": [
    "# your code/answer here\n",
    "print(e.shape)\n",
    "print(a_2.shape)\n",
    "print(type(e))\n",
    "print(type(a_2))\n",
    "\n",
    "a_2 == e\n",
    "#Yes, it's equal because it's just multipliying all values in a_2 for 1."
   ]
  },
  {
   "cell_type": "markdown",
   "metadata": {},
   "source": [
    "#### 14. Identify the max, min, and mean values in *d*. Assign those values to variables *d_max*, *d_min* and *d_mean*."
   ]
  },
  {
   "cell_type": "code",
   "execution_count": 55,
   "metadata": {},
   "outputs": [
    {
     "name": "stdout",
     "output_type": "stream",
     "text": [
      "100\n",
      "5\n",
      "48\n"
     ]
    }
   ],
   "source": [
    "# your code here \n",
    "d_max = int(np.max(d_2))\n",
    "d_min = int(np.min(d_2))\n",
    "d_mean = int(np.mean(d_2))\n",
    "print(d_max)\n",
    "print(d_min)\n",
    "print(d_mean)"
   ]
  },
  {
   "cell_type": "markdown",
   "metadata": {},
   "source": [
    "#### 15. Now we want to label the values in *d*. First create an empty array *f* with the same shape (i.e. 2x3x5) as *d* using `np.empty`.\n"
   ]
  },
  {
   "cell_type": "code",
   "execution_count": 17,
   "metadata": {},
   "outputs": [
    {
     "name": "stdout",
     "output_type": "stream",
     "text": [
      "(2, 3, 5)\n"
     ]
    }
   ],
   "source": [
    "# your code here\n",
    "#print(d_2.shape)\n",
    "f = np.empty((2,3,5))\n",
    "print(f.shape)\n",
    "#print(f)"
   ]
  },
  {
   "cell_type": "markdown",
   "metadata": {},
   "source": [
    "#### 16. Populate the values in *f*. \n",
    "\n",
    "For each value in *d*, if it's larger than *d_min* but smaller than *d_mean*, assign 25 to the corresponding value in *f*. If a value in *d* is larger than *d_mean* but smaller than *d_max*, assign 75 to the corresponding value in *f*. If a value equals to *d_mean*, assign 50 to the corresponding value in *f*. Assign 0 to the corresponding value(s) in *f* for *d_min* in *d*. Assign 100 to the corresponding value(s) in *f* for *d_max* in *d*. In the end, f should have only the following values: 0, 25, 50, 75, and 100.\n",
    "\n",
    "**Note**: you don't have to use Numpy in this question."
   ]
  },
  {
   "cell_type": "code",
   "execution_count": 106,
   "metadata": {},
   "outputs": [
    {
     "name": "stdout",
     "output_type": "stream",
     "text": [
      "[[[ 85.  47.   9.  51.  53.]\n",
      "  [ 60.  19.  83.  52.   9.]\n",
      "  [ 27.  63.  24.  37.  18.]]\n",
      "\n",
      " [[100.  85.  45.   5.  67.]\n",
      "  [ 71.  42.  68.  51.  88.]\n",
      "  [ 14.  66.  38.  16.  69.]]]\n",
      "d_max = 100\n",
      "d_min = 5\n",
      "d_mean = 48\n",
      "[[[ 75.  25.  25.  75.  75.]\n",
      "  [ 75.  25.  75.  75.  25.]\n",
      "  [ 25.  75.  25.  25.  25.]]\n",
      "\n",
      " [[100.  75.  25.   0.  75.]\n",
      "  [ 75.  25.  75.  75.  75.]\n",
      "  [ 25.  75.  25.  25.  75.]]]\n"
     ]
    }
   ],
   "source": [
    "# your code here\n",
    "print(d_2)\n",
    "\n",
    "print(\"d_max =\",d_max)\n",
    "print(\"d_min =\",d_min)\n",
    "print(\"d_mean =\",d_mean)\n",
    "\n",
    "\n",
    "for group in range(len(d_2)):\n",
    "    #print(group)\n",
    "    #print(range(len(d_2)))\n",
    "    for array in range(len(d_2[group])):\n",
    "        #print(array)\n",
    "        #print(range(len(d_2[group])))\n",
    "        for value in range(len(d_2[group][array])):\n",
    "            #print(value)\n",
    "            #print(range(len(d_2[group][array])))\n",
    "            if d_min < d_2[group,array,value] < d_mean:\n",
    "                f[group,array,value] = 25\n",
    "            if d_mean < d_2[group,array,value] < d_max:\n",
    "                f[group,array,value] = 75\n",
    "            if d_2[group,array,value] == d_mean:\n",
    "                f[group,array,value] = 50\n",
    "            if d_2[group,array,value] == d_min:\n",
    "                f[group,array,value] = 0\n",
    "            if d_2[group,array,value] == d_max:\n",
    "                f[group,array,value] = 100\n",
    "                               \n",
    "print(f)\n",
    "\n",
    "# g = np.empty((2,3,5))\n",
    "\n",
    "# g[d_2 <= d_min] = 0\n",
    "# g[(d_2 > d_min)&(d_2 < d_mean)] = 25\n",
    "# g[d_2 == d_mean] = 50\n",
    "# g[(d_2 > d_mean)&(d_2 < d_max)] = 75\n",
    "# g[d_2 >= d_max] = 100\n",
    "# print(g)\n",
    "\n"
   ]
  },
  {
   "cell_type": "markdown",
   "metadata": {},
   "source": [
    "#### 17. Print *d* and *f*. Do you have your expected *f*?\n",
    "For instance, if your *d* is:\n",
    "```python\n",
    "[[[1.85836099, 1.67064465, 1.62576044, 1.40243961, 1.88454931],\n",
    "[1.75354326, 1.69403643, 1.36729252, 1.61415071, 1.12104981],\n",
    "[1.72201435, 1.1862918 , 1.87078449, 1.7726778 , 1.88180042]],\n",
    "[[1.44747908, 1.31673383, 1.02000951, 1.52218947, 1.97066381],\n",
    "[1.79129243, 1.74983003, 1.96028037, 1.85166831, 1.65450881],\n",
    "[1.18068344, 1.9587381 , 1.00656599, 1.93402165, 1.73514584]]]\n",
    "```\n",
    "Your *f* should be:\n",
    "```python\n",
    "[[[ 75.,  75.,  75.,  25.,  75.],\n",
    "[ 75.,  75.,  25.,  25.,  25.],\n",
    "[ 75.,  25.,  75.,  75.,  75.]],\n",
    "[[ 25.,  25.,  25.,  25., 100.],\n",
    "[ 75.,  75.,  75.,  75.,  75.],\n",
    "[ 25.,  75.,   0.,  75.,  75.]]]\n",
    "```"
   ]
  },
  {
   "cell_type": "code",
   "execution_count": 111,
   "metadata": {},
   "outputs": [
    {
     "name": "stdout",
     "output_type": "stream",
     "text": [
      "[[[ 85.  47.   9.  51.  53.]\n",
      "  [ 60.  19.  83.  52.   9.]\n",
      "  [ 27.  63.  24.  37.  18.]]\n",
      "\n",
      " [[100.  85.  45.   5.  67.]\n",
      "  [ 71.  42.  68.  51.  88.]\n",
      "  [ 14.  66.  38.  16.  69.]]]\n",
      "(2, 3, 5)\n",
      "30\n",
      "[[[ 75.  25.  25.  75.  75.]\n",
      "  [ 75.  25.  75.  75.  25.]\n",
      "  [ 25.  75.  25.  25.  25.]]\n",
      "\n",
      " [[100.  75.  25.   0.  75.]\n",
      "  [ 75.  25.  75.  75.  75.]\n",
      "  [ 25.  75.  25.  25.  75.]]]\n",
      "(2, 3, 5)\n",
      "30\n"
     ]
    }
   ],
   "source": [
    "# your code here\n",
    "\n",
    "print(d_2)\n",
    "print(d_2.shape)\n",
    "print(d_2.size)\n",
    "\n",
    "print(f)\n",
    "print(f.shape)\n",
    "print(f.size)\n",
    "\n"
   ]
  },
  {
   "cell_type": "markdown",
   "metadata": {},
   "source": [
    "#### 18. Bonus question: instead of using numbers (i.e. 0, 25, 50, 75, and 100), use string values  (\"A\", \"B\", \"C\", \"D\", and \"E\") to label the array elements. For the example above, the expected result is:\n",
    "\n",
    "```python\n",
    "[[[ 'D',  'D',  'D',  'B',  'D'],\n",
    "[ 'D',  'D',  'B',  'B',  'B'],\n",
    "[ 'D',  'B',  'D',  'D',  'D']],\n",
    "[[ 'B',  'B',  'B',  'B',  'E'],\n",
    "[ 'D',  'D',  'D',  'D',  'D'],\n",
    "[ 'B',  'D',   'A',  'D', 'D']]]\n",
    "```\n",
    "**Note**: you don't have to use Numpy in this question."
   ]
  },
  {
   "cell_type": "code",
   "execution_count": 114,
   "metadata": {},
   "outputs": [
    {
     "name": "stdout",
     "output_type": "stream",
     "text": [
      "[[['D' 'B' 'B' 'D' 'D']\n",
      "  ['D' 'B' 'D' 'D' 'B']\n",
      "  ['B' 'D' 'B' 'B' 'B']]\n",
      "\n",
      " [['E' 'D' 'B' 'A' 'D']\n",
      "  ['D' 'B' 'D' 'D' 'D']\n",
      "  ['B' 'D' 'B' 'B' 'D']]]\n",
      "[[['D' 'B' 'B' 'D' 'D']\n",
      "  ['D' 'B' 'D' 'D' 'B']\n",
      "  ['B' 'D' 'B' 'B' 'B']]\n",
      "\n",
      " [['E' 'D' 'B' 'A' 'D']\n",
      "  ['D' 'B' 'D' 'D' 'D']\n",
      "  ['B' 'D' 'B' 'B' 'D']]]\n"
     ]
    }
   ],
   "source": [
    "# your code here\n",
    "\n",
    "h = np.empty((2,3,5))\n",
    "h = h.astype('object')\n",
    "\n",
    "h[d_2 <= d_min] = \"A\"\n",
    "h[(d_2 > d_min)&(d_2 < d_mean)] = \"B\" \n",
    "h[d_2 == d_mean] = \"C\" \n",
    "h[(d_2 > d_mean)&(d_2 < d_max)] = \"D\" \n",
    "h[d_2 >= d_max] = \"E\" \n",
    "\n",
    "print(h)\n",
    "\n",
    "o = np.empty((2,3,5))\n",
    "o = o.astype('object')\n",
    "\n",
    "for group in range(len(d_2)):\n",
    "    #print(group)\n",
    "    #print(range(len(d_2)))\n",
    "    for array in range(len(d_2[group])):\n",
    "        #print(array)\n",
    "        #print(range(len(d_2[group])))\n",
    "        for value in range(len(d_2[group][array])):\n",
    "            #print(value)\n",
    "            #print(range(len(d_2[group][array])))\n",
    "            if d_min < d_2[group,array,value] < d_mean:\n",
    "                o[group,array,value] = \"B\"\n",
    "            if d_mean < d_2[group,array,value] < d_max:\n",
    "                o[group,array,value] = \"D\"\n",
    "            if d_2[group,array,value] == d_mean:\n",
    "                o[group,array,value] = \"C\"\n",
    "            if d_2[group,array,value] == d_min:\n",
    "                o[group,array,value] = \"A\"\n",
    "            if d_2[group,array,value] == d_max:\n",
    "                o[group,array,value] = \"E\"\n",
    "                \n",
    "print(o)"
   ]
  }
 ],
 "metadata": {
  "kernelspec": {
   "display_name": "Python [conda env:ironhack_env]",
   "language": "python",
   "name": "conda-env-ironhack_env-py"
  },
  "language_info": {
   "codemirror_mode": {
    "name": "ipython",
    "version": 3
   },
   "file_extension": ".py",
   "mimetype": "text/x-python",
   "name": "python",
   "nbconvert_exporter": "python",
   "pygments_lexer": "ipython3",
   "version": "3.8.5"
  }
 },
 "nbformat": 4,
 "nbformat_minor": 4
}
