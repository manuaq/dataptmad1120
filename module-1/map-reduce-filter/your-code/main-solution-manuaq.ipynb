{
 "cells": [
  {
   "cell_type": "markdown",
   "metadata": {},
   "source": [
    "# Before your start:\n",
    "- Read the README.md file\n",
    "- Comment as much as you can and use the resources in the README.md file\n",
    "- Happy learning!"
   ]
  },
  {
   "cell_type": "code",
   "execution_count": 1,
   "metadata": {},
   "outputs": [],
   "source": [
    "# Import reduce from functools, numpy and pandas\n",
    "\n",
    "from functools import reduce\n",
    "import numpy as np\n",
    "import pandas as pd"
   ]
  },
  {
   "cell_type": "markdown",
   "metadata": {},
   "source": [
    "# Challenge 1 - Mapping\n",
    "\n",
    "#### We will use the map function to clean up words in a book.\n",
    "\n",
    "In the following cell, we will read a text file containing the book The Prophet by Khalil Gibran."
   ]
  },
  {
   "cell_type": "code",
   "execution_count": 2,
   "metadata": {},
   "outputs": [],
   "source": [
    "# Run this code:\n",
    "\n",
    "location = '../data/58585-0.txt'\n",
    "with open(location, 'r', encoding=\"utf8\") as f:\n",
    "    prophet = f.read().split(' ')"
   ]
  },
  {
   "cell_type": "code",
   "execution_count": 3,
   "metadata": {},
   "outputs": [
    {
     "name": "stdout",
     "output_type": "stream",
     "text": [
      "['\\ufeffThe', 'Project', 'Gutenberg', 'EBook', 'of', 'The', 'Prophet,', 'by', 'Kahlil', 'Gibran\\n\\nThis', 'eBook', 'is', 'for', 'the', 'use', 'of', 'anyone', 'anywhere', 'in', 'the', 'United', 'States', 'and\\nmost', 'other', 'parts', 'of', 'the', 'world', 'at', 'no', 'cost', 'and', 'with', 'almost', 'no', 'restrictions\\nwhatsoever.', '', 'You', 'may', 'copy', 'it,', 'give', 'it', 'away', 'or', 're-use', 'it', 'under', 'the', 'terms\\nof', 'the', 'Project', 'Gutenberg', 'License', 'included', 'with', 'this', 'eBook', 'or', 'online', 'at\\nwww.gutenberg.org.', '', 'If', 'you', 'are', 'not', 'located', 'in', 'the', 'United', 'States,', \"you'll\\nhave\", 'to', 'check', 'the', 'laws', 'of', 'the', 'country', 'where', 'you', 'are', 'located', 'before', 'using\\nthis', 'ebook.\\n\\n\\n\\nTitle:', 'The', 'Prophet\\n\\nAuthor:', 'Kahlil', 'Gibran\\n\\nRelease', 'Date:', 'January', '1,', '2019', '[EBook', '#58585]\\nLast', 'Updated:', 'January', '3,', '2018\\n\\n\\nLanguage:', 'English\\n\\nCharacter', 'set', 'encoding:', 'UTF-8\\n\\n***', 'START', 'OF', 'THIS', 'PROJECT', 'GUTENBERG', 'EBOOK', 'THE', 'PROPHET', '***\\n\\n\\n\\n\\nProduced', 'by', 'David', 'Widger', 'from', 'page', 'images', 'generously\\nprovided', 'by', 'the', 'Internet', \"Archive\\n\\n\\nTranscriber's\", 'Note:', 'Page', 'numbers,', 'ie:', '{20},', 'are', 'included', 'in', 'this\\nutf-8', 'text', 'file.', 'For', 'those', 'wishing', 'to', 'use', 'a', 'text', 'file', 'unencumbered\\nwith', 'page', 'numbers', 'open', 'or', 'download', 'the', 'Latin-1', 'file', '58585-8.txt.\\n\\n\\n\\n\\n\\n\\n\\nTHE', 'PROPHET\\n\\nBy', 'Kahlil', 'Gibran\\n\\nNew', 'York:', 'Alfred', 'A.', 'Knopf\\n\\n1923\\n\\n_The', 'Twelve', 'Illustrations', 'In', 'This', 'Volume\\nAre', 'Reproduced', 'From', 'Original', 'Drawings', 'By\\nThe', 'Author_\\n\\n\\n“His', 'power', 'came', 'from', 'some', 'great', 'reservoir\\nof', 'spiritual', 'life', 'else', 'it', 'could', 'not', 'have\\nbeen', 'so', 'universal', 'and', 'so', 'potent,', 'but', 'the\\nmajesty', 'and', 'beauty', 'of', 'the', 'language', 'with\\nwhich', 'he', 'clothed', 'it', 'were', 'all', 'his', 'own?”\\n\\n--Claude', 'Bragdon\\n\\n\\nTHE', 'BOOKS', 'OF', 'KAHLIL', 'GIBRAN\\n\\nThe', 'Madman.', '1918', 'Twenty', 'Drawings.', '1919\\nThe', 'Forerunner.', '1920', 'The', 'Prophet.', '1923\\nSand', 'and', 'Foam.', '1926', 'Jesus', 'the', 'Son', 'of\\nMan.', '1928', 'The', 'Forth', 'Gods.', '1931', 'The\\nWanderer.', '1932', 'The', 'Garden', 'of', 'the', 'Prophet\\n1933', 'Prose', 'Poems.', '1934', 'Nymphs', 'of', 'the\\nValley.', '1948\\n\\n\\n\\n\\nCONTENTS\\n\\n', '', '', '', '', '', '', '', '', '', 'The', 'Coming', 'of', 'the', 'Ship.......7\\n', '', '', '', '', '', '', '', '', '', 'On', 'Love.....................15\\n', '', '', '', '', '', '', '', '', '', 'On', 'Marriage.................19\\n', '', '', '', '', '', '', '', '', '', 'On', 'Children.................21\\n', '', '', '', '', '', '', '', '', '', 'On', 'Giving...................23\\n', '', '', '', '', '', '', '', '', '', 'On', 'Eating', 'and', 'Drinking......27\\n', '', '', '', '', '', '', '', '', '', 'On', 'Work.....................31\\n', '', '', '', '', '', '', '', '', '', 'On', 'Joy', 'and', 'Sorrow...........33\\n', '', '', '', '', '', '', '', '', '', 'On', 'Houses...................37\\n', '', '', '', '', '', '', '', '', '', 'On', 'Clothes..................41\\n', '', '', '', '', '', '', '', '', '', 'On', 'Buying', 'and', 'Selling.......43\\n', '', '', '', '', '', '', '', '', '', 'On', 'Crime', 'and', 'Punishment.....45\\n', '', '', '', '', '', '', '', '', '', 'On', 'Laws.....................51\\n', '', '', '', '', '', '', '', '', '', 'On', 'Freedom..................55\\n', '', '', '', '', '', '', '', '', '', 'On', 'Reason', 'and', 'Passion.......57\\n', '', '', '', '', '', '', '', '', '', 'On', 'Pain.....................60\\n', '', '', '', '', '', '', '', '', '', 'On', 'Self-Knowledge...........62\\n', '', '', '', '', '', '', '', '', '', 'On', 'Teaching.................64\\n', '', '', '', '', '', '', '', '', '', 'On', 'Friendship...............66\\n', '', '', '', '', '', '', '', '', '', 'On', 'Talking..................68\\n', '', '', '', '', '', '', '', '', '', 'On', 'Time.....................70\\n', '', '', '', '', '', '', '', '', '', 'On', 'Good', 'and', 'Evil............72\\n', '', '', '', '', '', '', '', '', '', 'On', 'Prayer...................76\\n', '', '', '', '', '', '', '', '', '', 'On', 'Pleasure.................79\\n', '', '', '', '', '', '', '', '', '', 'On', 'Beauty...................83\\n', '', '', '', '', '', '', '', '', '', 'On', 'Religion.................87\\n', '', '', '', '', '', '', '', '', '', 'On', 'Death....................90\\n', '', '', '', '', '', '', '', '', '', 'The', 'Farewell................92\\n\\n\\n\\n\\nTHE', 'PROPHET\\n\\n|Almustafa,', 'the{7}', 'chosen', 'and', 'the\\nbeloved,', 'who', 'was', 'a', 'dawn', 'unto', 'his', 'own\\nday,', 'had', 'waited', 'twelve', 'years', 'in', 'the', 'city\\nof', 'Orphalese', 'for', 'his', 'ship', 'that', 'was', 'to\\nreturn', 'and', 'bear', 'him', 'back', 'to', 'the']\n"
     ]
    }
   ],
   "source": [
    "print(prophet[0:600])"
   ]
  },
  {
   "cell_type": "markdown",
   "metadata": {},
   "source": [
    "#### Let's remove the first 568 words since they contain information about the book but are not part of the book itself. \n",
    "\n",
    "Do this by removing from `prophet` elements 0 through 567 of the list (you can also do this by keeping elements 568 through the last element)."
   ]
  },
  {
   "cell_type": "code",
   "execution_count": 4,
   "metadata": {},
   "outputs": [
    {
     "name": "stdout",
     "output_type": "stream",
     "text": [
      "['PROPHET\\n\\n|Almustafa,', 'the{7}', 'chosen', 'and', 'the\\nbeloved,', 'who', 'was', 'a', 'dawn', 'unto', 'his', 'own\\nday,', 'had', 'waited', 'twelve', 'years', 'in', 'the', 'city\\nof', 'Orphalese', 'for', 'his', 'ship', 'that', 'was', 'to\\nreturn', 'and', 'bear', 'him', 'back', 'to', 'the', 'isle', 'of\\nhis', 'birth.\\n\\nAnd', 'in', 'the', 'twelfth', 'year,', 'on', 'the', 'seventh\\nday', 'of', 'Ielool,', 'the', 'month', 'of', 'reaping,', 'he\\nclimbed', 'the', 'hill', 'without', 'the', 'city', 'walls\\nand', 'looked', 'seaward;', 'and', 'he', 'beheld', 'his\\nship', 'coming', 'with', 'the', 'mist.\\n\\nThen', 'the', 'gates', 'of', 'his', 'heart', 'were', 'flung\\nopen,', 'and', 'his', 'joy', 'flew', 'far', 'over', 'the', 'sea.\\nAnd', 'he', 'closed', 'his', 'eyes', 'and', 'prayed', 'in', 'the\\nsilences', 'of', 'his', 'soul.\\n\\n*****\\n\\nBut', 'as', 'he', 'descended', 'the', 'hill,', 'a', 'sadness\\ncame', 'upon', 'him,', 'and', 'he', 'thought', 'in', 'his\\nheart:\\n\\nHow', 'shall', 'I', 'go', 'in', 'peace', 'and', 'without\\nsorrow?', 'Nay,', 'not', 'without', 'a', 'wound', 'in', 'the\\nspirit', 'shall', 'I', 'leave', 'this', 'city.', '{8}Long\\nwere', 'the', 'days', 'of', 'pain', 'I', 'have', 'spent\\nwithin', 'its', 'walls,', 'and', 'long', 'were', 'the\\nnights', 'of', 'aloneness;', 'and', 'who', 'can', 'depart\\nfrom', 'his', 'pain', 'and', 'his', 'aloneness', 'without\\nregret?\\n\\nToo', 'many', 'fragments', 'of', 'the', 'spirit', 'have', 'I\\nscattered', 'in', 'these', 'streets,', 'and', 'too', 'many\\nare', 'the', 'children', 'of', 'my', 'longing', 'that', 'walk\\nnaked', 'among', 'these', 'hills,', 'and', 'I', 'cannot\\nwithdraw', 'from', 'them', 'without', 'a', 'burden', 'and\\nan', 'ache.\\n\\nIt', 'is', 'not', 'a', 'garment', 'I', 'cast', 'off', 'this\\nday,', 'but', 'a', 'skin', 'that', 'I', 'tear', 'with', 'my', 'own\\nhands.\\n\\nNor', 'is', 'it', 'a', 'thought', 'I', 'leave', 'behind', 'me,\\nbut', 'a', 'heart', 'made', 'sweet', 'with', 'hunger', 'and\\nwith', 'thirst.\\n\\n*****\\n\\nYet', 'I', 'cannot', 'tarry', 'longer.\\n\\nThe', 'sea', 'that', 'calls', 'all', 'things', 'unto', 'her\\ncalls', 'me,', 'and', 'I', 'must', 'embark.\\n\\nFor', 'to', 'stay,', 'though', 'the', 'hours', 'burn', 'in\\nthe', 'night,', 'is', 'to', 'freeze', 'and', 'crystallize\\nand', 'be', 'bound', 'in', 'a', 'mould.\\n\\nFain', 'would', 'I', 'take', 'with', 'me', 'all', 'that', 'is\\nhere.', 'But', 'how', 'shall', 'I?\\n\\nA', 'voice', 'cannot', 'carry', 'the', 'tongue', 'and\\n{9}the', 'lips', 'that', 'gave', 'it', 'wings.', 'Alone\\nmust', 'it', 'seek', 'the', 'ether.\\n\\nAnd', 'alone', 'and', 'without', 'his', 'nest', 'shall', 'the\\neagle', 'fly', 'across', 'the', 'sun.\\n\\n*****\\n\\nNow', 'when', 'he', 'reached', 'the', 'foot', 'of', 'the\\nhill,', 'he', 'turned', 'again', 'towards', 'the', 'sea,\\nand', 'he', 'saw', 'his', 'ship', 'approaching', 'the\\nharbour,', 'and', 'upon', 'her', 'prow', 'the', 'mariners,\\nthe', 'men', 'of', 'his', 'own', 'land.\\n\\nAnd', 'his', 'soul', 'cried', 'out', 'to', 'them,', 'and', 'he\\nsaid:\\n\\nSons', 'of', 'my', 'ancient', 'mother,', 'you', 'riders', 'of\\nthe', 'tides,\\n\\nHow', 'often', 'have', 'you', 'sailed', 'in', 'my', 'dreams.\\nAnd', 'now', 'you', 'come', 'in', 'my', 'awakening,', 'which\\nis', 'my', 'deeper', 'dream.\\n\\nReady', 'am', 'I', 'to', 'go,', 'and', 'my', 'eagerness', 'with\\nsails', 'full', 'set', 'awaits', 'the', 'wind.\\n\\nOnly', 'another', 'breath', 'will', 'I', 'breathe', 'in\\nthis', 'still', 'air,', 'only', 'another', 'loving', 'look\\ncast', 'backward,\\n\\nAnd', 'then', 'I', 'shall', 'stand', 'among', 'you,', 'a\\nseafarer', 'among', 'seafarers.', '{10}And', 'you,\\nvast', 'sea,', 'sleepless', 'mother,\\n\\nWho', 'alone', 'are', 'peace', 'and', 'freedom', 'to', 'the\\nriver', 'and', 'the', 'stream,\\n\\nOnly', 'another', 'winding', 'will', 'this', 'stream\\nmake,', 'only', 'another', 'murmur', 'in', 'this', 'glade,\\n\\nAnd', 'then', 'shall', 'I', 'come', 'to', 'you,', 'a\\nboundless', 'drop', 'to', 'a', 'boundless', 'ocean.\\n\\n*****\\n\\nAnd', 'as', 'he', 'walked', 'he', 'saw', 'from', 'afar', 'men\\nand', 'women', 'leaving', 'their', 'fields', 'and', 'their\\nvineyards', 'and', 'hastening', 'towards', 'the', 'city\\ngates.\\n\\nAnd', 'he', 'heard', 'their', 'voices', 'calling', 'his\\nname,', 'and', 'shouting', 'from', 'field', 'to', 'field\\ntelling', 'one', 'another', 'of', 'the', 'coming', 'of', 'his\\nship.\\n\\nAnd', 'he', 'said', 'to', 'himself:\\n\\nShall', 'the', 'day', 'of', 'parting', 'be', 'the', 'day', 'of\\ngathering?\\n\\nAnd', 'shall', 'it', 'be', 'said', 'that', 'my', 'eve', 'was', 'in\\ntruth', 'my', 'dawn?\\n\\nAnd', 'what', 'shall', 'I', 'give', 'unto', 'him', 'who', 'has\\nleft', 'his', 'plough', 'in', 'midfurrow,', 'or', 'to\\nhim', 'who', 'has', 'stopped', 'the', 'wheel', 'of', 'his\\nwinepress?', '{11}Shall', 'my', 'heart', 'become', 'a\\ntree', 'heavy-laden', 'with', 'fruit', 'that', 'I', 'may\\ngather', 'and', 'give', 'unto', 'them?\\n\\nAnd', 'shall', 'my', 'desires', 'flow', 'like', 'a\\nfountain', 'that', 'I', 'may', 'fill', 'their', 'cups?\\n\\nAm', 'I', 'a', 'harp', 'that', 'the', 'hand', 'of', 'the', 'mighty\\nmay', 'touch', 'me,', 'or', 'a', 'flute', 'that', 'his', 'breath\\nmay', 'pass', 'through', 'me?\\n\\nA', 'seeker', 'of', 'silences', 'am', 'I,', 'and', 'what\\ntreasure', 'have', 'I', 'found', 'in', 'silences', 'that', 'I\\nmay', 'dispense', 'with', 'confidence?\\n\\nIf', 'this', 'is', 'my', 'day', 'of', 'harvest,', 'in', 'what\\nfields', 'have', 'I', 'sowed', 'the', 'seed,', 'and', 'in\\nwhat', 'unremembered', 'seasons?\\n\\nIf', 'this', 'indeed', 'be', 'the', 'hour', 'in', 'which', 'I\\nlift', 'up', 'my', 'lantern,', 'it']\n"
     ]
    }
   ],
   "source": [
    "# your code here\n",
    "\n",
    "prophet_book_content = prophet[568:]\n",
    "print(prophet_book_content[0:600])"
   ]
  },
  {
   "cell_type": "markdown",
   "metadata": {},
   "source": [
    "If you look through the words, you will find that many words have a reference attached to them. For example, let's look at words 1 through 10."
   ]
  },
  {
   "cell_type": "code",
   "execution_count": 6,
   "metadata": {},
   "outputs": [
    {
     "name": "stdout",
     "output_type": "stream",
     "text": [
      "['Project', 'Gutenberg', 'EBook', 'of', 'The', 'Prophet,', 'by', 'Kahlil', 'Gibran\\n\\nThis', 'eBook', 'is', 'for', 'the', 'use', 'of', 'anyone', 'anywhere', 'in', 'the'] \n",
      "\n",
      " ['PROPHET\\n\\n|Almustafa,', 'the{7}', 'chosen', 'and', 'the\\nbeloved,', 'who', 'was', 'a', 'dawn', 'unto', 'his', 'own\\nday,', 'had', 'waited', 'twelve', 'years', 'in', 'the', 'city\\nof', 'Orphalese']\n"
     ]
    }
   ],
   "source": [
    "# your code here\n",
    "print(prophet[1:20], \"\\n\\n\", prophet_book_content[0:20])\n"
   ]
  },
  {
   "cell_type": "markdown",
   "metadata": {},
   "source": [
    "#### The next step is to create a function that will remove references. \n",
    "\n",
    "We will do this by splitting the string on the `{` character and keeping only the part before this character. Write your function below."
   ]
  },
  {
   "cell_type": "code",
   "execution_count": 7,
   "metadata": {},
   "outputs": [],
   "source": [
    "def reference(x):\n",
    "    '''\n",
    "    Input: A string\n",
    "    Output: The string with references removed\n",
    "    \n",
    "    Example:\n",
    "    Input: 'the{7}'\n",
    "    Output: 'the'\n",
    "    '''\n",
    "    \n",
    "    # your code here\n",
    "    return x.split('{', 1)[0]"
   ]
  },
  {
   "cell_type": "markdown",
   "metadata": {},
   "source": [
    "# https://www.w3schools.com/python/ref_string_split.asp"
   ]
  },
  {
   "cell_type": "markdown",
   "metadata": {},
   "source": [
    "Now that we have our function, use the `map()` function to apply this function to our book, The Prophet. Return the resulting list to a new list called `prophet_reference`."
   ]
  },
  {
   "cell_type": "code",
   "execution_count": 8,
   "metadata": {},
   "outputs": [],
   "source": [
    "# your code here\n",
    "prophet_reference = list(map(reference, prophet_book_content))"
   ]
  },
  {
   "cell_type": "code",
   "execution_count": 9,
   "metadata": {},
   "outputs": [
    {
     "name": "stdout",
     "output_type": "stream",
     "text": [
      "['PROPHET\\n\\n|Almustafa,', 'the', 'chosen', 'and', 'the\\nbeloved,', 'who', 'was', 'a', 'dawn', 'unto', 'his', 'own\\nday,', 'had', 'waited', 'twelve', 'years', 'in', 'the', 'city\\nof', 'Orphalese', 'for', 'his', 'ship', 'that', 'was', 'to\\nreturn', 'and', 'bear', 'him', 'back', 'to', 'the', 'isle', 'of\\nhis', 'birth.\\n\\nAnd', 'in', 'the', 'twelfth', 'year,', 'on', 'the', 'seventh\\nday', 'of', 'Ielool,', 'the', 'month', 'of', 'reaping,', 'he\\nclimbed', 'the', 'hill', 'without', 'the', 'city', 'walls\\nand', 'looked', 'seaward;', 'and', 'he', 'beheld', 'his\\nship', 'coming', 'with', 'the', 'mist.\\n\\nThen', 'the', 'gates', 'of', 'his', 'heart', 'were', 'flung\\nopen,', 'and', 'his', 'joy', 'flew', 'far', 'over', 'the', 'sea.\\nAnd', 'he', 'closed', 'his', 'eyes', 'and', 'prayed', 'in', 'the\\nsilences', 'of', 'his', 'soul.\\n\\n*****\\n\\nBut', 'as', 'he', 'descended', 'the', 'hill,', 'a', 'sadness\\ncame', 'upon', 'him,', 'and', 'he', 'thought', 'in', 'his\\nheart:\\n\\nHow', 'shall', 'I', 'go', 'in', 'peace', 'and', 'without\\nsorrow?', 'Nay,', 'not', 'without', 'a', 'wound', 'in', 'the\\nspirit', 'shall', 'I', 'leave', 'this', 'city.', '', 'the', 'days', 'of', 'pain', 'I', 'have', 'spent\\nwithin', 'its', 'walls,', 'and', 'long', 'were', 'the\\nnights', 'of', 'aloneness;', 'and', 'who', 'can', 'depart\\nfrom', 'his', 'pain', 'and', 'his', 'aloneness', 'without\\nregret?\\n\\nToo', 'many', 'fragments', 'of', 'the', 'spirit', 'have', 'I\\nscattered', 'in', 'these', 'streets,', 'and', 'too', 'many\\nare', 'the', 'children', 'of', 'my', 'longing', 'that', 'walk\\nnaked', 'among', 'these', 'hills,', 'and', 'I', 'cannot\\nwithdraw', 'from', 'them', 'without', 'a', 'burden', 'and\\nan', 'ache.\\n\\nIt', 'is', 'not', 'a', 'garment', 'I', 'cast', 'off', 'this\\nday,', 'but', 'a', 'skin', 'that', 'I', 'tear', 'with', 'my', 'own\\nhands.\\n\\nNor', 'is', 'it', 'a', 'thought', 'I', 'leave', 'behind', 'me,\\nbut', 'a', 'heart', 'made', 'sweet', 'with', 'hunger', 'and\\nwith', 'thirst.\\n\\n*****\\n\\nYet', 'I', 'cannot', 'tarry', 'longer.\\n\\nThe', 'sea', 'that', 'calls', 'all', 'things', 'unto', 'her\\ncalls', 'me,', 'and', 'I', 'must', 'embark.\\n\\nFor', 'to', 'stay,', 'though', 'the', 'hours', 'burn', 'in\\nthe', 'night,', 'is', 'to', 'freeze', 'and', 'crystallize\\nand', 'be', 'bound', 'in', 'a', 'mould.\\n\\nFain', 'would', 'I', 'take', 'with', 'me', 'all', 'that', 'is\\nhere.', 'But', 'how', 'shall', 'I?\\n\\nA', 'voice', 'cannot', 'carry', 'the', 'tongue', 'and\\n', 'lips', 'that', 'gave', 'it', 'wings.', 'Alone\\nmust', 'it', 'seek', 'the', 'ether.\\n\\nAnd', 'alone', 'and', 'without', 'his', 'nest', 'shall', 'the\\neagle', 'fly', 'across', 'the', 'sun.\\n\\n*****\\n\\nNow', 'when', 'he', 'reached', 'the', 'foot', 'of', 'the\\nhill,', 'he', 'turned', 'again', 'towards', 'the', 'sea,\\nand', 'he', 'saw', 'his', 'ship', 'approaching', 'the\\nharbour,', 'and', 'upon', 'her', 'prow', 'the', 'mariners,\\nthe', 'men', 'of', 'his', 'own', 'land.\\n\\nAnd', 'his', 'soul', 'cried', 'out', 'to', 'them,', 'and', 'he\\nsaid:\\n\\nSons', 'of', 'my', 'ancient', 'mother,', 'you', 'riders', 'of\\nthe', 'tides,\\n\\nHow', 'often', 'have', 'you', 'sailed', 'in', 'my', 'dreams.\\nAnd', 'now', 'you', 'come', 'in', 'my', 'awakening,', 'which\\nis', 'my', 'deeper', 'dream.\\n\\nReady', 'am', 'I', 'to', 'go,', 'and', 'my', 'eagerness', 'with\\nsails', 'full', 'set', 'awaits', 'the', 'wind.\\n\\nOnly', 'another', 'breath', 'will', 'I', 'breathe', 'in\\nthis', 'still', 'air,', 'only', 'another', 'loving', 'look\\ncast', 'backward,\\n\\nAnd', 'then', 'I', 'shall', 'stand', 'among', 'you,', 'a\\nseafarer', 'among', 'seafarers.', '', 'you,\\nvast', 'sea,', 'sleepless', 'mother,\\n\\nWho', 'alone', 'are', 'peace', 'and', 'freedom', 'to', 'the\\nriver', 'and', 'the', 'stream,\\n\\nOnly', 'another', 'winding', 'will', 'this', 'stream\\nmake,', 'only', 'another', 'murmur', 'in', 'this', 'glade,\\n\\nAnd', 'then', 'shall', 'I', 'come', 'to', 'you,', 'a\\nboundless', 'drop', 'to', 'a', 'boundless', 'ocean.\\n\\n*****\\n\\nAnd', 'as', 'he', 'walked', 'he', 'saw', 'from', 'afar', 'men\\nand', 'women', 'leaving', 'their', 'fields', 'and', 'their\\nvineyards', 'and', 'hastening', 'towards', 'the', 'city\\ngates.\\n\\nAnd', 'he', 'heard', 'their', 'voices', 'calling', 'his\\nname,', 'and', 'shouting', 'from', 'field', 'to', 'field\\ntelling', 'one', 'another', 'of', 'the', 'coming', 'of', 'his\\nship.\\n\\nAnd', 'he', 'said', 'to', 'himself:\\n\\nShall', 'the', 'day', 'of', 'parting', 'be', 'the', 'day', 'of\\ngathering?\\n\\nAnd', 'shall', 'it', 'be', 'said', 'that', 'my', 'eve', 'was', 'in\\ntruth', 'my', 'dawn?\\n\\nAnd', 'what', 'shall', 'I', 'give', 'unto', 'him', 'who', 'has\\nleft', 'his', 'plough', 'in', 'midfurrow,', 'or', 'to\\nhim', 'who', 'has', 'stopped', 'the', 'wheel', 'of', 'his\\nwinepress?', '', 'my', 'heart', 'become', 'a\\ntree', 'heavy-laden', 'with', 'fruit', 'that', 'I', 'may\\ngather', 'and', 'give', 'unto', 'them?\\n\\nAnd', 'shall', 'my', 'desires', 'flow', 'like', 'a\\nfountain', 'that', 'I', 'may', 'fill', 'their', 'cups?\\n\\nAm', 'I', 'a', 'harp', 'that', 'the', 'hand', 'of', 'the', 'mighty\\nmay', 'touch', 'me,', 'or', 'a', 'flute', 'that', 'his', 'breath\\nmay', 'pass', 'through', 'me?\\n\\nA', 'seeker', 'of', 'silences', 'am', 'I,', 'and', 'what\\ntreasure', 'have', 'I', 'found', 'in', 'silences', 'that', 'I\\nmay', 'dispense', 'with', 'confidence?\\n\\nIf', 'this', 'is', 'my', 'day', 'of', 'harvest,', 'in', 'what\\nfields', 'have', 'I', 'sowed', 'the', 'seed,', 'and', 'in\\nwhat', 'unremembered', 'seasons?\\n\\nIf', 'this', 'indeed', 'be', 'the', 'hour', 'in', 'which', 'I\\nlift', 'up', 'my', 'lantern,', 'it']\n"
     ]
    }
   ],
   "source": [
    "print(prophet_reference[0:600])"
   ]
  },
  {
   "cell_type": "markdown",
   "metadata": {},
   "source": [
    "Another thing you may have noticed is that some words contain a line break. Let's write a function to split those words. Our function will return the string split on the character `\\n`. Write your function in the cell below."
   ]
  },
  {
   "cell_type": "code",
   "execution_count": 10,
   "metadata": {},
   "outputs": [],
   "source": [
    "def line_break(x):\n",
    "    '''\n",
    "    Input: A string\n",
    "    Output: A list of strings split on the line break (\\n) character\n",
    "        \n",
    "    Example:\n",
    "    Input: 'the\\nbeloved'\n",
    "    Output: ['the', 'beloved']\n",
    "    '''\n",
    "    \n",
    "    # your code here\n",
    "    return x.split('\\n')"
   ]
  },
  {
   "cell_type": "markdown",
   "metadata": {},
   "source": [
    "Apply the `line_break` function to the `prophet_reference` list. Name the new list `prophet_line`."
   ]
  },
  {
   "cell_type": "code",
   "execution_count": 11,
   "metadata": {},
   "outputs": [],
   "source": [
    "# your code here\n",
    "\n",
    "prophet_line = list(map(line_break, prophet_reference))"
   ]
  },
  {
   "cell_type": "code",
   "execution_count": 12,
   "metadata": {},
   "outputs": [
    {
     "name": "stdout",
     "output_type": "stream",
     "text": [
      "[['PROPHET', '', '|Almustafa,'], ['the'], ['chosen'], ['and'], ['the', 'beloved,'], ['who'], ['was'], ['a'], ['dawn'], ['unto'], ['his'], ['own', 'day,'], ['had'], ['waited'], ['twelve'], ['years'], ['in'], ['the'], ['city', 'of'], ['Orphalese'], ['for'], ['his'], ['ship'], ['that'], ['was'], ['to', 'return'], ['and'], ['bear'], ['him'], ['back'], ['to'], ['the'], ['isle'], ['of', 'his'], ['birth.', '', 'And'], ['in'], ['the'], ['twelfth'], ['year,'], ['on'], ['the'], ['seventh', 'day'], ['of'], ['Ielool,'], ['the'], ['month'], ['of'], ['reaping,'], ['he', 'climbed'], ['the'], ['hill'], ['without'], ['the'], ['city'], ['walls', 'and'], ['looked'], ['seaward;'], ['and'], ['he'], ['beheld'], ['his', 'ship'], ['coming'], ['with'], ['the'], ['mist.', '', 'Then'], ['the'], ['gates'], ['of'], ['his'], ['heart'], ['were'], ['flung', 'open,'], ['and'], ['his'], ['joy'], ['flew'], ['far'], ['over'], ['the'], ['sea.', 'And'], ['he'], ['closed'], ['his'], ['eyes'], ['and'], ['prayed'], ['in'], ['the', 'silences'], ['of'], ['his'], ['soul.', '', '*****', '', 'But'], ['as'], ['he'], ['descended'], ['the'], ['hill,'], ['a'], ['sadness', 'came'], ['upon'], ['him,'], ['and'], ['he'], ['thought'], ['in'], ['his', 'heart:', '', 'How'], ['shall'], ['I'], ['go'], ['in'], ['peace'], ['and'], ['without', 'sorrow?'], ['Nay,'], ['not'], ['without'], ['a'], ['wound'], ['in'], ['the', 'spirit'], ['shall'], ['I'], ['leave'], ['this'], ['city.'], [''], ['the'], ['days'], ['of'], ['pain'], ['I'], ['have'], ['spent', 'within'], ['its'], ['walls,'], ['and'], ['long'], ['were'], ['the', 'nights'], ['of'], ['aloneness;'], ['and'], ['who'], ['can'], ['depart', 'from'], ['his'], ['pain'], ['and'], ['his'], ['aloneness'], ['without', 'regret?', '', 'Too'], ['many'], ['fragments'], ['of'], ['the'], ['spirit'], ['have'], ['I', 'scattered'], ['in'], ['these'], ['streets,'], ['and'], ['too'], ['many', 'are'], ['the'], ['children'], ['of'], ['my'], ['longing'], ['that'], ['walk', 'naked'], ['among'], ['these'], ['hills,'], ['and'], ['I'], ['cannot', 'withdraw'], ['from'], ['them'], ['without'], ['a'], ['burden'], ['and', 'an'], ['ache.', '', 'It'], ['is'], ['not'], ['a'], ['garment'], ['I'], ['cast'], ['off'], ['this', 'day,'], ['but'], ['a'], ['skin'], ['that'], ['I'], ['tear'], ['with'], ['my'], ['own', 'hands.', '', 'Nor'], ['is'], ['it'], ['a'], ['thought'], ['I'], ['leave'], ['behind'], ['me,', 'but'], ['a'], ['heart'], ['made'], ['sweet'], ['with'], ['hunger'], ['and', 'with'], ['thirst.', '', '*****', '', 'Yet'], ['I'], ['cannot'], ['tarry'], ['longer.', '', 'The'], ['sea'], ['that'], ['calls'], ['all'], ['things'], ['unto'], ['her', 'calls'], ['me,'], ['and'], ['I'], ['must'], ['embark.', '', 'For'], ['to'], ['stay,'], ['though'], ['the'], ['hours'], ['burn'], ['in', 'the'], ['night,'], ['is'], ['to'], ['freeze'], ['and'], ['crystallize', 'and'], ['be'], ['bound'], ['in'], ['a'], ['mould.', '', 'Fain'], ['would'], ['I'], ['take'], ['with'], ['me'], ['all'], ['that'], ['is', 'here.'], ['But'], ['how'], ['shall'], ['I?', '', 'A'], ['voice'], ['cannot'], ['carry'], ['the'], ['tongue'], ['and', ''], ['lips'], ['that'], ['gave'], ['it'], ['wings.'], ['Alone', 'must'], ['it'], ['seek'], ['the'], ['ether.', '', 'And'], ['alone'], ['and'], ['without'], ['his'], ['nest'], ['shall'], ['the', 'eagle'], ['fly'], ['across'], ['the'], ['sun.', '', '*****', '', 'Now'], ['when'], ['he'], ['reached'], ['the'], ['foot'], ['of'], ['the', 'hill,'], ['he'], ['turned'], ['again'], ['towards'], ['the'], ['sea,', 'and'], ['he'], ['saw'], ['his'], ['ship'], ['approaching'], ['the', 'harbour,'], ['and'], ['upon'], ['her'], ['prow'], ['the'], ['mariners,', 'the'], ['men'], ['of'], ['his'], ['own'], ['land.', '', 'And'], ['his'], ['soul'], ['cried'], ['out'], ['to'], ['them,'], ['and'], ['he', 'said:', '', 'Sons'], ['of'], ['my'], ['ancient'], ['mother,'], ['you'], ['riders'], ['of', 'the'], ['tides,', '', 'How'], ['often'], ['have'], ['you'], ['sailed'], ['in'], ['my'], ['dreams.', 'And'], ['now'], ['you'], ['come'], ['in'], ['my'], ['awakening,'], ['which', 'is'], ['my'], ['deeper'], ['dream.', '', 'Ready'], ['am'], ['I'], ['to'], ['go,'], ['and'], ['my'], ['eagerness'], ['with', 'sails'], ['full'], ['set'], ['awaits'], ['the'], ['wind.', '', 'Only'], ['another'], ['breath'], ['will'], ['I'], ['breathe'], ['in', 'this'], ['still'], ['air,'], ['only'], ['another'], ['loving'], ['look', 'cast'], ['backward,', '', 'And'], ['then'], ['I'], ['shall'], ['stand'], ['among'], ['you,'], ['a', 'seafarer'], ['among'], ['seafarers.'], [''], ['you,', 'vast'], ['sea,'], ['sleepless'], ['mother,', '', 'Who'], ['alone'], ['are'], ['peace'], ['and'], ['freedom'], ['to'], ['the', 'river'], ['and'], ['the'], ['stream,', '', 'Only'], ['another'], ['winding'], ['will'], ['this'], ['stream', 'make,'], ['only'], ['another'], ['murmur'], ['in'], ['this'], ['glade,', '', 'And'], ['then'], ['shall'], ['I'], ['come'], ['to'], ['you,'], ['a', 'boundless'], ['drop'], ['to'], ['a'], ['boundless'], ['ocean.', '', '*****', '', 'And'], ['as'], ['he'], ['walked'], ['he'], ['saw'], ['from'], ['afar'], ['men', 'and'], ['women'], ['leaving'], ['their'], ['fields'], ['and'], ['their', 'vineyards'], ['and'], ['hastening'], ['towards'], ['the'], ['city', 'gates.', '', 'And'], ['he'], ['heard'], ['their'], ['voices'], ['calling'], ['his', 'name,'], ['and'], ['shouting'], ['from'], ['field'], ['to'], ['field', 'telling'], ['one'], ['another'], ['of'], ['the'], ['coming'], ['of'], ['his', 'ship.', '', 'And'], ['he'], ['said'], ['to'], ['himself:', '', 'Shall'], ['the'], ['day'], ['of'], ['parting'], ['be'], ['the'], ['day'], ['of', 'gathering?', '', 'And'], ['shall'], ['it'], ['be'], ['said'], ['that'], ['my'], ['eve'], ['was'], ['in', 'truth'], ['my'], ['dawn?', '', 'And'], ['what'], ['shall'], ['I'], ['give'], ['unto'], ['him'], ['who'], ['has', 'left'], ['his'], ['plough'], ['in'], ['midfurrow,'], ['or'], ['to', 'him'], ['who'], ['has'], ['stopped'], ['the'], ['wheel'], ['of'], ['his', 'winepress?'], [''], ['my'], ['heart'], ['become'], ['a', 'tree'], ['heavy-laden'], ['with'], ['fruit'], ['that'], ['I'], ['may', 'gather'], ['and'], ['give'], ['unto'], ['them?', '', 'And'], ['shall'], ['my'], ['desires'], ['flow'], ['like'], ['a', 'fountain'], ['that'], ['I'], ['may'], ['fill'], ['their'], ['cups?', '', 'Am'], ['I'], ['a'], ['harp'], ['that'], ['the'], ['hand'], ['of'], ['the'], ['mighty', 'may'], ['touch'], ['me,'], ['or'], ['a'], ['flute'], ['that'], ['his'], ['breath', 'may'], ['pass'], ['through'], ['me?', '', 'A'], ['seeker'], ['of'], ['silences'], ['am'], ['I,'], ['and'], ['what', 'treasure'], ['have'], ['I'], ['found'], ['in'], ['silences'], ['that'], ['I', 'may'], ['dispense'], ['with'], ['confidence?', '', 'If'], ['this'], ['is'], ['my'], ['day'], ['of'], ['harvest,'], ['in'], ['what', 'fields'], ['have'], ['I'], ['sowed'], ['the'], ['seed,'], ['and'], ['in', 'what'], ['unremembered'], ['seasons?', '', 'If'], ['this'], ['indeed'], ['be'], ['the'], ['hour'], ['in'], ['which'], ['I', 'lift'], ['up'], ['my'], ['lantern,'], ['it']]\n"
     ]
    }
   ],
   "source": [
    "print(prophet_line[0:600])"
   ]
  },
  {
   "cell_type": "code",
   "execution_count": 13,
   "metadata": {},
   "outputs": [],
   "source": [
    "prophet_delist = [element for item in prophet_line for element in item]"
   ]
  },
  {
   "cell_type": "code",
   "execution_count": 14,
   "metadata": {},
   "outputs": [],
   "source": [
    "remove_empty_strings_from_prophet = [e for e in prophet_delist if e not in ('')]"
   ]
  },
  {
   "cell_type": "code",
   "execution_count": 16,
   "metadata": {},
   "outputs": [
    {
     "name": "stdout",
     "output_type": "stream",
     "text": [
      "['PROPHET', '|Almustafa,', 'the', 'chosen', 'and', 'the', 'beloved,', 'who', 'was', 'a', 'dawn', 'unto', 'his', 'own', 'day,', 'had', 'waited', 'twelve', 'years', 'in', 'the', 'city', 'of', 'Orphalese', 'for', 'his', 'ship', 'that', 'was', 'to', 'return', 'and', 'bear', 'him', 'back', 'to', 'the', 'isle', 'of', 'his', 'birth.', 'And', 'in', 'the', 'twelfth', 'year,', 'on', 'the', 'seventh', 'day', 'of', 'Ielool,', 'the', 'month', 'of', 'reaping,', 'he', 'climbed', 'the', 'hill', 'without', 'the', 'city', 'walls', 'and', 'looked', 'seaward;', 'and', 'he', 'beheld', 'his', 'ship', 'coming', 'with', 'the', 'mist.', 'Then', 'the', 'gates', 'of', 'his', 'heart', 'were', 'flung', 'open,', 'and', 'his', 'joy', 'flew', 'far', 'over', 'the', 'sea.', 'And', 'he', 'closed', 'his', 'eyes', 'and', 'prayed', 'in', 'the', 'silences', 'of', 'his', 'soul.', '*****', 'But', 'as', 'he', 'descended', 'the', 'hill,', 'a', 'sadness', 'came', 'upon', 'him,', 'and', 'he', 'thought', 'in', 'his', 'heart:', 'How', 'shall', 'I', 'go', 'in', 'peace', 'and', 'without', 'sorrow?', 'Nay,', 'not', 'without', 'a', 'wound', 'in', 'the', 'spirit', 'shall', 'I', 'leave', 'this', 'city.', 'the', 'days', 'of', 'pain', 'I', 'have', 'spent', 'within', 'its', 'walls,', 'and', 'long', 'were', 'the', 'nights', 'of', 'aloneness;', 'and', 'who', 'can', 'depart', 'from', 'his', 'pain', 'and', 'his', 'aloneness', 'without', 'regret?', 'Too', 'many', 'fragments', 'of', 'the', 'spirit', 'have', 'I', 'scattered', 'in', 'these', 'streets,', 'and', 'too', 'many', 'are', 'the', 'children', 'of', 'my', 'longing', 'that', 'walk', 'naked', 'among', 'these', 'hills,', 'and', 'I', 'cannot', 'withdraw', 'from', 'them', 'without', 'a', 'burden', 'and', 'an', 'ache.', 'It', 'is', 'not', 'a', 'garment', 'I', 'cast', 'off', 'this', 'day,', 'but', 'a', 'skin', 'that', 'I', 'tear', 'with', 'my', 'own', 'hands.', 'Nor', 'is', 'it', 'a', 'thought', 'I', 'leave', 'behind', 'me,', 'but', 'a', 'heart', 'made', 'sweet', 'with', 'hunger', 'and', 'with', 'thirst.', '*****', 'Yet', 'I', 'cannot', 'tarry', 'longer.', 'The', 'sea', 'that', 'calls', 'all', 'things', 'unto', 'her', 'calls', 'me,', 'and', 'I', 'must', 'embark.', 'For', 'to', 'stay,', 'though', 'the', 'hours', 'burn', 'in', 'the', 'night,', 'is', 'to', 'freeze', 'and', 'crystallize', 'and', 'be', 'bound', 'in', 'a', 'mould.', 'Fain', 'would', 'I', 'take', 'with', 'me', 'all', 'that', 'is', 'here.', 'But', 'how', 'shall', 'I?', 'A', 'voice', 'cannot', 'carry', 'the', 'tongue', 'and', 'lips', 'that', 'gave', 'it', 'wings.', 'Alone', 'must', 'it', 'seek', 'the', 'ether.', 'And', 'alone', 'and', 'without', 'his', 'nest', 'shall', 'the', 'eagle', 'fly', 'across', 'the', 'sun.', '*****', 'Now', 'when', 'he', 'reached', 'the', 'foot', 'of', 'the', 'hill,', 'he', 'turned', 'again', 'towards', 'the', 'sea,', 'and', 'he', 'saw', 'his', 'ship', 'approaching', 'the', 'harbour,', 'and', 'upon', 'her', 'prow', 'the', 'mariners,', 'the', 'men', 'of', 'his', 'own', 'land.', 'And', 'his', 'soul', 'cried', 'out', 'to', 'them,', 'and', 'he', 'said:', 'Sons', 'of', 'my', 'ancient', 'mother,', 'you', 'riders', 'of', 'the', 'tides,', 'How', 'often', 'have', 'you', 'sailed', 'in', 'my', 'dreams.', 'And', 'now', 'you', 'come', 'in', 'my', 'awakening,', 'which', 'is', 'my', 'deeper', 'dream.', 'Ready', 'am', 'I', 'to', 'go,', 'and', 'my', 'eagerness', 'with', 'sails', 'full', 'set', 'awaits', 'the', 'wind.', 'Only', 'another', 'breath', 'will', 'I', 'breathe', 'in', 'this', 'still', 'air,', 'only', 'another', 'loving', 'look', 'cast', 'backward,', 'And', 'then', 'I', 'shall', 'stand', 'among', 'you,', 'a', 'seafarer', 'among', 'seafarers.', 'you,', 'vast', 'sea,', 'sleepless', 'mother,', 'Who', 'alone', 'are', 'peace', 'and', 'freedom', 'to', 'the', 'river', 'and', 'the', 'stream,', 'Only', 'another', 'winding', 'will', 'this', 'stream', 'make,', 'only', 'another', 'murmur', 'in', 'this', 'glade,', 'And', 'then', 'shall', 'I', 'come', 'to', 'you,', 'a', 'boundless', 'drop', 'to', 'a', 'boundless', 'ocean.', '*****', 'And', 'as', 'he', 'walked', 'he', 'saw', 'from', 'afar', 'men', 'and', 'women', 'leaving', 'their', 'fields', 'and', 'their', 'vineyards', 'and', 'hastening', 'towards', 'the', 'city', 'gates.', 'And', 'he', 'heard', 'their', 'voices', 'calling', 'his', 'name,', 'and', 'shouting', 'from', 'field', 'to', 'field', 'telling', 'one', 'another', 'of', 'the', 'coming', 'of', 'his', 'ship.', 'And', 'he', 'said', 'to', 'himself:', 'Shall', 'the', 'day', 'of', 'parting', 'be', 'the', 'day', 'of', 'gathering?', 'And', 'shall', 'it', 'be', 'said', 'that', 'my', 'eve', 'was', 'in', 'truth', 'my', 'dawn?', 'And', 'what', 'shall', 'I', 'give', 'unto', 'him', 'who', 'has', 'left', 'his', 'plough', 'in', 'midfurrow,', 'or', 'to', 'him', 'who', 'has', 'stopped', 'the', 'wheel', 'of', 'his']\n"
     ]
    }
   ],
   "source": [
    "print(remove_empty_strings_from_prophet[0:600])"
   ]
  },
  {
   "cell_type": "markdown",
   "metadata": {},
   "source": [
    "If you look at the elements of `prophet_line`, you will see that the function returned lists and not strings. Our list is now a list of lists. Flatten the list using list comprehension. Assign this new list to `prophet_flat`."
   ]
  },
  {
   "cell_type": "code",
   "execution_count": 17,
   "metadata": {},
   "outputs": [],
   "source": [
    "# your code here\n",
    "\n",
    "prophet_flat = remove_empty_strings_from_prophet"
   ]
  },
  {
   "cell_type": "markdown",
   "metadata": {},
   "source": [
    "# Challenge 2 - Filtering\n",
    "\n",
    "When printing out a few words from the book, we see that there are words that we may not want to keep if we choose to analyze the corpus of text. Below is a list of words that we would like to get rid of. Create a function that will return false if it contains a word from the list of words specified and true otherwise."
   ]
  },
  {
   "cell_type": "code",
   "execution_count": 18,
   "metadata": {},
   "outputs": [],
   "source": [
    "def word_filter(x):\n",
    "    '''\n",
    "    Input: A string\n",
    "    Output: True if the word is not in the specified list \n",
    "    and False if the word is in the list.\n",
    "        \n",
    "    Example:\n",
    "    word list = ['and', 'the']\n",
    "    Input: 'and'\n",
    "    Output: False\n",
    "    \n",
    "    Input: 'John'\n",
    "    Output: True\n",
    "    '''\n",
    "    \n",
    "    word_list = ['and', 'the', 'a', 'an']\n",
    "    \n",
    "    # your code here\n",
    "    for i in x:\n",
    "        if i not in word_list:\n",
    "            return True\n",
    "        else:\n",
    "            return False"
   ]
  },
  {
   "cell_type": "code",
   "execution_count": 19,
   "metadata": {},
   "outputs": [],
   "source": [
    "prophet_filter = list(filter(word_filter, prophet_flat))"
   ]
  },
  {
   "cell_type": "markdown",
   "metadata": {},
   "source": [
    "Use the `filter()` function to filter out the words speficied in the `word_filter()` function. Store the filtered list in the variable `prophet_filter`."
   ]
  },
  {
   "cell_type": "code",
   "execution_count": 20,
   "metadata": {},
   "outputs": [
    {
     "name": "stdout",
     "output_type": "stream",
     "text": [
      "['PROPHET', '|Almustafa,', 'the', 'chosen', 'the', 'beloved,', 'who', 'was', 'dawn', 'unto', 'his', 'own', 'day,', 'had', 'waited', 'twelve', 'years', 'in', 'the', 'city', 'of', 'Orphalese', 'for', 'his', 'ship', 'that', 'was', 'to', 'return', 'bear', 'him', 'back', 'to', 'the', 'isle', 'of', 'his', 'birth.', 'And', 'in', 'the', 'twelfth', 'year,', 'on', 'the', 'seventh', 'day', 'of', 'Ielool,', 'the', 'month', 'of', 'reaping,', 'he', 'climbed', 'the', 'hill', 'without', 'the', 'city', 'walls', 'looked', 'seaward;', 'he', 'beheld', 'his', 'ship', 'coming', 'with', 'the', 'mist.', 'Then', 'the', 'gates', 'of', 'his', 'heart', 'were', 'flung', 'open,', 'his', 'joy', 'flew', 'far', 'over', 'the', 'sea.', 'And', 'he', 'closed', 'his', 'eyes', 'prayed', 'in', 'the', 'silences', 'of', 'his', 'soul.', '*****', 'But', 'he', 'descended', 'the', 'hill,', 'sadness', 'came', 'upon', 'him,', 'he', 'thought', 'in', 'his', 'heart:', 'How', 'shall', 'I', 'go', 'in', 'peace', 'without', 'sorrow?', 'Nay,', 'not', 'without', 'wound', 'in', 'the', 'spirit', 'shall', 'I', 'leave', 'this', 'city.', 'the', 'days', 'of', 'pain', 'I', 'have', 'spent', 'within', 'its', 'walls,', 'long', 'were', 'the', 'nights', 'of', 'who', 'can', 'depart', 'from', 'his', 'pain', 'his', 'without', 'regret?', 'Too', 'many', 'fragments', 'of', 'the', 'spirit', 'have', 'I', 'scattered', 'in', 'these', 'streets,', 'too', 'many', 'the', 'children', 'of', 'my', 'longing', 'that', 'walk', 'naked', 'these', 'hills,', 'I', 'cannot', 'withdraw', 'from', 'them', 'without', 'burden', 'It', 'is', 'not', 'garment', 'I', 'cast', 'off', 'this', 'day,', 'but', 'skin', 'that', 'I', 'tear', 'with', 'my', 'own', 'hands.', 'Nor', 'is', 'it', 'thought', 'I', 'leave', 'behind', 'me,', 'but', 'heart', 'made', 'sweet', 'with', 'hunger', 'with', 'thirst.', '*****', 'Yet', 'I', 'cannot', 'tarry', 'longer.', 'The', 'sea', 'that', 'calls', 'things', 'unto', 'her', 'calls', 'me,', 'I', 'must', 'embark.', 'For', 'to', 'stay,', 'though', 'the', 'hours', 'burn', 'in', 'the', 'night,', 'is', 'to', 'freeze', 'crystallize', 'be', 'bound', 'in', 'mould.', 'Fain', 'would', 'I', 'take', 'with', 'me', 'that', 'is', 'here.', 'But', 'how', 'shall', 'I?', 'A', 'voice', 'cannot', 'carry', 'the', 'tongue', 'lips', 'that', 'gave', 'it', 'wings.', 'Alone', 'must', 'it', 'seek', 'the', 'ether.', 'And', 'without', 'his', 'nest', 'shall', 'the', 'eagle', 'fly', 'the', 'sun.', '*****', 'Now', 'when', 'he', 'reached', 'the', 'foot', 'of', 'the', 'hill,', 'he', 'turned', 'towards', 'the', 'sea,', 'he', 'saw', 'his', 'ship', 'the', 'harbour,', 'upon', 'her', 'prow', 'the', 'mariners,', 'the', 'men', 'of', 'his', 'own', 'land.', 'And', 'his', 'soul', 'cried', 'out', 'to', 'them,', 'he', 'said:', 'Sons', 'of', 'my', 'mother,', 'you', 'riders', 'of', 'the', 'tides,', 'How', 'often', 'have', 'you', 'sailed', 'in', 'my', 'dreams.', 'And', 'now', 'you', 'come', 'in', 'my', 'which', 'is', 'my', 'deeper', 'dream.', 'Ready', 'I', 'to', 'go,', 'my', 'eagerness', 'with', 'sails', 'full', 'set', 'the', 'wind.', 'Only', 'breath', 'will', 'I', 'breathe', 'in', 'this', 'still', 'only', 'loving', 'look', 'cast', 'backward,', 'And', 'then', 'I', 'shall', 'stand', 'you,', 'seafarer', 'seafarers.', 'you,', 'vast', 'sea,', 'sleepless', 'mother,', 'Who', 'peace', 'freedom', 'to', 'the', 'river', 'the', 'stream,', 'Only', 'winding', 'will', 'this', 'stream', 'make,', 'only', 'murmur', 'in', 'this', 'glade,', 'And', 'then', 'shall', 'I', 'come', 'to', 'you,', 'boundless', 'drop', 'to', 'boundless', 'ocean.', '*****', 'And', 'he', 'walked', 'he', 'saw', 'from', 'men', 'women', 'leaving', 'their', 'fields', 'their', 'vineyards', 'hastening', 'towards', 'the', 'city', 'gates.', 'And', 'he', 'heard', 'their', 'voices', 'calling', 'his', 'name,', 'shouting', 'from', 'field', 'to', 'field', 'telling', 'one', 'of', 'the', 'coming', 'of', 'his', 'ship.', 'And', 'he', 'said', 'to', 'himself:', 'Shall', 'the', 'day', 'of', 'parting', 'be', 'the', 'day', 'of', 'gathering?', 'And', 'shall', 'it', 'be', 'said', 'that', 'my', 'eve', 'was', 'in', 'truth', 'my', 'dawn?', 'And', 'what', 'shall', 'I', 'give', 'unto', 'him', 'who', 'has', 'left', 'his', 'plough', 'in', 'midfurrow,', 'or', 'to', 'him', 'who', 'has', 'stopped', 'the', 'wheel', 'of', 'his', 'winepress?', 'my', 'heart', 'become', 'tree', 'heavy-laden', 'with', 'fruit', 'that', 'I', 'may', 'gather', 'give', 'unto', 'them?', 'And', 'shall', 'my', 'desires', 'flow', 'like', 'fountain', 'that', 'I', 'may', 'fill', 'their', 'cups?', 'Am', 'I', 'harp', 'that', 'the', 'hand', 'of', 'the', 'mighty', 'may', 'touch', 'me,', 'or', 'flute', 'that', 'his', 'breath', 'may', 'pass', 'through', 'me?', 'A', 'seeker', 'of', 'silences', 'I,', 'what', 'treasure', 'have', 'I', 'found', 'in', 'silences', 'that', 'I', 'may', 'dispense', 'with', 'confidence?', 'If', 'this', 'is', 'my']\n"
     ]
    }
   ],
   "source": [
    "print(prophet_filter[0:600])"
   ]
  },
  {
   "cell_type": "markdown",
   "metadata": {},
   "source": [
    "# Bonus Challenge\n",
    "\n",
    "Rewrite the `word_filter` function above to not be case sensitive."
   ]
  },
  {
   "cell_type": "code",
   "execution_count": 21,
   "metadata": {},
   "outputs": [],
   "source": [
    "def word_filter_case(x):\n",
    "   \n",
    "    word_list = ['and', 'the', 'a', 'an']\n",
    "    \n",
    "    # your code here\n",
    "    #for i in x:\n",
    "    each_word_lower = x.lower()\n",
    "    if each_word_lower not in word_list:\n",
    "        return True\n",
    "    else:\n",
    "        return False"
   ]
  },
  {
   "cell_type": "code",
   "execution_count": 22,
   "metadata": {},
   "outputs": [],
   "source": [
    "prophet_filter_all = list(filter(word_filter_case, prophet_flat))"
   ]
  },
  {
   "cell_type": "code",
   "execution_count": 23,
   "metadata": {},
   "outputs": [
    {
     "name": "stdout",
     "output_type": "stream",
     "text": [
      "['PROPHET', '|Almustafa,', 'chosen', 'beloved,', 'who', 'was', 'dawn', 'unto', 'his', 'own', 'day,', 'had', 'waited', 'twelve', 'years', 'in', 'city', 'of', 'Orphalese', 'for', 'his', 'ship', 'that', 'was', 'to', 'return', 'bear', 'him', 'back', 'to', 'isle', 'of', 'his', 'birth.', 'in', 'twelfth', 'year,', 'on', 'seventh', 'day', 'of', 'Ielool,', 'month', 'of', 'reaping,', 'he', 'climbed', 'hill', 'without', 'city', 'walls', 'looked', 'seaward;', 'he', 'beheld', 'his', 'ship', 'coming', 'with', 'mist.', 'Then', 'gates', 'of', 'his', 'heart', 'were', 'flung', 'open,', 'his', 'joy', 'flew', 'far', 'over', 'sea.', 'he', 'closed', 'his', 'eyes', 'prayed', 'in', 'silences', 'of', 'his', 'soul.', '*****', 'But', 'as', 'he', 'descended', 'hill,', 'sadness', 'came', 'upon', 'him,', 'he', 'thought', 'in', 'his', 'heart:', 'How', 'shall', 'I', 'go', 'in', 'peace', 'without', 'sorrow?', 'Nay,', 'not', 'without', 'wound', 'in', 'spirit', 'shall', 'I', 'leave', 'this', 'city.', 'days', 'of', 'pain', 'I', 'have', 'spent', 'within', 'its', 'walls,', 'long', 'were', 'nights', 'of', 'aloneness;', 'who', 'can', 'depart', 'from', 'his', 'pain', 'his', 'aloneness', 'without', 'regret?', 'Too', 'many', 'fragments', 'of', 'spirit', 'have', 'I', 'scattered', 'in', 'these', 'streets,', 'too', 'many', 'are', 'children', 'of', 'my', 'longing', 'that', 'walk', 'naked', 'among', 'these', 'hills,', 'I', 'cannot', 'withdraw', 'from', 'them', 'without', 'burden', 'ache.', 'It', 'is', 'not', 'garment', 'I', 'cast', 'off', 'this', 'day,', 'but', 'skin', 'that', 'I', 'tear', 'with', 'my', 'own', 'hands.', 'Nor', 'is', 'it', 'thought', 'I', 'leave', 'behind', 'me,', 'but', 'heart', 'made', 'sweet', 'with', 'hunger', 'with', 'thirst.', '*****', 'Yet', 'I', 'cannot', 'tarry', 'longer.', 'sea', 'that', 'calls', 'all', 'things', 'unto', 'her', 'calls', 'me,', 'I', 'must', 'embark.', 'For', 'to', 'stay,', 'though', 'hours', 'burn', 'in', 'night,', 'is', 'to', 'freeze', 'crystallize', 'be', 'bound', 'in', 'mould.', 'Fain', 'would', 'I', 'take', 'with', 'me', 'all', 'that', 'is', 'here.', 'But', 'how', 'shall', 'I?', 'voice', 'cannot', 'carry', 'tongue', 'lips', 'that', 'gave', 'it', 'wings.', 'Alone', 'must', 'it', 'seek', 'ether.', 'alone', 'without', 'his', 'nest', 'shall', 'eagle', 'fly', 'across', 'sun.', '*****', 'Now', 'when', 'he', 'reached', 'foot', 'of', 'hill,', 'he', 'turned', 'again', 'towards', 'sea,', 'he', 'saw', 'his', 'ship', 'approaching', 'harbour,', 'upon', 'her', 'prow', 'mariners,', 'men', 'of', 'his', 'own', 'land.', 'his', 'soul', 'cried', 'out', 'to', 'them,', 'he', 'said:', 'Sons', 'of', 'my', 'ancient', 'mother,', 'you', 'riders', 'of', 'tides,', 'How', 'often', 'have', 'you', 'sailed', 'in', 'my', 'dreams.', 'now', 'you', 'come', 'in', 'my', 'awakening,', 'which', 'is', 'my', 'deeper', 'dream.', 'Ready', 'am', 'I', 'to', 'go,', 'my', 'eagerness', 'with', 'sails', 'full', 'set', 'awaits', 'wind.', 'Only', 'another', 'breath', 'will', 'I', 'breathe', 'in', 'this', 'still', 'air,', 'only', 'another', 'loving', 'look', 'cast', 'backward,', 'then', 'I', 'shall', 'stand', 'among', 'you,', 'seafarer', 'among', 'seafarers.', 'you,', 'vast', 'sea,', 'sleepless', 'mother,', 'Who', 'alone', 'are', 'peace', 'freedom', 'to', 'river', 'stream,', 'Only', 'another', 'winding', 'will', 'this', 'stream', 'make,', 'only', 'another', 'murmur', 'in', 'this', 'glade,', 'then', 'shall', 'I', 'come', 'to', 'you,', 'boundless', 'drop', 'to', 'boundless', 'ocean.', '*****', 'as', 'he', 'walked', 'he', 'saw', 'from', 'afar', 'men', 'women', 'leaving', 'their', 'fields', 'their', 'vineyards', 'hastening', 'towards', 'city', 'gates.', 'he', 'heard', 'their', 'voices', 'calling', 'his', 'name,', 'shouting', 'from', 'field', 'to', 'field', 'telling', 'one', 'another', 'of', 'coming', 'of', 'his', 'ship.', 'he', 'said', 'to', 'himself:', 'Shall', 'day', 'of', 'parting', 'be', 'day', 'of', 'gathering?', 'shall', 'it', 'be', 'said', 'that', 'my', 'eve', 'was', 'in', 'truth', 'my', 'dawn?', 'what', 'shall', 'I', 'give', 'unto', 'him', 'who', 'has', 'left', 'his', 'plough', 'in', 'midfurrow,', 'or', 'to', 'him', 'who', 'has', 'stopped', 'wheel', 'of', 'his', 'winepress?', 'my', 'heart', 'become', 'tree', 'heavy-laden', 'with', 'fruit', 'that', 'I', 'may', 'gather', 'give', 'unto', 'them?', 'shall', 'my', 'desires', 'flow', 'like', 'fountain', 'that', 'I', 'may', 'fill', 'their', 'cups?', 'Am', 'I', 'harp', 'that', 'hand', 'of', 'mighty', 'may', 'touch', 'me,', 'or', 'flute', 'that', 'his', 'breath', 'may', 'pass', 'through', 'me?', 'seeker', 'of', 'silences', 'am', 'I,', 'what', 'treasure', 'have', 'I', 'found', 'in', 'silences', 'that', 'I', 'may', 'dispense', 'with', 'confidence?', 'If', 'this', 'is', 'my', 'day', 'of', 'harvest,', 'in', 'what', 'fields', 'have', 'I', 'sowed', 'seed,', 'in', 'what', 'unremembered', 'seasons?', 'If', 'this', 'indeed', 'be', 'hour', 'in', 'which', 'I', 'lift', 'up', 'my', 'lantern,', 'it', 'is', 'not']\n"
     ]
    }
   ],
   "source": [
    "print(prophet_filter_all[0:600])"
   ]
  },
  {
   "cell_type": "markdown",
   "metadata": {},
   "source": [
    "# Challenge 3 - Reducing\n",
    "\n",
    "#### Now that we have significantly cleaned up our text corpus, let's use the `reduce()` function to put the words back together into one long string separated by spaces. \n",
    "\n",
    "We will start by writing a function that takes two strings and concatenates them together with a space between the two strings."
   ]
  },
  {
   "cell_type": "code",
   "execution_count": 24,
   "metadata": {},
   "outputs": [],
   "source": [
    "def concat_space(a, b):\n",
    "    '''\n",
    "    Input:Two strings\n",
    "    Output: A single string separated by a space\n",
    "        \n",
    "    Example:\n",
    "    Input: 'John', 'Smith'\n",
    "    Output: 'John Smith'\n",
    "    '''\n",
    "    \n",
    "    # your code here\n",
    "\n",
    "    return a + \" \" + b\n"
   ]
  },
  {
   "cell_type": "markdown",
   "metadata": {},
   "source": [
    "Use the function above to reduce the text corpus in the list `prophet_filter` into a single string. Assign this new string to the variable `prophet_string`."
   ]
  },
  {
   "cell_type": "code",
   "execution_count": 25,
   "metadata": {},
   "outputs": [],
   "source": [
    "# your code here\n",
    "prophet_string = reduce(concat_space, prophet_filter_all)"
   ]
  },
  {
   "cell_type": "code",
   "execution_count": 26,
   "metadata": {},
   "outputs": [
    {
     "name": "stdout",
     "output_type": "stream",
     "text": [
      "PROPHET |Almustafa, chosen beloved, who was dawn unto his own day, had waited twelve years in city of Orphalese for his ship that was to return bear him back to isle of his birth. in twelfth year, on seventh day of Ielool, month of reaping, he climbed hill without city walls looked seaward; he beheld his ship coming with mist. Then gates of his heart were flung open, his joy flew far over sea. he closed his eyes prayed in silences of his soul. ***** But as he descended hill, sadness came upon him, he thought in his heart: How shall I go in peace without sorrow? Nay, not without wound in spirit\n"
     ]
    }
   ],
   "source": [
    "print(prophet_string[0:600])"
   ]
  },
  {
   "cell_type": "markdown",
   "metadata": {},
   "source": [
    "# Challenge 4 - Applying Functions to DataFrames\n",
    "\n",
    "#### Our next step is to use the apply function to a dataframe and transform all cells.\n",
    "\n",
    "To do this, we will connect to Ironhack's database and retrieve the data from the *pollution* database. Select the *beijing_pollution* table and retrieve its data."
   ]
  },
  {
   "cell_type": "code",
   "execution_count": 27,
   "metadata": {},
   "outputs": [],
   "source": [
    "# your code here\n",
    "\n",
    "#cols = ['time', 'rad_flow', 'fpv_close', 'fpv_open', 'high', 'bypass', 'bpv_close', 'bpv_open', 'class']\n",
    "data_url = 'https://archive.ics.uci.edu/ml/machine-learning-databases/00381/PRSA_data_2010.1.1-2014.12.31.csv'\n",
    "# your code here\n",
    "\n",
    "beijing_pollution_table_df = pd.read_csv(data_url)"
   ]
  },
  {
   "cell_type": "markdown",
   "metadata": {},
   "source": [
    "Let's look at the data using the `head()` function."
   ]
  },
  {
   "cell_type": "code",
   "execution_count": 28,
   "metadata": {},
   "outputs": [
    {
     "data": {
      "text/html": [
       "<div>\n",
       "<style scoped>\n",
       "    .dataframe tbody tr th:only-of-type {\n",
       "        vertical-align: middle;\n",
       "    }\n",
       "\n",
       "    .dataframe tbody tr th {\n",
       "        vertical-align: top;\n",
       "    }\n",
       "\n",
       "    .dataframe thead th {\n",
       "        text-align: right;\n",
       "    }\n",
       "</style>\n",
       "<table border=\"1\" class=\"dataframe\">\n",
       "  <thead>\n",
       "    <tr style=\"text-align: right;\">\n",
       "      <th></th>\n",
       "      <th>No</th>\n",
       "      <th>year</th>\n",
       "      <th>month</th>\n",
       "      <th>day</th>\n",
       "      <th>hour</th>\n",
       "      <th>pm2.5</th>\n",
       "      <th>DEWP</th>\n",
       "      <th>TEMP</th>\n",
       "      <th>PRES</th>\n",
       "      <th>cbwd</th>\n",
       "      <th>Iws</th>\n",
       "      <th>Is</th>\n",
       "      <th>Ir</th>\n",
       "    </tr>\n",
       "  </thead>\n",
       "  <tbody>\n",
       "    <tr>\n",
       "      <th>0</th>\n",
       "      <td>1</td>\n",
       "      <td>2010</td>\n",
       "      <td>1</td>\n",
       "      <td>1</td>\n",
       "      <td>0</td>\n",
       "      <td>NaN</td>\n",
       "      <td>-21</td>\n",
       "      <td>-11.0</td>\n",
       "      <td>1021.0</td>\n",
       "      <td>NW</td>\n",
       "      <td>1.79</td>\n",
       "      <td>0</td>\n",
       "      <td>0</td>\n",
       "    </tr>\n",
       "    <tr>\n",
       "      <th>1</th>\n",
       "      <td>2</td>\n",
       "      <td>2010</td>\n",
       "      <td>1</td>\n",
       "      <td>1</td>\n",
       "      <td>1</td>\n",
       "      <td>NaN</td>\n",
       "      <td>-21</td>\n",
       "      <td>-12.0</td>\n",
       "      <td>1020.0</td>\n",
       "      <td>NW</td>\n",
       "      <td>4.92</td>\n",
       "      <td>0</td>\n",
       "      <td>0</td>\n",
       "    </tr>\n",
       "    <tr>\n",
       "      <th>2</th>\n",
       "      <td>3</td>\n",
       "      <td>2010</td>\n",
       "      <td>1</td>\n",
       "      <td>1</td>\n",
       "      <td>2</td>\n",
       "      <td>NaN</td>\n",
       "      <td>-21</td>\n",
       "      <td>-11.0</td>\n",
       "      <td>1019.0</td>\n",
       "      <td>NW</td>\n",
       "      <td>6.71</td>\n",
       "      <td>0</td>\n",
       "      <td>0</td>\n",
       "    </tr>\n",
       "    <tr>\n",
       "      <th>3</th>\n",
       "      <td>4</td>\n",
       "      <td>2010</td>\n",
       "      <td>1</td>\n",
       "      <td>1</td>\n",
       "      <td>3</td>\n",
       "      <td>NaN</td>\n",
       "      <td>-21</td>\n",
       "      <td>-14.0</td>\n",
       "      <td>1019.0</td>\n",
       "      <td>NW</td>\n",
       "      <td>9.84</td>\n",
       "      <td>0</td>\n",
       "      <td>0</td>\n",
       "    </tr>\n",
       "    <tr>\n",
       "      <th>4</th>\n",
       "      <td>5</td>\n",
       "      <td>2010</td>\n",
       "      <td>1</td>\n",
       "      <td>1</td>\n",
       "      <td>4</td>\n",
       "      <td>NaN</td>\n",
       "      <td>-20</td>\n",
       "      <td>-12.0</td>\n",
       "      <td>1018.0</td>\n",
       "      <td>NW</td>\n",
       "      <td>12.97</td>\n",
       "      <td>0</td>\n",
       "      <td>0</td>\n",
       "    </tr>\n",
       "    <tr>\n",
       "      <th>5</th>\n",
       "      <td>6</td>\n",
       "      <td>2010</td>\n",
       "      <td>1</td>\n",
       "      <td>1</td>\n",
       "      <td>5</td>\n",
       "      <td>NaN</td>\n",
       "      <td>-19</td>\n",
       "      <td>-10.0</td>\n",
       "      <td>1017.0</td>\n",
       "      <td>NW</td>\n",
       "      <td>16.10</td>\n",
       "      <td>0</td>\n",
       "      <td>0</td>\n",
       "    </tr>\n",
       "    <tr>\n",
       "      <th>6</th>\n",
       "      <td>7</td>\n",
       "      <td>2010</td>\n",
       "      <td>1</td>\n",
       "      <td>1</td>\n",
       "      <td>6</td>\n",
       "      <td>NaN</td>\n",
       "      <td>-19</td>\n",
       "      <td>-9.0</td>\n",
       "      <td>1017.0</td>\n",
       "      <td>NW</td>\n",
       "      <td>19.23</td>\n",
       "      <td>0</td>\n",
       "      <td>0</td>\n",
       "    </tr>\n",
       "    <tr>\n",
       "      <th>7</th>\n",
       "      <td>8</td>\n",
       "      <td>2010</td>\n",
       "      <td>1</td>\n",
       "      <td>1</td>\n",
       "      <td>7</td>\n",
       "      <td>NaN</td>\n",
       "      <td>-19</td>\n",
       "      <td>-9.0</td>\n",
       "      <td>1017.0</td>\n",
       "      <td>NW</td>\n",
       "      <td>21.02</td>\n",
       "      <td>0</td>\n",
       "      <td>0</td>\n",
       "    </tr>\n",
       "    <tr>\n",
       "      <th>8</th>\n",
       "      <td>9</td>\n",
       "      <td>2010</td>\n",
       "      <td>1</td>\n",
       "      <td>1</td>\n",
       "      <td>8</td>\n",
       "      <td>NaN</td>\n",
       "      <td>-19</td>\n",
       "      <td>-9.0</td>\n",
       "      <td>1017.0</td>\n",
       "      <td>NW</td>\n",
       "      <td>24.15</td>\n",
       "      <td>0</td>\n",
       "      <td>0</td>\n",
       "    </tr>\n",
       "    <tr>\n",
       "      <th>9</th>\n",
       "      <td>10</td>\n",
       "      <td>2010</td>\n",
       "      <td>1</td>\n",
       "      <td>1</td>\n",
       "      <td>9</td>\n",
       "      <td>NaN</td>\n",
       "      <td>-20</td>\n",
       "      <td>-8.0</td>\n",
       "      <td>1017.0</td>\n",
       "      <td>NW</td>\n",
       "      <td>27.28</td>\n",
       "      <td>0</td>\n",
       "      <td>0</td>\n",
       "    </tr>\n",
       "  </tbody>\n",
       "</table>\n",
       "</div>"
      ],
      "text/plain": [
       "   No  year  month  day  hour  pm2.5  DEWP  TEMP    PRES cbwd    Iws  Is  Ir\n",
       "0   1  2010      1    1     0    NaN   -21 -11.0  1021.0   NW   1.79   0   0\n",
       "1   2  2010      1    1     1    NaN   -21 -12.0  1020.0   NW   4.92   0   0\n",
       "2   3  2010      1    1     2    NaN   -21 -11.0  1019.0   NW   6.71   0   0\n",
       "3   4  2010      1    1     3    NaN   -21 -14.0  1019.0   NW   9.84   0   0\n",
       "4   5  2010      1    1     4    NaN   -20 -12.0  1018.0   NW  12.97   0   0\n",
       "5   6  2010      1    1     5    NaN   -19 -10.0  1017.0   NW  16.10   0   0\n",
       "6   7  2010      1    1     6    NaN   -19  -9.0  1017.0   NW  19.23   0   0\n",
       "7   8  2010      1    1     7    NaN   -19  -9.0  1017.0   NW  21.02   0   0\n",
       "8   9  2010      1    1     8    NaN   -19  -9.0  1017.0   NW  24.15   0   0\n",
       "9  10  2010      1    1     9    NaN   -20  -8.0  1017.0   NW  27.28   0   0"
      ]
     },
     "execution_count": 28,
     "metadata": {},
     "output_type": "execute_result"
    }
   ],
   "source": [
    "# your code here\n",
    "\n",
    "beijing_pollution_table_df.head(10)"
   ]
  },
  {
   "cell_type": "markdown",
   "metadata": {},
   "source": [
    "The next step is to create a function that divides a cell by 24 to produce an hourly figure. Write the function below."
   ]
  },
  {
   "cell_type": "code",
   "execution_count": 29,
   "metadata": {},
   "outputs": [],
   "source": [
    "def hourly(x):\n",
    "    '''\n",
    "    Input: A numerical value\n",
    "    Output: The value divided by 24\n",
    "        \n",
    "    Example:\n",
    "    Input: 48\n",
    "    Output: 2.0\n",
    "    '''\n",
    "    \n",
    "    # your code here\n",
    "    return x / 24"
   ]
  },
  {
   "cell_type": "markdown",
   "metadata": {},
   "source": [
    "Apply this function to the columns `Iws`, `Is`, and `Ir`. Store this new dataframe in the variable `pm25_hourly`."
   ]
  },
  {
   "cell_type": "code",
   "execution_count": 30,
   "metadata": {},
   "outputs": [],
   "source": [
    "# your code here\n",
    "\n",
    "pm25_hourly = beijing_pollution_table_df[['Iws', 'Is', 'Ir']].apply(hourly)"
   ]
  },
  {
   "cell_type": "code",
   "execution_count": 31,
   "metadata": {},
   "outputs": [
    {
     "data": {
      "text/html": [
       "<div>\n",
       "<style scoped>\n",
       "    .dataframe tbody tr th:only-of-type {\n",
       "        vertical-align: middle;\n",
       "    }\n",
       "\n",
       "    .dataframe tbody tr th {\n",
       "        vertical-align: top;\n",
       "    }\n",
       "\n",
       "    .dataframe thead th {\n",
       "        text-align: right;\n",
       "    }\n",
       "</style>\n",
       "<table border=\"1\" class=\"dataframe\">\n",
       "  <thead>\n",
       "    <tr style=\"text-align: right;\">\n",
       "      <th></th>\n",
       "      <th>Iws</th>\n",
       "      <th>Is</th>\n",
       "      <th>Ir</th>\n",
       "    </tr>\n",
       "  </thead>\n",
       "  <tbody>\n",
       "    <tr>\n",
       "      <th>0</th>\n",
       "      <td>0.074583</td>\n",
       "      <td>0.0</td>\n",
       "      <td>0.0</td>\n",
       "    </tr>\n",
       "    <tr>\n",
       "      <th>1</th>\n",
       "      <td>0.205000</td>\n",
       "      <td>0.0</td>\n",
       "      <td>0.0</td>\n",
       "    </tr>\n",
       "    <tr>\n",
       "      <th>2</th>\n",
       "      <td>0.279583</td>\n",
       "      <td>0.0</td>\n",
       "      <td>0.0</td>\n",
       "    </tr>\n",
       "    <tr>\n",
       "      <th>3</th>\n",
       "      <td>0.410000</td>\n",
       "      <td>0.0</td>\n",
       "      <td>0.0</td>\n",
       "    </tr>\n",
       "    <tr>\n",
       "      <th>4</th>\n",
       "      <td>0.540417</td>\n",
       "      <td>0.0</td>\n",
       "      <td>0.0</td>\n",
       "    </tr>\n",
       "    <tr>\n",
       "      <th>...</th>\n",
       "      <td>...</td>\n",
       "      <td>...</td>\n",
       "      <td>...</td>\n",
       "    </tr>\n",
       "    <tr>\n",
       "      <th>43819</th>\n",
       "      <td>9.665417</td>\n",
       "      <td>0.0</td>\n",
       "      <td>0.0</td>\n",
       "    </tr>\n",
       "    <tr>\n",
       "      <th>43820</th>\n",
       "      <td>9.907500</td>\n",
       "      <td>0.0</td>\n",
       "      <td>0.0</td>\n",
       "    </tr>\n",
       "    <tr>\n",
       "      <th>43821</th>\n",
       "      <td>10.112500</td>\n",
       "      <td>0.0</td>\n",
       "      <td>0.0</td>\n",
       "    </tr>\n",
       "    <tr>\n",
       "      <th>43822</th>\n",
       "      <td>10.280000</td>\n",
       "      <td>0.0</td>\n",
       "      <td>0.0</td>\n",
       "    </tr>\n",
       "    <tr>\n",
       "      <th>43823</th>\n",
       "      <td>10.410417</td>\n",
       "      <td>0.0</td>\n",
       "      <td>0.0</td>\n",
       "    </tr>\n",
       "  </tbody>\n",
       "</table>\n",
       "<p>43824 rows × 3 columns</p>\n",
       "</div>"
      ],
      "text/plain": [
       "             Iws   Is   Ir\n",
       "0       0.074583  0.0  0.0\n",
       "1       0.205000  0.0  0.0\n",
       "2       0.279583  0.0  0.0\n",
       "3       0.410000  0.0  0.0\n",
       "4       0.540417  0.0  0.0\n",
       "...          ...  ...  ...\n",
       "43819   9.665417  0.0  0.0\n",
       "43820   9.907500  0.0  0.0\n",
       "43821  10.112500  0.0  0.0\n",
       "43822  10.280000  0.0  0.0\n",
       "43823  10.410417  0.0  0.0\n",
       "\n",
       "[43824 rows x 3 columns]"
      ]
     },
     "execution_count": 31,
     "metadata": {},
     "output_type": "execute_result"
    }
   ],
   "source": [
    "pm25_hourly"
   ]
  },
  {
   "cell_type": "markdown",
   "metadata": {},
   "source": [
    "#### Our last challenge will be to create an aggregate function and apply it to a select group of columns in our dataframe.\n",
    "\n",
    "Write a function that returns the standard deviation of a column divided by the length of a column minus 1. Since we are using pandas, do not use the `len()` function. One alternative is to use `count()`. Also, use the numpy version of standard deviation."
   ]
  },
  {
   "cell_type": "code",
   "execution_count": 32,
   "metadata": {},
   "outputs": [],
   "source": [
    "def sample_sd(x):\n",
    "    '''\n",
    "    Input: A Pandas series of values\n",
    "    Output: the standard deviation divided by the number of elements in the series\n",
    "        \n",
    "    Example:\n",
    "    Input: pd.Series([1,2,3,4])\n",
    "    Output: 0.3726779962\n",
    "    '''\n",
    "    # your code here\n",
    "    std_dev = np.std(x)\n",
    "    len_col_minus_one = x.count() - 1\n",
    "    return std_dev / len_col_minus_one"
   ]
  },
  {
   "cell_type": "code",
   "execution_count": 33,
   "metadata": {},
   "outputs": [
    {
     "data": {
      "text/plain": [
       "TEMP    0.000278\n",
       "PRES    0.000234\n",
       "Iws     0.001141\n",
       "Is      0.000017\n",
       "Ir      0.000032\n",
       "dtype: float64"
      ]
     },
     "execution_count": 33,
     "metadata": {},
     "output_type": "execute_result"
    }
   ],
   "source": [
    "sample_sd(beijing_pollution_table_df[['TEMP','PRES','Iws', 'Is', 'Ir']])"
   ]
  },
  {
   "cell_type": "code",
   "execution_count": 34,
   "metadata": {},
   "outputs": [
    {
     "data": {
      "text/plain": [
       "0.37267799624996495"
      ]
     },
     "execution_count": 34,
     "metadata": {},
     "output_type": "execute_result"
    }
   ],
   "source": [
    "sample_sd(pd.Series([1,2,3,4]))"
   ]
  }
 ],
 "metadata": {
  "kernelspec": {
   "display_name": "Python [conda env:ironhack_env]",
   "language": "python",
   "name": "conda-env-ironhack_env-py"
  },
  "language_info": {
   "codemirror_mode": {
    "name": "ipython",
    "version": 3
   },
   "file_extension": ".py",
   "mimetype": "text/x-python",
   "name": "python",
   "nbconvert_exporter": "python",
   "pygments_lexer": "ipython3",
   "version": "3.8.5"
  }
 },
 "nbformat": 4,
 "nbformat_minor": 4
}
